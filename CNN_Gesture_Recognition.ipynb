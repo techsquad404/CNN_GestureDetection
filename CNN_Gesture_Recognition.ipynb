{
 "cells": [
  {
   "cell_type": "markdown",
   "metadata": {},
   "source": [
    "# Gesture Recognition\n",
    "In this group project, you are going to build a 3D Conv model that will be able to predict the 5 gestures correctly. Please import the following libraries to get started."
   ]
  },
  {
   "cell_type": "code",
   "execution_count": 1,
   "metadata": {},
   "outputs": [],
   "source": [
    "import numpy as np\n",
    "import os\n",
    "from scipy.misc import imread, imresize\n",
    "import datetime\n",
    "import os\n",
    "import cv2\n",
    "import matplotlib.pyplot as plt\n",
    "\n"
   ]
  },
  {
   "cell_type": "code",
   "execution_count": null,
   "metadata": {},
   "outputs": [],
   "source": [
    "pip install scipy==1.1.0"
   ]
  },
  {
   "cell_type": "markdown",
   "metadata": {},
   "source": [
    "We set the random seed so that the results don't vary drastically."
   ]
  },
  {
   "cell_type": "code",
   "execution_count": 2,
   "metadata": {},
   "outputs": [],
   "source": [
    "np.random.seed(30)\n",
    "import random as rn\n",
    "rn.seed(30)\n",
    "from keras import backend as K\n",
    "import tensorflow as tf\n",
    "tf.random.set_seed(30) "
   ]
  },
  {
   "cell_type": "markdown",
   "metadata": {},
   "source": [
    "In this block, you read the folder names for training and validation. You also set the `batch_size` here. Note that you set the batch size in such a way that you are able to use the GPU in full capacity. You keep increasing the batch size until the machine throws an error."
   ]
  },
  {
   "cell_type": "code",
   "execution_count": 3,
   "metadata": {},
   "outputs": [],
   "source": [
    "train_doc = np.random.permutation(open('/datasets/Project_data/train.csv').readlines())\n",
    "val_doc = np.random.permutation(open('/datasets/Project_data/val.csv').readlines())\n",
    "#batch_size = #experiment with the batch size\n",
    "batch_size = 25"
   ]
  },
  {
   "cell_type": "code",
   "execution_count": 4,
   "metadata": {},
   "outputs": [],
   "source": [
    "# Custom function to crop image :\n",
    "\n",
    "def crop_img(img, scale=1.0):\n",
    "    center_x, center_y = img.shape[1] / 2, img.shape[0] / 2\n",
    "    width_scaled, height_scaled = img.shape[1] * scale, img.shape[0] * scale\n",
    "    left_x, right_x = center_x - width_scaled / 2, center_x + width_scaled / 2\n",
    "    top_y, bottom_y = center_y - height_scaled / 2, center_y + height_scaled / 2\n",
    "    img_cropped = img[int(top_y):int(bottom_y), int(left_x):int(right_x)]\n",
    "    return img_cropped"
   ]
  },
  {
   "cell_type": "code",
   "execution_count": 52,
   "metadata": {},
   "outputs": [
    {
     "name": "stdout",
     "output_type": "stream",
     "text": [
      "[ 0  2  3  7  8  9 11 15 16 19 20 21 22 26 27 28]\n"
     ]
    }
   ],
   "source": [
    "import numpy as np\n",
    "np.random.seed(20)\n",
    "random_numbers = np.random.randint(0, 31, size=20)  # 31 is exclusive\n",
    "arr = np.unique(np.sort(random_numbers))\n",
    "\n",
    "print(arr)"
   ]
  },
  {
   "cell_type": "code",
   "execution_count": 60,
   "metadata": {},
   "outputs": [
    {
     "name": "stdout",
     "output_type": "stream",
     "text": [
      "[ 1  3  4  5  7  8 12 13 15 18 20 22 23 24 25 26 28 29 30]\n"
     ]
    }
   ],
   "source": [
    "import numpy as np\n",
    "np.random.seed(25)\n",
    "random_numbers1 = np.random.randint(0, 31, size=25)  # 31 is exclusive\n",
    "arr1 = np.unique(np.sort(random_numbers1))\n",
    "\n",
    "print(arr1)"
   ]
  },
  {
   "cell_type": "markdown",
   "metadata": {},
   "source": [
    "## Generator\n",
    "This is one of the most important part of the code. The overall structure of the generator has been given. In the generator, you are going to preprocess the images as you have images of 2 different dimensions as well as create a batch of video frames. You have to experiment with `img_idx`, `y`,`z` and normalization such that you get high accuracy."
   ]
  },
  {
   "cell_type": "code",
   "execution_count": 6,
   "metadata": {},
   "outputs": [],
   "source": [
    "def generator(source_path, folder_list, batch_size):\n",
    "    print( 'Source path = ', source_path, '; batch size =', batch_size)\n",
    "    img_idx = arr\n",
    "    #create a list of image numbers you want to use for a particular video\n",
    "    while True:\n",
    "        t = np.random.permutation(folder_list)\n",
    "        num_batches = int(len(t)/batch_size)\n",
    "        # calculate the number of batches\n",
    "        for batch in range(num_batches): # we iterate over the number of batches\n",
    "            batch_data = np.zeros((batch_size,20,100,100,3)) # x is the number of images you use for each video, (y,z) is the final size of the input images and 3 is the number of channels RGB\n",
    "            batch_labels = np.zeros((batch_size,5)) # batch_labels is the one hot representation of the output\n",
    "            for folder in range(batch_size): # iterate over the batch_size\n",
    "                imgs = os.listdir(source_path+'/'+ t[folder + (batch*batch_size)].split(';')[0]) # read all the images in the folder\n",
    "                for idx,item in enumerate(img_idx): #  Iterate iver the frames/images of a folder to read them in\n",
    "                    image = imread(source_path+'/'+ t[folder + (batch*batch_size)].strip().split(';')[0]+'/'+imgs[item]).astype(np.float32)\n",
    "                    image = crop_img(image, 0.10)\n",
    "                    if image.shape[1] == 160:\n",
    "                        image = cv2.resize(image[:,20:140,:],(100,100),interpolation = cv2.INTER_AREA).astype(np.float32)\n",
    "                    else:\n",
    "                        image = cv2.resize(image,(100,100),interpolation = cv2.INTER_AREA).astype(np.float32)                    \n",
    "                       \n",
    "                    #crop the images and resize them. Note that the images are of 2 different shape \n",
    "                    #and the conv3D will throw error if the inputs in a batch have different shapes\n",
    "                    \n",
    "                    # normalize and feed the image. \n",
    "                    batch_data[folder,idx,:,:,0] = (image[:,:,0])/255\n",
    "                    batch_data[folder,idx,:,:,1] = (image[:,:,1])/255\n",
    "                    batch_data[folder,idx,:,:,2] = (image[:,:,2])/255\n",
    "                    \n",
    "                batch_labels[folder, int(t[folder + (batch*batch_size)].strip().split(';')[2])] = 1\n",
    "            yield batch_data, batch_labels #you yield the batch_data and the batch_labels, remember what does yield do\n",
    "\n",
    "        \n",
    "        # write the code for the remaining data points which are left after full batches\n",
    "        data_remaining = len(t)%batch_size\n",
    "        if(data_remaining != 0):\n",
    "            batch_data = np.zeros((data_remaining,20,100,100,3)) # x is the number of images you use for each video, (y,z) is the final size of the input images and 3 is the number of channels RGB\n",
    "            batch_labels = np.zeros((data_remaining,5)) # batch_labels is the one hot representation of the output\n",
    "            for folder in range(data_remaining): # iterate over the batch_size\n",
    "                imgs = os.listdir(source_path+'/'+ t[folder + (num_batches*batch_size)].split(';')[0]) # read all the images in the folder\n",
    "                for idx,item in enumerate(img_idx): #  Iterate iver the frames/images of a folder to read them in\n",
    "                    image = imread(source_path+'/'+ t[folder + (num_batches*batch_size)].strip().split(';')[0]+'/'+imgs[item]).astype(np.float32)\n",
    "                    image = crop_img(image, 0.10)\n",
    "                    if image.shape[1] == 160:\n",
    "                        image = cv2.resize(image[:,20:140,:],(100,100),interpolation = cv2.INTER_AREA).astype(np.float32)\n",
    "                    else:\n",
    "                        image = cv2.resize(image,(100,100),interpolation = cv2.INTER_AREA).astype(np.float32)                    \n",
    "                       \n",
    "                    #crop the images and resize them. Note that the images are of 2 different shape \n",
    "                    #and the conv3D will throw error if the inputs in a batch have different shapes\n",
    "                    \n",
    "                    # normalize and feed the image. \n",
    "                    batch_data[folder,idx,:,:,0] = (image[:,:,0])/255\n",
    "                    batch_data[folder,idx,:,:,1] = (image[:,:,1])/255\n",
    "                    batch_data[folder,idx,:,:,2] = (image[:,:,2])/255\n",
    "                    \n",
    "                batch_labels[folder, int(t[folder + (num_batches*batch_size)].strip().split(';')[2])] = 1\n",
    "            yield batch_data, batch_labels #you yield the batch_data and the batch_labels, remember what does yield do\n"
   ]
  },
  {
   "cell_type": "markdown",
   "metadata": {},
   "source": [
    "Note here that a video is represented above in the generator as (number of images, height, width, number of channels). Take this into consideration while creating the model architecture."
   ]
  },
  {
   "cell_type": "code",
   "execution_count": 7,
   "metadata": {},
   "outputs": [
    {
     "name": "stdout",
     "output_type": "stream",
     "text": [
      "# training sequences = 663\n",
      "# validation sequences = 100\n",
      "# epochs = 5\n"
     ]
    }
   ],
   "source": [
    "curr_dt_time = datetime.datetime.now()\n",
    "train_path = '/datasets/Project_data/train'\n",
    "val_path = '/datasets/Project_data/val'\n",
    "num_train_sequences = len(train_doc)\n",
    "print('# training sequences =', num_train_sequences)\n",
    "num_val_sequences = len(val_doc)\n",
    "print('# validation sequences =', num_val_sequences)\n",
    "num_epochs = 5\n",
    "# choose the number of epochs\n",
    "print ('# epochs =', num_epochs)"
   ]
  },
  {
   "cell_type": "markdown",
   "metadata": {},
   "source": [
    "## Model\n",
    "Here you make the model using different functionalities that Keras provides. Remember to use `Conv3D` and `MaxPooling3D` and not `Conv2D` and `Maxpooling2D` for a 3D convolution model. You would want to use `TimeDistributed` while building a Conv2D + RNN model. Also remember that the last layer is the softmax. Design the network in such a way that the model is able to give good accuracy on the least number of parameters so that it can fit in the memory of the webcam."
   ]
  },
  {
   "cell_type": "code",
   "execution_count": 36,
   "metadata": {},
   "outputs": [],
   "source": [
    "from keras.models import Sequential, Model\n",
    "from keras.layers import Dense, GRU, Flatten, TimeDistributed, Flatten, BatchNormalization, Activation, Dropout\n",
    "from keras.layers.convolutional import Conv3D, MaxPooling3D,Conv2D, MaxPooling2D\n",
    "from keras.callbacks import ModelCheckpoint, ReduceLROnPlateau\n",
    "from keras.layers.recurrent import LSTM\n",
    "from keras.layers.recurrent import GRU\n",
    "from keras import optimizers\n",
    "\n",
    "#write your model here"
   ]
  },
  {
   "cell_type": "markdown",
   "metadata": {},
   "source": [
    "First Base Model : Conv 3D Model with 5 epochs, 25 batch size\n",
    "Without dropouts in Conv layer and with batch normalization\n",
    "Input image size 100X100 , adam optimiser with learning rate 0.0002 with decay, 20 images as input out of 30"
   ]
  },
  {
   "cell_type": "markdown",
   "metadata": {},
   "source": [
    "Now that you have written the model, the next step is to `compile` the model. When you print the `summary` of the model, you'll see the total number of parameters you have to train."
   ]
  },
  {
   "cell_type": "code",
   "execution_count": null,
   "metadata": {},
   "outputs": [],
   "source": [
    "modelConv3D_1 = Sequential()\n",
    "modelConv3D_1.add(Conv3D(8, (3,3,3), padding=\"same\", input_shape=(20, 100, 100, 3)))\n",
    "modelConv3D_1.add(Activation(\"relu\"))\n",
    "modelConv3D_1.add(BatchNormalization())\n",
    "modelConv3D_1.add(MaxPooling3D(pool_size=(2, 2, 2)))\n",
    "\n",
    "modelConv3D_1.add(Conv3D(16, (3,3,3), padding=\"same\"))\n",
    "modelConv3D_1.add(Activation(\"relu\"))\n",
    "modelConv3D_1.add(BatchNormalization())\n",
    "modelConv3D_1.add(MaxPooling3D(pool_size=(2, 2, 2)))\n",
    "\n",
    "\n",
    "modelConv3D_1.add(Conv3D(32, (3,3,3), padding=\"same\"))\n",
    "modelConv3D_1.add(Activation(\"relu\"))\n",
    "modelConv3D_1.add(BatchNormalization())\n",
    "modelConv3D_1.add(MaxPooling3D(pool_size=(2, 2, 2)))\n",
    "\n",
    "\n",
    "modelConv3D_1.add(Conv3D(64, (3,3,3), padding=\"same\"))\n",
    "modelConv3D_1.add(Activation(\"relu\"))\n",
    "modelConv3D_1.add(BatchNormalization())\n",
    "modelConv3D_1.add(MaxPooling3D(pool_size=(2, 2, 2)))\n",
    "\n",
    "modelConv3D_1.add(Flatten())\n",
    "modelConv3D_1.add(Dense(64, activation='relu'))\n",
    "modelConv3D_1.add(BatchNormalization())\n",
    "modelConv3D_1.add(Dropout(0.25))\n",
    "\n",
    "modelConv3D_1.add(Dense(64, activation='relu'))\n",
    "modelConv3D_1.add(BatchNormalization())\n",
    "modelConv3D_1.add(Dropout(0.25))\n",
    "\n",
    "modelConv3D_1.add(Dense(5, activation='softmax'))\n",
    "\n",
    "optimiser = tf.optimizers.Adam(lr=0.0002, decay=1e-6)\n",
    "\n",
    "# compile model :\n",
    "modelConv3D_1.compile(optimizer=optimiser, loss='categorical_crossentropy', metrics=['categorical_accuracy'])\n",
    "\n",
    "# Print the model summary :\n",
    "print (modelConv3D_1.summary())\n",
    "print(\"Total Params in model:\", modelConv3D_1.count_params())\n"
   ]
  },
  {
   "cell_type": "code",
   "execution_count": null,
   "metadata": {
    "scrolled": true
   },
   "outputs": [],
   "source": [
    "#optimiser = #write your optimizer\n",
    "modelConv3D_1.compile(optimizer=optimiser, loss='categorical_crossentropy', metrics=['categorical_accuracy'])\n",
    "print (modelConv3D_1.summary())"
   ]
  },
  {
   "cell_type": "markdown",
   "metadata": {},
   "source": [
    "Let us create the `train_generator` and the `val_generator` which will be used in `.fit_generator`."
   ]
  },
  {
   "cell_type": "code",
   "execution_count": null,
   "metadata": {},
   "outputs": [],
   "source": [
    "train_generator = generator(train_path, train_doc, batch_size)\n",
    "val_generator = generator(val_path, val_doc, batch_size)"
   ]
  },
  {
   "cell_type": "code",
   "execution_count": null,
   "metadata": {},
   "outputs": [],
   "source": [
    "model_name = 'model_init' + '_' + str(curr_dt_time).replace(' ','').replace(':','_') + '/'\n",
    "    \n",
    "if not os.path.exists(model_name):\n",
    "    os.mkdir(model_name)\n",
    "        \n",
    "filepath = model_name + 'model-{epoch:05d}-{loss:.5f}-{categorical_accuracy:.5f}-{val_loss:.5f}-{val_categorical_accuracy:.5f}.h5'\n",
    "\n",
    "checkpoint = ModelCheckpoint(filepath, monitor='val_loss', verbose=1, save_best_only=False, save_weights_only=False, mode='auto', period=1)\n",
    "\n",
    "#LR = # write the REducelronplateau code here\n",
    "LR = ReduceLROnPlateau(monitor='val_loss', factor=0.2, patience=3, verbose=1)\n",
    "\n",
    "callbacks_list = [checkpoint, LR]"
   ]
  },
  {
   "cell_type": "markdown",
   "metadata": {},
   "source": [
    "The `steps_per_epoch` and `validation_steps` are used by `fit_generator` to decide the number of next() calls it need to make."
   ]
  },
  {
   "cell_type": "code",
   "execution_count": null,
   "metadata": {},
   "outputs": [],
   "source": [
    "if (num_train_sequences%batch_size) == 0:\n",
    "    steps_per_epoch = int(num_train_sequences/batch_size)\n",
    "else:\n",
    "    steps_per_epoch = (num_train_sequences//batch_size) + 1\n",
    "\n",
    "if (num_val_sequences%batch_size) == 0:\n",
    "    validation_steps = int(num_val_sequences/batch_size)\n",
    "else:\n",
    "    validation_steps = (num_val_sequences//batch_size) + 1"
   ]
  },
  {
   "cell_type": "markdown",
   "metadata": {},
   "source": [
    "Let us now fit the model. This will start training the model and with the help of the checkpoints, you'll be able to save the model at the end of each epoch."
   ]
  },
  {
   "cell_type": "code",
   "execution_count": null,
   "metadata": {},
   "outputs": [],
   "source": [
    "model1History = modelConv3D_1.fit_generator(train_generator, steps_per_epoch=steps_per_epoch, epochs=num_epochs, verbose=1, \n",
    "                    callbacks=callbacks_list, validation_data=val_generator, \n",
    "                    validation_steps=validation_steps, class_weight=None, workers=1, initial_epoch=0)"
   ]
  },
  {
   "cell_type": "code",
   "execution_count": null,
   "metadata": {},
   "outputs": [],
   "source": [
    "# Plotting the result of Model 1 :\n",
    "\n",
    "# summarize history for accuracy\n",
    "plt.plot(model1History.history['categorical_accuracy'])\n",
    "plt.plot(model1History.history['val_categorical_accuracy'])\n",
    "plt.title('model accuracy')\n",
    "plt.ylabel('accuracy')\n",
    "plt.xlabel('epoch')\n",
    "plt.legend(['train', 'test'], loc='upper left')\n",
    "plt.show()\n",
    "\n",
    "# summarize history for loss\n",
    "plt.plot(model1History.history['loss'])\n",
    "plt.plot(model1History.history['val_loss'])\n",
    "plt.title('model loss')\n",
    "plt.ylabel('loss')\n",
    "plt.xlabel('epoch')\n",
    "plt.legend(['train', 'test'], loc='upper left')\n",
    "plt.show()"
   ]
  },
  {
   "cell_type": "markdown",
   "metadata": {},
   "source": [
    "Second Base Model : Conv 3D Model with 20 epochs, 30 batch size Without dropouts in Conv layer and with batch normalization Input image size 100X100 , adam optimiser with learning rate 0.0002 without decay, 20 images as input out of 30. Dropout changed to 0.5"
   ]
  },
  {
   "cell_type": "code",
   "execution_count": null,
   "metadata": {},
   "outputs": [],
   "source": [
    "modelConv3D_2 = Sequential()\n",
    "modelConv3D_2.add(Conv3D(8, (3,3,3), padding=\"same\", input_shape=(20, 100, 100, 3)))\n",
    "modelConv3D_2.add(Activation(\"relu\"))\n",
    "modelConv3D_2.add(BatchNormalization())\n",
    "modelConv3D_2.add(MaxPooling3D(pool_size=(2, 2, 2)))\n",
    "\n",
    "modelConv3D_2.add(Conv3D(16, (3,3,3), padding=\"same\"))\n",
    "modelConv3D_2.add(Activation(\"relu\"))\n",
    "modelConv3D_2.add(BatchNormalization())\n",
    "modelConv3D_2.add(MaxPooling3D(pool_size=(2, 2, 2)))\n",
    "\n",
    "\n",
    "modelConv3D_2.add(Conv3D(32, (3,3,3), padding=\"same\"))\n",
    "modelConv3D_2.add(Activation(\"relu\"))\n",
    "modelConv3D_2.add(BatchNormalization())\n",
    "modelConv3D_2.add(MaxPooling3D(pool_size=(2, 2, 2)))\n",
    "\n",
    "\n",
    "modelConv3D_2.add(Conv3D(64, (3,3,3), padding=\"same\"))\n",
    "modelConv3D_2.add(Activation(\"relu\"))\n",
    "modelConv3D_2.add(BatchNormalization())\n",
    "modelConv3D_2.add(MaxPooling3D(pool_size=(2, 2, 2)))\n",
    "\n",
    "modelConv3D_2.add(Flatten())\n",
    "modelConv3D_2.add(Dense(64, activation='relu'))\n",
    "modelConv3D_2.add(BatchNormalization())\n",
    "modelConv3D_2.add(Dropout(0.5))\n",
    "\n",
    "modelConv3D_2.add(Dense(64, activation='relu'))\n",
    "modelConv3D_2.add(BatchNormalization())\n",
    "modelConv3D_2.add(Dropout(0.25))\n",
    "\n",
    "modelConv3D_2.add(Dense(5, activation='softmax'))\n",
    "\n",
    "optimiser = tf.optimizers.Adam(lr=0.0002)\n",
    "\n",
    "# compile model :\n",
    "modelConv3D_2.compile(optimizer=optimiser, loss='categorical_crossentropy', metrics=['categorical_accuracy'])\n",
    "\n",
    "# Print the model summary :\n",
    "print (modelConv3D_2.summary())\n",
    "print(\"Total Params in model:\", modelConv3D_2.count_params())\n"
   ]
  },
  {
   "cell_type": "code",
   "execution_count": null,
   "metadata": {},
   "outputs": [],
   "source": [
    "batch_size = 30\n",
    "num_epochs = 20\n",
    "train_generator = generator(train_path, train_doc, batch_size)\n",
    "val_generator = generator(val_path, val_doc, batch_size)\n",
    "\n",
    "model_name = 'model_init' + '_' + str(curr_dt_time).replace(' ','').replace(':','_') + '/'\n",
    "    \n",
    "if not os.path.exists(model_name):\n",
    "    os.mkdir(model_name)\n",
    "        \n",
    "filepath = model_name + 'model-{epoch:05d}-{loss:.5f}-{categorical_accuracy:.5f}-{val_loss:.5f}-{val_categorical_accuracy:.5f}.h5'\n",
    "\n",
    "checkpoint = ModelCheckpoint(filepath, monitor='val_loss', verbose=1, save_best_only=False, save_weights_only=False, mode='auto', period=1)\n",
    "\n",
    "# write the REducelronplateau code here\n",
    "LR = ReduceLROnPlateau(monitor='val_loss', factor=0.2, patience=4, verbose =1 )\n",
    "\n",
    "callbacks_list = [checkpoint, LR]\n",
    "\n",
    "if (num_train_sequences%batch_size) == 0:\n",
    "    steps_per_epoch = int(num_train_sequences/batch_size)\n",
    "else:\n",
    "    steps_per_epoch = (num_train_sequences//batch_size) + 1\n",
    "\n",
    "if (num_val_sequences%batch_size) == 0:\n",
    "    validation_steps = int(num_val_sequences/batch_size)\n",
    "else:\n",
    "    validation_steps = (num_val_sequences//batch_size) + 1"
   ]
  },
  {
   "cell_type": "code",
   "execution_count": null,
   "metadata": {},
   "outputs": [],
   "source": []
  },
  {
   "cell_type": "code",
   "execution_count": null,
   "metadata": {},
   "outputs": [],
   "source": [
    "model2History = modelConv3D_2.fit_generator(train_generator, steps_per_epoch=steps_per_epoch, epochs=num_epochs, verbose=1, \n",
    "                    callbacks=callbacks_list, validation_data=val_generator, \n",
    "                    validation_steps=validation_steps, class_weight=None, workers=1, initial_epoch=0)"
   ]
  },
  {
   "cell_type": "code",
   "execution_count": null,
   "metadata": {},
   "outputs": [],
   "source": [
    "# Plotting the result of Model 1 :\n",
    "\n",
    "# summarize history for accuracy\n",
    "plt.plot(model2History.history['categorical_accuracy'])\n",
    "plt.plot(model2History.history['val_categorical_accuracy'])\n",
    "plt.title('model accuracy')\n",
    "plt.ylabel('accuracy')\n",
    "plt.xlabel('epoch')\n",
    "plt.legend(['train', 'test'], loc='upper left')\n",
    "plt.show()\n",
    "\n",
    "# summarize history for loss\n",
    "plt.plot(model2History.history['loss'])\n",
    "plt.plot(model2History.history['val_loss'])\n",
    "plt.title('model loss')\n",
    "plt.ylabel('loss')\n",
    "plt.xlabel('epoch')\n",
    "plt.legend(['train', 'test'], loc='upper left')\n",
    "plt.show()"
   ]
  },
  {
   "cell_type": "markdown",
   "metadata": {},
   "source": [
    "#### Third Base Model : Conv 3D Model with 20 epochs, 30 batch size Without dropouts in Conv layer and with batch normalization Input image size 100X100 , adam optimiser with learning rate 0.0002 without decay, 20 images as input out of 30. Dropout changed to 0.25. Image Scale Ratio: 0.3\n"
   ]
  },
  {
   "cell_type": "code",
   "execution_count": 9,
   "metadata": {},
   "outputs": [],
   "source": [
    "def generator_updated(source_path, folder_list, batch_size):\n",
    "    print( 'Source path = ', source_path, '; batch size =', batch_size)\n",
    "    img_idx = arr\n",
    "    #create a list of image numbers you want to use for a particular video\n",
    "    while True:\n",
    "        t = np.random.permutation(folder_list)\n",
    "        num_batches = int(len(t)/batch_size)\n",
    "        # calculate the number of batches\n",
    "        for batch in range(num_batches): # we iterate over the number of batches\n",
    "            batch_data = np.zeros((batch_size,20,100,100,3)) # x is the number of images you use for each video, (y,z) is the final size of the input images and 3 is the number of channels RGB\n",
    "            batch_labels = np.zeros((batch_size,5)) # batch_labels is the one hot representation of the output\n",
    "            for folder in range(batch_size): # iterate over the batch_size\n",
    "                imgs = os.listdir(source_path+'/'+ t[folder + (batch*batch_size)].split(';')[0]) # read all the images in the folder\n",
    "                for idx,item in enumerate(img_idx): #  Iterate iver the frames/images of a folder to read them in\n",
    "                    image = imread(source_path+'/'+ t[folder + (batch*batch_size)].strip().split(';')[0]+'/'+imgs[item]).astype(np.float32)\n",
    "                    image = crop_img(image, 0.03)\n",
    "                    if image.shape[1] == 160:\n",
    "                        image = cv2.resize(image[:,20:140,:],(100,100),interpolation = cv2.INTER_AREA).astype(np.float32)\n",
    "                    else:\n",
    "                        image = cv2.resize(image,(100,100),interpolation = cv2.INTER_AREA).astype(np.float32)                    \n",
    "                       \n",
    "                    #crop the images and resize them. Note that the images are of 2 different shape \n",
    "                    #and the conv3D will throw error if the inputs in a batch have different shapes\n",
    "                    \n",
    "                    # normalize and feed the image. \n",
    "                    batch_data[folder,idx,:,:,0] = (image[:,:,0])/255\n",
    "                    batch_data[folder,idx,:,:,1] = (image[:,:,1])/255\n",
    "                    batch_data[folder,idx,:,:,2] = (image[:,:,2])/255\n",
    "                    \n",
    "                batch_labels[folder, int(t[folder + (batch*batch_size)].strip().split(';')[2])] = 1\n",
    "            yield batch_data, batch_labels #you yield the batch_data and the batch_labels, remember what does yield do\n",
    "\n",
    "        \n",
    "        # write the code for the remaining data points which are left after full batches\n",
    "        data_remaining = len(t)%batch_size\n",
    "        if(data_remaining != 0):\n",
    "            batch_data = np.zeros((data_remaining,20,100,100,3)) # x is the number of images you use for each video, (y,z) is the final size of the input images and 3 is the number of channels RGB\n",
    "            batch_labels = np.zeros((data_remaining,5)) # batch_labels is the one hot representation of the output\n",
    "            for folder in range(data_remaining): # iterate over the batch_size\n",
    "                imgs = os.listdir(source_path+'/'+ t[folder + (num_batches*batch_size)].split(';')[0]) # read all the images in the folder\n",
    "                for idx,item in enumerate(img_idx): #  Iterate iver the frames/images of a folder to read them in\n",
    "                    image = imread(source_path+'/'+ t[folder + (num_batches*batch_size)].strip().split(';')[0]+'/'+imgs[item]).astype(np.float32)\n",
    "                    image = crop_img(image, 0.03)\n",
    "                    if image.shape[1] == 160:\n",
    "                        image = cv2.resize(image[:,20:140,:],(100,100),interpolation = cv2.INTER_AREA).astype(np.float32)\n",
    "                    else:\n",
    "                        image = cv2.resize(image,(100,100),interpolation = cv2.INTER_AREA).astype(np.float32)                    \n",
    "                       \n",
    "                    #crop the images and resize them. Note that the images are of 2 different shape \n",
    "                    #and the conv3D will throw error if the inputs in a batch have different shapes\n",
    "                    \n",
    "                    # normalize and feed the image. \n",
    "                    batch_data[folder,idx,:,:,0] = (image[:,:,0])/255\n",
    "                    batch_data[folder,idx,:,:,1] = (image[:,:,1])/255\n",
    "                    batch_data[folder,idx,:,:,2] = (image[:,:,2])/255\n",
    "                    \n",
    "                batch_labels[folder, int(t[folder + (num_batches*batch_size)].strip().split(';')[2])] = 1\n",
    "            yield batch_data, batch_labels #you yield the batch_data and the batch_labels, remember what does yield do\n"
   ]
  },
  {
   "cell_type": "code",
   "execution_count": 10,
   "metadata": {},
   "outputs": [
    {
     "name": "stdout",
     "output_type": "stream",
     "text": [
      "Model: \"sequential\"\n",
      "_________________________________________________________________\n",
      " Layer (type)                Output Shape              Param #   \n",
      "=================================================================\n",
      " conv3d (Conv3D)             (None, 20, 100, 100, 8)   656       \n",
      "                                                                 \n",
      " activation (Activation)     (None, 20, 100, 100, 8)   0         \n",
      "                                                                 \n",
      " batch_normalization (BatchN  (None, 20, 100, 100, 8)  32        \n",
      " ormalization)                                                   \n",
      "                                                                 \n",
      " max_pooling3d (MaxPooling3D  (None, 10, 50, 50, 8)    0         \n",
      " )                                                               \n",
      "                                                                 \n",
      " conv3d_1 (Conv3D)           (None, 10, 50, 50, 16)    3472      \n",
      "                                                                 \n",
      " activation_1 (Activation)   (None, 10, 50, 50, 16)    0         \n",
      "                                                                 \n",
      " batch_normalization_1 (Batc  (None, 10, 50, 50, 16)   64        \n",
      " hNormalization)                                                 \n",
      "                                                                 \n",
      " max_pooling3d_1 (MaxPooling  (None, 5, 25, 25, 16)    0         \n",
      " 3D)                                                             \n",
      "                                                                 \n",
      " conv3d_2 (Conv3D)           (None, 5, 25, 25, 32)     13856     \n",
      "                                                                 \n",
      " activation_2 (Activation)   (None, 5, 25, 25, 32)     0         \n",
      "                                                                 \n",
      " batch_normalization_2 (Batc  (None, 5, 25, 25, 32)    128       \n",
      " hNormalization)                                                 \n",
      "                                                                 \n",
      " max_pooling3d_2 (MaxPooling  (None, 2, 12, 12, 32)    0         \n",
      " 3D)                                                             \n",
      "                                                                 \n",
      " conv3d_3 (Conv3D)           (None, 2, 12, 12, 64)     55360     \n",
      "                                                                 \n",
      " activation_3 (Activation)   (None, 2, 12, 12, 64)     0         \n",
      "                                                                 \n",
      " batch_normalization_3 (Batc  (None, 2, 12, 12, 64)    256       \n",
      " hNormalization)                                                 \n",
      "                                                                 \n",
      " max_pooling3d_3 (MaxPooling  (None, 1, 6, 6, 64)      0         \n",
      " 3D)                                                             \n",
      "                                                                 \n",
      " flatten (Flatten)           (None, 2304)              0         \n",
      "                                                                 \n",
      " dense (Dense)               (None, 64)                147520    \n",
      "                                                                 \n",
      " batch_normalization_4 (Batc  (None, 64)               256       \n",
      " hNormalization)                                                 \n",
      "                                                                 \n",
      " dropout (Dropout)           (None, 64)                0         \n",
      "                                                                 \n",
      " dense_1 (Dense)             (None, 64)                4160      \n",
      "                                                                 \n",
      " batch_normalization_5 (Batc  (None, 64)               256       \n",
      " hNormalization)                                                 \n",
      "                                                                 \n",
      " dropout_1 (Dropout)         (None, 64)                0         \n",
      "                                                                 \n",
      " dense_2 (Dense)             (None, 5)                 325       \n",
      "                                                                 \n",
      "=================================================================\n",
      "Total params: 226,341\n",
      "Trainable params: 225,845\n",
      "Non-trainable params: 496\n",
      "_________________________________________________________________\n",
      "None\n",
      "Total Params in model: 226341\n"
     ]
    },
    {
     "name": "stderr",
     "output_type": "stream",
     "text": [
      "2024-11-05 13:44:01.033938: W tensorflow/core/common_runtime/gpu/gpu_bfc_allocator.cc:39] Overriding allow_growth setting because the TF_FORCE_GPU_ALLOW_GROWTH environment variable is set. Original config value was 0.\n",
      "2024-11-05 13:44:01.034027: I tensorflow/core/common_runtime/gpu/gpu_device.cc:1525] Created device /job:localhost/replica:0/task:0/device:GPU:0 with 14800 MB memory:  -> device: 0, name: Quadro RTX 5000, pci bus id: 0000:3f:00.0, compute capability: 7.5\n",
      "/usr/local/lib/python3.8/dist-packages/keras/optimizer_v2/adam.py:105: UserWarning: The `lr` argument is deprecated, use `learning_rate` instead.\n",
      "  super(Adam, self).__init__(name, **kwargs)\n"
     ]
    }
   ],
   "source": [
    "modelConv3D_3 = Sequential()\n",
    "modelConv3D_3.add(Conv3D(8, (3,3,3), padding=\"same\", input_shape=(20, 100, 100, 3)))\n",
    "modelConv3D_3.add(Activation(\"relu\"))\n",
    "modelConv3D_3.add(BatchNormalization())\n",
    "modelConv3D_3.add(MaxPooling3D(pool_size=(2, 2, 2)))\n",
    "\n",
    "modelConv3D_3.add(Conv3D(16, (3,3,3), padding=\"same\"))\n",
    "modelConv3D_3.add(Activation(\"relu\"))\n",
    "modelConv3D_3.add(BatchNormalization())\n",
    "modelConv3D_3.add(MaxPooling3D(pool_size=(2, 2, 2)))\n",
    "\n",
    "\n",
    "modelConv3D_3.add(Conv3D(32, (3,3,3), padding=\"same\"))\n",
    "modelConv3D_3.add(Activation(\"relu\"))\n",
    "modelConv3D_3.add(BatchNormalization())\n",
    "modelConv3D_3.add(MaxPooling3D(pool_size=(2, 2, 2)))\n",
    "\n",
    "\n",
    "modelConv3D_3.add(Conv3D(64, (3,3,3), padding=\"same\"))\n",
    "modelConv3D_3.add(Activation(\"relu\"))\n",
    "modelConv3D_3.add(BatchNormalization())\n",
    "modelConv3D_3.add(MaxPooling3D(pool_size=(2, 2, 2)))\n",
    "\n",
    "modelConv3D_3.add(Flatten())\n",
    "modelConv3D_3.add(Dense(64, activation='relu'))\n",
    "modelConv3D_3.add(BatchNormalization())\n",
    "modelConv3D_3.add(Dropout(0.5))\n",
    "\n",
    "modelConv3D_3.add(Dense(64, activation='relu'))\n",
    "modelConv3D_3.add(BatchNormalization())\n",
    "modelConv3D_3.add(Dropout(0.25))\n",
    "\n",
    "modelConv3D_3.add(Dense(5, activation='softmax'))\n",
    "\n",
    "optimiser = tf.optimizers.Adam(lr=0.0002)\n",
    "\n",
    "# compile model :\n",
    "modelConv3D_3.compile(optimizer=optimiser, loss='categorical_crossentropy', metrics=['categorical_accuracy'])\n",
    "\n",
    "# Print the model summary :\n",
    "print (modelConv3D_3.summary())\n",
    "print(\"Total Params in model:\", modelConv3D_3.count_params())\n"
   ]
  },
  {
   "cell_type": "code",
   "execution_count": 12,
   "metadata": {},
   "outputs": [
    {
     "name": "stdout",
     "output_type": "stream",
     "text": [
      "WARNING:tensorflow:`period` argument is deprecated. Please use `save_freq` to specify the frequency in number of batches seen.\n"
     ]
    }
   ],
   "source": [
    "batch_size = 30\n",
    "num_epochs = 20\n",
    "train_generator_updated = generator_updated(train_path, train_doc, batch_size)\n",
    "val_generator_updated = generator_updated(val_path, val_doc, batch_size)\n",
    "\n",
    "model_name = 'model_init' + '_' + str(curr_dt_time).replace(' ','').replace(':','_') + '/'\n",
    "    \n",
    "if not os.path.exists(model_name):\n",
    "    os.mkdir(model_name)\n",
    "        \n",
    "filepath = model_name + 'model-{epoch:05d}-{loss:.5f}-{categorical_accuracy:.5f}-{val_loss:.5f}-{val_categorical_accuracy:.5f}.h5'\n",
    "\n",
    "checkpoint = ModelCheckpoint(filepath, monitor='val_loss', verbose=1, save_best_only=False, save_weights_only=False, mode='auto', period=1)\n",
    "\n",
    "# write the REducelronplateau code here\n",
    "LR = ReduceLROnPlateau(monitor='val_loss', factor=0.2, patience=4, verbose =1 )\n",
    "\n",
    "callbacks_list = [checkpoint, LR]\n",
    "\n",
    "if (num_train_sequences%batch_size) == 0:\n",
    "    steps_per_epoch = int(num_train_sequences/batch_size)\n",
    "else:\n",
    "    steps_per_epoch = (num_train_sequences//batch_size) + 1\n",
    "\n",
    "if (num_val_sequences%batch_size) == 0:\n",
    "    validation_steps = int(num_val_sequences/batch_size)\n",
    "else:\n",
    "    validation_steps = (num_val_sequences//batch_size) + 1"
   ]
  },
  {
   "cell_type": "code",
   "execution_count": 13,
   "metadata": {},
   "outputs": [
    {
     "name": "stderr",
     "output_type": "stream",
     "text": [
      "/tmp/ipykernel_267/3051150666.py:1: UserWarning: `Model.fit_generator` is deprecated and will be removed in a future version. Please use `Model.fit`, which supports generators.\n",
      "  model3History = modelConv3D_3.fit_generator(train_generator_updated, steps_per_epoch=steps_per_epoch, epochs=num_epochs, verbose=1,\n",
      "/tmp/ipykernel_267/3659705889.py:15: DeprecationWarning:     `imread` is deprecated!\n",
      "    `imread` is deprecated in SciPy 1.0.0, and will be removed in 1.2.0.\n",
      "    Use ``imageio.imread`` instead.\n",
      "  image = imread(source_path+'/'+ t[folder + (batch*batch_size)].strip().split(';')[0]+'/'+imgs[item]).astype(np.float32)\n"
     ]
    },
    {
     "name": "stdout",
     "output_type": "stream",
     "text": [
      "Source path =  /datasets/Project_data/train ; batch size = 30\n",
      "Epoch 1/20\n"
     ]
    },
    {
     "name": "stderr",
     "output_type": "stream",
     "text": [
      "2024-11-05 13:44:22.395408: I tensorflow/stream_executor/cuda/cuda_dnn.cc:377] Loaded cuDNN version 8302\n"
     ]
    },
    {
     "name": "stdout",
     "output_type": "stream",
     "text": [
      "22/23 [===========================>..] - ETA: 2s - loss: 2.2425 - categorical_accuracy: 0.2288"
     ]
    },
    {
     "name": "stderr",
     "output_type": "stream",
     "text": [
      "/tmp/ipykernel_267/3659705889.py:42: DeprecationWarning:     `imread` is deprecated!\n",
      "    `imread` is deprecated in SciPy 1.0.0, and will be removed in 1.2.0.\n",
      "    Use ``imageio.imread`` instead.\n",
      "  image = imread(source_path+'/'+ t[folder + (num_batches*batch_size)].strip().split(';')[0]+'/'+imgs[item]).astype(np.float32)\n"
     ]
    },
    {
     "name": "stdout",
     "output_type": "stream",
     "text": [
      "23/23 [==============================] - ETA: 0s - loss: 2.2409 - categorical_accuracy: 0.2278Source path =  /datasets/Project_data/val ; batch size = 30\n",
      "\n",
      "Epoch 00001: saving model to model_init_2024-11-0513_43_45.039785/model-00001-2.24095-0.22775-1.61294-0.23000.h5\n",
      "23/23 [==============================] - 84s 3s/step - loss: 2.2409 - categorical_accuracy: 0.2278 - val_loss: 1.6129 - val_categorical_accuracy: 0.2300 - lr: 2.0000e-04\n",
      "Epoch 2/20\n",
      "23/23 [==============================] - ETA: 0s - loss: 1.9796 - categorical_accuracy: 0.2534\n",
      "Epoch 00002: saving model to model_init_2024-11-0513_43_45.039785/model-00002-1.97957-0.25339-1.65554-0.23000.h5\n",
      "23/23 [==============================] - 76s 3s/step - loss: 1.9796 - categorical_accuracy: 0.2534 - val_loss: 1.6555 - val_categorical_accuracy: 0.2300 - lr: 2.0000e-04\n",
      "Epoch 3/20\n",
      "22/23 [===========================>..] - ETA: 2s - loss: 1.8919 - categorical_accuracy: 0.2864\n",
      "Epoch 00003: saving model to model_init_2024-11-0513_43_45.039785/model-00003-1.88593-0.28808-1.66655-0.22000.h5\n",
      "23/23 [==============================] - 54s 2s/step - loss: 1.8859 - categorical_accuracy: 0.2881 - val_loss: 1.6665 - val_categorical_accuracy: 0.2200 - lr: 2.0000e-04\n",
      "Epoch 4/20\n",
      "23/23 [==============================] - ETA: 0s - loss: 1.8543 - categorical_accuracy: 0.2926\n",
      "Epoch 00004: saving model to model_init_2024-11-0513_43_45.039785/model-00004-1.85426-0.29261-1.67381-0.13000.h5\n",
      "23/23 [==============================] - 36s 2s/step - loss: 1.8543 - categorical_accuracy: 0.2926 - val_loss: 1.6738 - val_categorical_accuracy: 0.1300 - lr: 2.0000e-04\n",
      "Epoch 5/20\n",
      "23/23 [==============================] - ETA: 0s - loss: 1.7983 - categorical_accuracy: 0.2956\n",
      "Epoch 00005: saving model to model_init_2024-11-0513_43_45.039785/model-00005-1.79825-0.29563-1.67798-0.17000.h5\n",
      "\n",
      "Epoch 00005: ReduceLROnPlateau reducing learning rate to 3.9999998989515007e-05.\n",
      "23/23 [==============================] - 36s 2s/step - loss: 1.7983 - categorical_accuracy: 0.2956 - val_loss: 1.6780 - val_categorical_accuracy: 0.1700 - lr: 2.0000e-04\n",
      "Epoch 6/20\n",
      "22/23 [===========================>..] - ETA: 1s - loss: 1.8058 - categorical_accuracy: 0.3136\n",
      "Epoch 00006: saving model to model_init_2024-11-0513_43_45.039785/model-00006-1.80281-0.31373-1.73357-0.15000.h5\n",
      "23/23 [==============================] - 36s 2s/step - loss: 1.8028 - categorical_accuracy: 0.3137 - val_loss: 1.7336 - val_categorical_accuracy: 0.1500 - lr: 4.0000e-05\n",
      "Epoch 7/20\n",
      "23/23 [==============================] - ETA: 0s - loss: 1.7010 - categorical_accuracy: 0.3394\n",
      "Epoch 00007: saving model to model_init_2024-11-0513_43_45.039785/model-00007-1.70104-0.33937-1.64944-0.17000.h5\n",
      "23/23 [==============================] - 36s 2s/step - loss: 1.7010 - categorical_accuracy: 0.3394 - val_loss: 1.6494 - val_categorical_accuracy: 0.1700 - lr: 4.0000e-05\n",
      "Epoch 8/20\n",
      "23/23 [==============================] - ETA: 0s - loss: 1.7934 - categorical_accuracy: 0.3228\n",
      "Epoch 00008: saving model to model_init_2024-11-0513_43_45.039785/model-00008-1.79340-0.32278-1.67497-0.19000.h5\n",
      "23/23 [==============================] - 35s 2s/step - loss: 1.7934 - categorical_accuracy: 0.3228 - val_loss: 1.6750 - val_categorical_accuracy: 0.1900 - lr: 4.0000e-05\n",
      "Epoch 9/20\n",
      "23/23 [==============================] - ETA: 0s - loss: 1.7576 - categorical_accuracy: 0.3379\n",
      "Epoch 00009: saving model to model_init_2024-11-0513_43_45.039785/model-00009-1.75758-0.33786-1.68666-0.21000.h5\n",
      "\n",
      "Epoch 00009: ReduceLROnPlateau reducing learning rate to 7.999999797903002e-06.\n",
      "23/23 [==============================] - 35s 2s/step - loss: 1.7576 - categorical_accuracy: 0.3379 - val_loss: 1.6867 - val_categorical_accuracy: 0.2100 - lr: 4.0000e-05\n",
      "Epoch 10/20\n",
      "22/23 [===========================>..] - ETA: 1s - loss: 1.6997 - categorical_accuracy: 0.3470\n",
      "Epoch 00010: saving model to model_init_2024-11-0513_43_45.039785/model-00010-1.70026-0.34691-1.73924-0.20000.h5\n",
      "23/23 [==============================] - 36s 2s/step - loss: 1.7003 - categorical_accuracy: 0.3469 - val_loss: 1.7392 - val_categorical_accuracy: 0.2000 - lr: 8.0000e-06\n",
      "Epoch 11/20\n",
      "23/23 [==============================] - ETA: 0s - loss: 1.7363 - categorical_accuracy: 0.3348\n",
      "Epoch 00011: saving model to model_init_2024-11-0513_43_45.039785/model-00011-1.73630-0.33484-1.66768-0.27000.h5\n",
      "23/23 [==============================] - 35s 2s/step - loss: 1.7363 - categorical_accuracy: 0.3348 - val_loss: 1.6677 - val_categorical_accuracy: 0.2700 - lr: 8.0000e-06\n",
      "Epoch 12/20\n",
      "23/23 [==============================] - ETA: 0s - loss: 1.7481 - categorical_accuracy: 0.3424\n",
      "Epoch 00012: saving model to model_init_2024-11-0513_43_45.039785/model-00012-1.74807-0.34238-1.67112-0.29000.h5\n",
      "23/23 [==============================] - 35s 2s/step - loss: 1.7481 - categorical_accuracy: 0.3424 - val_loss: 1.6711 - val_categorical_accuracy: 0.2900 - lr: 8.0000e-06\n",
      "Epoch 13/20\n",
      "22/23 [===========================>..] - ETA: 1s - loss: 1.6743 - categorical_accuracy: 0.3606\n",
      "Epoch 00013: saving model to model_init_2024-11-0513_43_45.039785/model-00013-1.67410-0.36199-1.71296-0.28000.h5\n",
      "\n",
      "Epoch 00013: ReduceLROnPlateau reducing learning rate to 1.5999999959603884e-06.\n",
      "23/23 [==============================] - 36s 2s/step - loss: 1.6741 - categorical_accuracy: 0.3620 - val_loss: 1.7130 - val_categorical_accuracy: 0.2800 - lr: 8.0000e-06\n",
      "Epoch 14/20\n",
      "23/23 [==============================] - ETA: 0s - loss: 1.7413 - categorical_accuracy: 0.3348\n",
      "Epoch 00014: saving model to model_init_2024-11-0513_43_45.039785/model-00014-1.74129-0.33484-1.82630-0.18000.h5\n",
      "23/23 [==============================] - 36s 2s/step - loss: 1.7413 - categorical_accuracy: 0.3348 - val_loss: 1.8263 - val_categorical_accuracy: 0.1800 - lr: 1.6000e-06\n",
      "Epoch 15/20\n",
      "23/23 [==============================] - ETA: 0s - loss: 1.7669 - categorical_accuracy: 0.3348\n",
      "Epoch 00015: saving model to model_init_2024-11-0513_43_45.039785/model-00015-1.76694-0.33484-1.86329-0.21000.h5\n",
      "23/23 [==============================] - 36s 2s/step - loss: 1.7669 - categorical_accuracy: 0.3348 - val_loss: 1.8633 - val_categorical_accuracy: 0.2100 - lr: 1.6000e-06\n",
      "Epoch 16/20\n",
      "23/23 [==============================] - ETA: 0s - loss: 1.6746 - categorical_accuracy: 0.3454\n",
      "Epoch 00016: saving model to model_init_2024-11-0513_43_45.039785/model-00016-1.67457-0.34540-1.74918-0.21000.h5\n",
      "23/23 [==============================] - 35s 2s/step - loss: 1.6746 - categorical_accuracy: 0.3454 - val_loss: 1.7492 - val_categorical_accuracy: 0.2100 - lr: 1.6000e-06\n",
      "Epoch 17/20\n",
      "22/23 [===========================>..] - ETA: 1s - loss: 1.7668 - categorical_accuracy: 0.2985\n",
      "Epoch 00017: saving model to model_init_2024-11-0513_43_45.039785/model-00017-1.76888-0.29864-1.75355-0.26000.h5\n",
      "\n",
      "Epoch 00017: ReduceLROnPlateau reducing learning rate to 3.200000037395512e-07.\n",
      "23/23 [==============================] - 35s 2s/step - loss: 1.7689 - categorical_accuracy: 0.2986 - val_loss: 1.7535 - val_categorical_accuracy: 0.2600 - lr: 1.6000e-06\n",
      "Epoch 18/20\n",
      "23/23 [==============================] - ETA: 0s - loss: 1.7029 - categorical_accuracy: 0.3620\n",
      "Epoch 00018: saving model to model_init_2024-11-0513_43_45.039785/model-00018-1.70293-0.36199-1.71660-0.29000.h5\n",
      "23/23 [==============================] - 35s 2s/step - loss: 1.7029 - categorical_accuracy: 0.3620 - val_loss: 1.7166 - val_categorical_accuracy: 0.2900 - lr: 3.2000e-07\n",
      "Epoch 19/20\n",
      "23/23 [==============================] - ETA: 0s - loss: 1.6748 - categorical_accuracy: 0.3379\n",
      "Epoch 00019: saving model to model_init_2024-11-0513_43_45.039785/model-00019-1.67481-0.33786-1.70572-0.27000.h5\n",
      "23/23 [==============================] - 35s 2s/step - loss: 1.6748 - categorical_accuracy: 0.3379 - val_loss: 1.7057 - val_categorical_accuracy: 0.2700 - lr: 3.2000e-07\n",
      "Epoch 20/20\n",
      "23/23 [==============================] - ETA: 0s - loss: 1.6742 - categorical_accuracy: 0.3379\n",
      "Epoch 00020: saving model to model_init_2024-11-0513_43_45.039785/model-00020-1.67421-0.33786-1.74543-0.28000.h5\n",
      "23/23 [==============================] - 35s 2s/step - loss: 1.6742 - categorical_accuracy: 0.3379 - val_loss: 1.7454 - val_categorical_accuracy: 0.2800 - lr: 3.2000e-07\n"
     ]
    }
   ],
   "source": [
    "model3History = modelConv3D_3.fit_generator(train_generator_updated, steps_per_epoch=steps_per_epoch, epochs=num_epochs, verbose=1, \n",
    "                    callbacks=callbacks_list, validation_data=val_generator_updated, \n",
    "                    validation_steps=validation_steps, class_weight=None, workers=1, initial_epoch=0)"
   ]
  },
  {
   "cell_type": "code",
   "execution_count": 14,
   "metadata": {},
   "outputs": [
    {
     "data": {
      "image/png": "[encoded data removed]",
      "text/plain": [
       "<Figure size 432x288 with 1 Axes>"
      ]
     },
     "metadata": {
      "needs_background": "light"
     },
     "output_type": "display_data"
    },
    {
     "data": {
      "image/png": "[encoded data removed]",
      "text/plain": [
       "<Figure size 432x288 with 1 Axes>"
      ]
     },
     "metadata": {
      "needs_background": "light"
     },
     "output_type": "display_data"
    }
   ],
   "source": [
    "# Plotting the result of Model 1 :\n",
    "\n",
    "# summarize history for accuracy\n",
    "plt.plot(model3History.history['categorical_accuracy'])\n",
    "plt.plot(model3History.history['val_categorical_accuracy'])\n",
    "plt.title('model accuracy')\n",
    "plt.ylabel('accuracy')\n",
    "plt.xlabel('epoch')\n",
    "plt.legend(['train', 'test'], loc='upper left')\n",
    "plt.show()\n",
    "\n",
    "# summarize history for loss\n",
    "plt.plot(model3History.history['loss'])\n",
    "plt.plot(model3History.history['val_loss'])\n",
    "plt.title('model loss')\n",
    "plt.ylabel('loss')\n",
    "plt.xlabel('epoch')\n",
    "plt.legend(['train', 'test'], loc='upper left')\n",
    "plt.show()"
   ]
  },
  {
   "cell_type": "markdown",
   "metadata": {},
   "source": [
    "#### Fourth Base Model : Conv 3D Model with 30 epochs, 50 batch size Without dropouts in Conv layer and with batch normalization Input image size 100X100 , adam optimiser with learning rate 0.0002 without decay, 20 images as input out of 30. Dropout changed to 0.25. Image Scale Ratio: 0.3\n"
   ]
  },
  {
   "cell_type": "code",
   "execution_count": 15,
   "metadata": {},
   "outputs": [
    {
     "name": "stdout",
     "output_type": "stream",
     "text": [
      "Model: \"sequential_1\"\n",
      "_________________________________________________________________\n",
      " Layer (type)                Output Shape              Param #   \n",
      "=================================================================\n",
      " conv3d_4 (Conv3D)           (None, 20, 100, 100, 8)   656       \n",
      "                                                                 \n",
      " activation_4 (Activation)   (None, 20, 100, 100, 8)   0         \n",
      "                                                                 \n",
      " batch_normalization_6 (Batc  (None, 20, 100, 100, 8)  32        \n",
      " hNormalization)                                                 \n",
      "                                                                 \n",
      " max_pooling3d_4 (MaxPooling  (None, 10, 50, 50, 8)    0         \n",
      " 3D)                                                             \n",
      "                                                                 \n",
      " conv3d_5 (Conv3D)           (None, 10, 50, 50, 16)    3472      \n",
      "                                                                 \n",
      " activation_5 (Activation)   (None, 10, 50, 50, 16)    0         \n",
      "                                                                 \n",
      " batch_normalization_7 (Batc  (None, 10, 50, 50, 16)   64        \n",
      " hNormalization)                                                 \n",
      "                                                                 \n",
      " max_pooling3d_5 (MaxPooling  (None, 5, 25, 25, 16)    0         \n",
      " 3D)                                                             \n",
      "                                                                 \n",
      " conv3d_6 (Conv3D)           (None, 5, 25, 25, 32)     13856     \n",
      "                                                                 \n",
      " activation_6 (Activation)   (None, 5, 25, 25, 32)     0         \n",
      "                                                                 \n",
      " batch_normalization_8 (Batc  (None, 5, 25, 25, 32)    128       \n",
      " hNormalization)                                                 \n",
      "                                                                 \n",
      " max_pooling3d_6 (MaxPooling  (None, 2, 12, 12, 32)    0         \n",
      " 3D)                                                             \n",
      "                                                                 \n",
      " conv3d_7 (Conv3D)           (None, 2, 12, 12, 64)     55360     \n",
      "                                                                 \n",
      " activation_7 (Activation)   (None, 2, 12, 12, 64)     0         \n",
      "                                                                 \n",
      " batch_normalization_9 (Batc  (None, 2, 12, 12, 64)    256       \n",
      " hNormalization)                                                 \n",
      "                                                                 \n",
      " max_pooling3d_7 (MaxPooling  (None, 1, 6, 6, 64)      0         \n",
      " 3D)                                                             \n",
      "                                                                 \n",
      " flatten_1 (Flatten)         (None, 2304)              0         \n",
      "                                                                 \n",
      " dense_3 (Dense)             (None, 64)                147520    \n",
      "                                                                 \n",
      " batch_normalization_10 (Bat  (None, 64)               256       \n",
      " chNormalization)                                                \n",
      "                                                                 \n",
      " dropout_2 (Dropout)         (None, 64)                0         \n",
      "                                                                 \n",
      " dense_4 (Dense)             (None, 64)                4160      \n",
      "                                                                 \n",
      " batch_normalization_11 (Bat  (None, 64)               256       \n",
      " chNormalization)                                                \n",
      "                                                                 \n",
      " dropout_3 (Dropout)         (None, 64)                0         \n",
      "                                                                 \n",
      " dense_5 (Dense)             (None, 5)                 325       \n",
      "                                                                 \n",
      "=================================================================\n",
      "Total params: 226,341\n",
      "Trainable params: 225,845\n",
      "Non-trainable params: 496\n",
      "_________________________________________________________________\n",
      "None\n",
      "Total Params in model: 226341\n"
     ]
    }
   ],
   "source": [
    "modelConv3D_4 = Sequential()\n",
    "modelConv3D_4.add(Conv3D(8, (3,3,3), padding=\"same\", input_shape=(20, 100, 100, 3)))\n",
    "modelConv3D_4.add(Activation(\"relu\"))\n",
    "modelConv3D_4.add(BatchNormalization())\n",
    "modelConv3D_4.add(MaxPooling3D(pool_size=(2, 2, 2)))\n",
    "\n",
    "modelConv3D_4.add(Conv3D(16, (3,3,3), padding=\"same\"))\n",
    "modelConv3D_4.add(Activation(\"relu\"))\n",
    "modelConv3D_4.add(BatchNormalization())\n",
    "modelConv3D_4.add(MaxPooling3D(pool_size=(2, 2, 2)))\n",
    "\n",
    "\n",
    "modelConv3D_4.add(Conv3D(32, (3,3,3), padding=\"same\"))\n",
    "modelConv3D_4.add(Activation(\"relu\"))\n",
    "modelConv3D_4.add(BatchNormalization())\n",
    "modelConv3D_4.add(MaxPooling3D(pool_size=(2, 2, 2)))\n",
    "\n",
    "\n",
    "modelConv3D_4.add(Conv3D(64, (3,3,3), padding=\"same\"))\n",
    "modelConv3D_4.add(Activation(\"relu\"))\n",
    "modelConv3D_4.add(BatchNormalization())\n",
    "modelConv3D_4.add(MaxPooling3D(pool_size=(2, 2, 2)))\n",
    "\n",
    "modelConv3D_4.add(Flatten())\n",
    "modelConv3D_4.add(Dense(64, activation='relu'))\n",
    "modelConv3D_4.add(BatchNormalization())\n",
    "modelConv3D_4.add(Dropout(0.25))\n",
    "\n",
    "modelConv3D_4.add(Dense(64, activation='relu'))\n",
    "modelConv3D_4.add(BatchNormalization())\n",
    "modelConv3D_4.add(Dropout(0.25))\n",
    "\n",
    "modelConv3D_4.add(Dense(5, activation='softmax'))\n",
    "\n",
    "optimiser = tf.optimizers.Adam(lr=0.0002)\n",
    "\n",
    "# compile model :\n",
    "modelConv3D_4.compile(optimizer=optimiser, loss='categorical_crossentropy', metrics=['categorical_accuracy'])\n",
    "\n",
    "# Print the model summary :\n",
    "print (modelConv3D_4.summary())\n",
    "print(\"Total Params in model:\", modelConv3D_4.count_params())"
   ]
  },
  {
   "cell_type": "code",
   "execution_count": 16,
   "metadata": {},
   "outputs": [
    {
     "name": "stdout",
     "output_type": "stream",
     "text": [
      "WARNING:tensorflow:`period` argument is deprecated. Please use `save_freq` to specify the frequency in number of batches seen.\n"
     ]
    }
   ],
   "source": [
    "\n",
    "batch_size = 50\n",
    "num_epochs = 30\n",
    "train_generator_updated = generator_updated(train_path, train_doc, batch_size)\n",
    "val_generator_updated = generator_updated(val_path, val_doc, batch_size)\n",
    "\n",
    "model_name = 'model_init' + '_' + str(curr_dt_time).replace(' ','').replace(':','_') + '/'\n",
    "    \n",
    "if not os.path.exists(model_name):\n",
    "    os.mkdir(model_name)\n",
    "        \n",
    "filepath = model_name + 'model-{epoch:05d}-{loss:.5f}-{categorical_accuracy:.5f}-{val_loss:.5f}-{val_categorical_accuracy:.5f}.h5'\n",
    "\n",
    "checkpoint = ModelCheckpoint(filepath, monitor='val_loss', verbose=1, save_best_only=False, save_weights_only=False, mode='auto', period=1)\n",
    "\n",
    "# write the REducelronplateau code here\n",
    "LR = ReduceLROnPlateau(monitor='val_loss', factor=0.2, patience=4, verbose =1 )\n",
    "\n",
    "callbacks_list = [checkpoint, LR]\n",
    "\n",
    "if (num_train_sequences%batch_size) == 0:\n",
    "    steps_per_epoch = int(num_train_sequences/batch_size)\n",
    "else:\n",
    "    steps_per_epoch = (num_train_sequences//batch_size) + 1\n",
    "\n",
    "if (num_val_sequences%batch_size) == 0:\n",
    "    validation_steps = int(num_val_sequences/batch_size)\n",
    "else:\n",
    "    validation_steps = (num_val_sequences//batch_size) + 1\n",
    "\t"
   ]
  },
  {
   "cell_type": "code",
   "execution_count": null,
   "metadata": {},
   "outputs": [],
   "source": [
    "model4History = modelConv3D_4.fit_generator(train_generator_updated, steps_per_epoch=steps_per_epoch, epochs=num_epochs, verbose=1, \n",
    "                    callbacks=callbacks_list, validation_data=val_generator_updated, \n",
    "                    validation_steps=validation_steps, class_weight=None, workers=1, initial_epoch=0)"
   ]
  },
  {
   "cell_type": "code",
   "execution_count": null,
   "metadata": {},
   "outputs": [],
   "source": [
    "\t\t\t\t\t\n",
    "# Plotting the result of Model 1 :\n",
    "\n",
    "# summarize history for accuracy\n",
    "plt.plot(model4History.history['categorical_accuracy'])\n",
    "plt.plot(model4History.history['val_categorical_accuracy'])\n",
    "plt.title('model accuracy')\n",
    "plt.ylabel('accuracy')\n",
    "plt.xlabel('epoch')\n",
    "plt.legend(['train', 'test'], loc='upper left')\n",
    "plt.show()\n",
    "\n",
    "# summarize history for loss\n",
    "plt.plot(model4History.history['loss'])\n",
    "plt.plot(model4History.history['val_loss'])\n",
    "plt.title('model loss')\n",
    "plt.ylabel('loss')\n",
    "plt.xlabel('epoch')\n",
    "plt.legend(['train', 'test'], loc='upper left')\n",
    "plt.show()"
   ]
  },
  {
   "cell_type": "markdown",
   "metadata": {},
   "source": [
    "Model 5 : Conv 3D model\n",
    "batch size 30, increased image inputs to 30 , image size recuced to 84"
   ]
  },
  {
   "cell_type": "code",
   "execution_count": 26,
   "metadata": {},
   "outputs": [],
   "source": [
    "def generator_updated_reduced_size(source_path, folder_list, batch_size):\n",
    "    print( 'Source path = ', source_path, '; batch size =', batch_size)\n",
    "    img_idx = [x for x in range(0, 30)] \n",
    "    #create a list of image numbers you want to use for a particular video\n",
    "    while True:\n",
    "        t = np.random.permutation(folder_list)\n",
    "        num_batches = int(len(t)/batch_size)\n",
    "        # calculate the number of batches\n",
    "        for batch in range(num_batches): # we iterate over the number of batches\n",
    "            batch_data = np.zeros((batch_size,30,84,84,3)) # x is the number of images you use for each video, (y,z) is the final size of the input images and 3 is the number of channels RGB\n",
    "            batch_labels = np.zeros((batch_size,5)) # batch_labels is the one hot representation of the output\n",
    "            for folder in range(batch_size): # iterate over the batch_size\n",
    "                imgs = os.listdir(source_path+'/'+ t[folder + (batch*batch_size)].split(';')[0]) # read all the images in the folder\n",
    "                for idx,item in enumerate(img_idx): #  Iterate iver the frames/images of a folder to read them in\n",
    "                    image = imread(source_path+'/'+ t[folder + (batch*batch_size)].strip().split(';')[0]+'/'+imgs[item]).astype(np.float32)\n",
    "                    image = crop_img(image, 0.03)\n",
    "                    if image.shape[1] == 160:\n",
    "                        image = cv2.resize(image[:,20:140,:],(84,84),interpolation = cv2.INTER_AREA).astype(np.float32)\n",
    "                    else:\n",
    "                        image = cv2.resize(image,(84,84),interpolation = cv2.INTER_AREA).astype(np.float32)                    \n",
    "                       \n",
    "                    #crop the images and resize them. Note that the images are of 2 different shape \n",
    "                    #and the conv3D will throw error if the inputs in a batch have different shapes\n",
    "                    \n",
    "                    # normalize and feed the image. \n",
    "                    batch_data[folder,idx,:,:,0] = (image[:,:,0])/255\n",
    "                    batch_data[folder,idx,:,:,1] = (image[:,:,1])/255\n",
    "                    batch_data[folder,idx,:,:,2] = (image[:,:,2])/255\n",
    "                    \n",
    "                batch_labels[folder, int(t[folder + (batch*batch_size)].strip().split(';')[2])] = 1\n",
    "            yield batch_data, batch_labels #you yield the batch_data and the batch_labels, remember what does yield do\n",
    "\n",
    "        \n",
    "        # write the code for the remaining data points which are left after full batches\n",
    "        data_remaining = len(t)%batch_size\n",
    "        if(data_remaining != 0):\n",
    "            batch_data = np.zeros((batch_size,30,84,84,3)) # x is the number of images you use for each video, (y,z) is the final size of the input images and 3 is the number of channels RGB\n",
    "            batch_labels = np.zeros((data_remaining,5)) # batch_labels is the one hot representation of the output\n",
    "            for folder in range(data_remaining): # iterate over the batch_size\n",
    "                imgs = os.listdir(source_path+'/'+ t[folder + (num_batches*batch_size)].split(';')[0]) # read all the images in the folder\n",
    "                for idx,item in enumerate(img_idx): #  Iterate iver the frames/images of a folder to read them in\n",
    "                    image = imread(source_path+'/'+ t[folder + (num_batches*batch_size)].strip().split(';')[0]+'/'+imgs[item]).astype(np.float32)\n",
    "                    image = crop_img(image, 0.03)\n",
    "                    if image.shape[1] == 160:\n",
    "                        image = cv2.resize(image[:,20:140,:],(84,84),interpolation = cv2.INTER_AREA).astype(np.float32)\n",
    "                    else:\n",
    "                        image = cv2.resize(image,(84,84),interpolation = cv2.INTER_AREA).astype(np.float32)                    \n",
    "                       \n",
    "                    #crop the images and resize them. Note that the images are of 2 different shape \n",
    "                    #and the conv3D will throw error if the inputs in a batch have different shapes\n",
    "                    \n",
    "                    # normalize and feed the image. \n",
    "                    batch_data[folder,idx,:,:,0] = (image[:,:,0])/255\n",
    "                    batch_data[folder,idx,:,:,1] = (image[:,:,1])/255\n",
    "                    batch_data[folder,idx,:,:,2] = (image[:,:,2])/255\n",
    "                    \n",
    "                batch_labels[folder, int(t[folder + (num_batches*batch_size)].strip().split(';')[2])] = 1\n",
    "            yield batch_data, batch_labels #you yield the batch_data and the batch_labels, remember what does yield do\n"
   ]
  },
  {
   "cell_type": "code",
   "execution_count": 22,
   "metadata": {},
   "outputs": [
    {
     "name": "stdout",
     "output_type": "stream",
     "text": [
      "WARNING:tensorflow:`period` argument is deprecated. Please use `save_freq` to specify the frequency in number of batches seen.\n"
     ]
    }
   ],
   "source": [
    "batch_size = 30\n",
    "num_epochs = 20\n",
    "train_generator_updated = generator_updated_reduced_size(train_path, train_doc, batch_size)\n",
    "val_generator_updated = generator_updated_reduced_size(val_path, val_doc, batch_size)\n",
    "\n",
    "model_name = 'model_init' + '_' + str(curr_dt_time).replace(' ','').replace(':','_') + '/'\n",
    "    \n",
    "if not os.path.exists(model_name):\n",
    "    os.mkdir(model_name)\n",
    "        \n",
    "filepath = model_name + 'model-{epoch:05d}-{loss:.5f}-{categorical_accuracy:.5f}-{val_loss:.5f}-{val_categorical_accuracy:.5f}.h5'\n",
    "\n",
    "checkpoint = ModelCheckpoint(filepath, monitor='val_loss', verbose=1, save_best_only=False, save_weights_only=False, mode='auto', period=1)\n",
    "\n",
    "# write the REducelronplateau code here\n",
    "LR = ReduceLROnPlateau(monitor='val_loss', factor=0.2, patience=4, verbose =1 )\n",
    "\n",
    "callbacks_list = [checkpoint, LR]\n",
    "\n",
    "if (num_train_sequences%batch_size) == 0:\n",
    "    steps_per_epoch = int(num_train_sequences/batch_size)\n",
    "else:\n",
    "    steps_per_epoch = (num_train_sequences//batch_size) + 1\n",
    "\n",
    "if (num_val_sequences%batch_size) == 0:\n",
    "    validation_steps = int(num_val_sequences/batch_size)\n",
    "else:\n",
    "    validation_steps = (num_val_sequences//batch_size) + 1"
   ]
  },
  {
   "cell_type": "code",
   "execution_count": 27,
   "metadata": {},
   "outputs": [
    {
     "name": "stdout",
     "output_type": "stream",
     "text": [
      "Model: \"sequential_4\"\n",
      "_________________________________________________________________\n",
      " Layer (type)                Output Shape              Param #   \n",
      "=================================================================\n",
      " conv3d_16 (Conv3D)          (None, 30, 84, 84, 8)     656       \n",
      "                                                                 \n",
      " activation_16 (Activation)  (None, 30, 84, 84, 8)     0         \n",
      "                                                                 \n",
      " batch_normalization_24 (Bat  (None, 30, 84, 84, 8)    32        \n",
      " chNormalization)                                                \n",
      "                                                                 \n",
      " max_pooling3d_16 (MaxPoolin  (None, 15, 42, 42, 8)    0         \n",
      " g3D)                                                            \n",
      "                                                                 \n",
      " conv3d_17 (Conv3D)          (None, 15, 42, 42, 16)    3472      \n",
      "                                                                 \n",
      " activation_17 (Activation)  (None, 15, 42, 42, 16)    0         \n",
      "                                                                 \n",
      " batch_normalization_25 (Bat  (None, 15, 42, 42, 16)   64        \n",
      " chNormalization)                                                \n",
      "                                                                 \n",
      " max_pooling3d_17 (MaxPoolin  (None, 7, 21, 21, 16)    0         \n",
      " g3D)                                                            \n",
      "                                                                 \n",
      " conv3d_18 (Conv3D)          (None, 7, 21, 21, 32)     13856     \n",
      "                                                                 \n",
      " activation_18 (Activation)  (None, 7, 21, 21, 32)     0         \n",
      "                                                                 \n",
      " batch_normalization_26 (Bat  (None, 7, 21, 21, 32)    128       \n",
      " chNormalization)                                                \n",
      "                                                                 \n",
      " max_pooling3d_18 (MaxPoolin  (None, 3, 10, 10, 32)    0         \n",
      " g3D)                                                            \n",
      "                                                                 \n",
      " conv3d_19 (Conv3D)          (None, 3, 10, 10, 64)     55360     \n",
      "                                                                 \n",
      " activation_19 (Activation)  (None, 3, 10, 10, 64)     0         \n",
      "                                                                 \n",
      " batch_normalization_27 (Bat  (None, 3, 10, 10, 64)    256       \n",
      " chNormalization)                                                \n",
      "                                                                 \n",
      " max_pooling3d_19 (MaxPoolin  (None, 1, 5, 5, 64)      0         \n",
      " g3D)                                                            \n",
      "                                                                 \n",
      " flatten_4 (Flatten)         (None, 1600)              0         \n",
      "                                                                 \n",
      " dense_12 (Dense)            (None, 64)                102464    \n",
      "                                                                 \n",
      " batch_normalization_28 (Bat  (None, 64)               256       \n",
      " chNormalization)                                                \n",
      "                                                                 \n",
      " dropout_8 (Dropout)         (None, 64)                0         \n",
      "                                                                 \n",
      " dense_13 (Dense)            (None, 64)                4160      \n",
      "                                                                 \n",
      " batch_normalization_29 (Bat  (None, 64)               256       \n",
      " chNormalization)                                                \n",
      "                                                                 \n",
      " dropout_9 (Dropout)         (None, 64)                0         \n",
      "                                                                 \n",
      " dense_14 (Dense)            (None, 5)                 325       \n",
      "                                                                 \n",
      "=================================================================\n",
      "Total params: 181,285\n",
      "Trainable params: 180,789\n",
      "Non-trainable params: 496\n",
      "_________________________________________________________________\n",
      "None\n",
      "Total Params in model: 181285\n"
     ]
    }
   ],
   "source": [
    "modelConv3D_5 = Sequential()\n",
    "modelConv3D_5.add(Conv3D(8, (3,3,3), padding=\"same\", input_shape=(30, 84, 84, 3)))\n",
    "modelConv3D_5.add(Activation(\"relu\"))\n",
    "modelConv3D_5.add(BatchNormalization())\n",
    "modelConv3D_5.add(MaxPooling3D(pool_size=(2, 2, 2)))\n",
    "\n",
    "modelConv3D_5.add(Conv3D(16, (3,3,3), padding=\"same\"))\n",
    "modelConv3D_5.add(Activation(\"relu\"))\n",
    "modelConv3D_5.add(BatchNormalization())\n",
    "modelConv3D_5.add(MaxPooling3D(pool_size=(2, 2, 2)))\n",
    "\n",
    "\n",
    "modelConv3D_5.add(Conv3D(32, (3,3,3), padding=\"same\"))\n",
    "modelConv3D_5.add(Activation(\"relu\"))\n",
    "modelConv3D_5.add(BatchNormalization())\n",
    "modelConv3D_5.add(MaxPooling3D(pool_size=(2, 2, 2)))\n",
    "\n",
    "\n",
    "modelConv3D_5.add(Conv3D(64, (3,3,3), padding=\"same\"))\n",
    "modelConv3D_5.add(Activation(\"relu\"))\n",
    "modelConv3D_5.add(BatchNormalization())\n",
    "modelConv3D_5.add(MaxPooling3D(pool_size=(2, 2, 2)))\n",
    "\n",
    "modelConv3D_5.add(Flatten())\n",
    "modelConv3D_5.add(Dense(64, activation='relu'))\n",
    "modelConv3D_5.add(BatchNormalization())\n",
    "modelConv3D_5.add(Dropout(0.25))\n",
    "\n",
    "modelConv3D_5.add(Dense(64, activation='relu'))\n",
    "modelConv3D_5.add(BatchNormalization())\n",
    "modelConv3D_5.add(Dropout(0.25))\n",
    "\n",
    "modelConv3D_5.add(Dense(5, activation='softmax'))\n",
    "\n",
    "optimiser = tf.optimizers.Adam(lr=0.0002)\n",
    "\n",
    "# compile model :\n",
    "modelConv3D_5.compile(optimizer=optimiser, loss='categorical_crossentropy', metrics=['categorical_accuracy'])\n",
    "\n",
    "# Print the model summary :\n",
    "print (modelConv3D_5.summary())\n",
    "print(\"Total Params in model:\", modelConv3D_5.count_params())\n",
    "\n"
   ]
  },
  {
   "cell_type": "code",
   "execution_count": 30,
   "metadata": {},
   "outputs": [
    {
     "name": "stderr",
     "output_type": "stream",
     "text": [
      "/tmp/ipykernel_267/3481440363.py:1: UserWarning: `Model.fit_generator` is deprecated and will be removed in a future version. Please use `Model.fit`, which supports generators.\n",
      "  model5History = modelConv3D_5.fit_generator(train_generator_updated, steps_per_epoch=steps_per_epoch, epochs=num_epochs, verbose=1,\n",
      "/tmp/ipykernel_267/1639779493.py:15: DeprecationWarning:     `imread` is deprecated!\n",
      "    `imread` is deprecated in SciPy 1.0.0, and will be removed in 1.2.0.\n",
      "    Use ``imageio.imread`` instead.\n",
      "  image = imread(source_path+'/'+ t[folder + (batch*batch_size)].strip().split(';')[0]+'/'+imgs[item]).astype(np.float32)\n"
     ]
    },
    {
     "name": "stdout",
     "output_type": "stream",
     "text": [
      "Epoch 1/20\n",
      "21/23 [==========================>...] - ETA: 6s - loss: 1.8566 - categorical_accuracy: 0.3032 "
     ]
    },
    {
     "name": "stderr",
     "output_type": "stream",
     "text": [
      "/tmp/ipykernel_267/1639779493.py:42: DeprecationWarning:     `imread` is deprecated!\n",
      "    `imread` is deprecated in SciPy 1.0.0, and will be removed in 1.2.0.\n",
      "    Use ``imageio.imread`` instead.\n",
      "  image = imread(source_path+'/'+ t[folder + (num_batches*batch_size)].strip().split(';')[0]+'/'+imgs[item]).astype(np.float32)\n",
      "2024-11-05 15:05:17.366323: W tensorflow/core/framework/op_kernel.cc:1733] INVALID_ARGUMENT: required broadcastable shapes\n"
     ]
    },
    {
     "ename": "InvalidArgumentError",
     "evalue": " logits and labels must be broadcastable: logits_size=[30,5] labels_size=[3,5]\n\t [[node categorical_crossentropy/softmax_cross_entropy_with_logits\n (defined at /usr/local/lib/python3.8/dist-packages/keras/backend.py:5009)\n]] [Op:__inference_train_function_15907]\n\nErrors may have originated from an input operation.\nInput Source operations connected to node categorical_crossentropy/softmax_cross_entropy_with_logits:\nIn[0] categorical_crossentropy/softmax_cross_entropy_with_logits/Reshape:\t\nIn[1] categorical_crossentropy/softmax_cross_entropy_with_logits/Reshape_1:\n\nOperation defined at: (most recent call last)\n>>>   File \"/usr/lib/python3.8/runpy.py\", line 194, in _run_module_as_main\n>>>     return _run_code(code, main_globals, None,\n>>> \n>>>   File \"/usr/lib/python3.8/runpy.py\", line 87, in _run_code\n>>>     exec(code, run_globals)\n>>> \n>>>   File \"/usr/local/lib/python3.8/dist-packages/ipykernel_launcher.py\", line 16, in <module>\n>>>     app.launch_new_instance()\n>>> \n>>>   File \"/usr/local/lib/python3.8/dist-packages/traitlets/config/application.py\", line 846, in launch_instance\n>>>     app.start()\n>>> \n>>>   File \"/usr/local/lib/python3.8/dist-packages/ipykernel/kernelapp.py\", line 677, in start\n>>>     self.io_loop.start()\n>>> \n>>>   File \"/usr/local/lib/python3.8/dist-packages/tornado/platform/asyncio.py\", line 199, in start\n>>>     self.asyncio_loop.run_forever()\n>>> \n>>>   File \"/usr/lib/python3.8/asyncio/base_events.py\", line 570, in run_forever\n>>>     self._run_once()\n>>> \n>>>   File \"/usr/lib/python3.8/asyncio/base_events.py\", line 1859, in _run_once\n>>>     handle._run()\n>>> \n>>>   File \"/usr/lib/python3.8/asyncio/events.py\", line 81, in _run\n>>>     self._context.run(self._callback, *self._args)\n>>> \n>>>   File \"/usr/local/lib/python3.8/dist-packages/ipykernel/kernelbase.py\", line 461, in dispatch_queue\n>>>     await self.process_one()\n>>> \n>>>   File \"/usr/local/lib/python3.8/dist-packages/ipykernel/kernelbase.py\", line 450, in process_one\n>>>     await dispatch(*args)\n>>> \n>>>   File \"/usr/local/lib/python3.8/dist-packages/ipykernel/kernelbase.py\", line 357, in dispatch_shell\n>>>     await result\n>>> \n>>>   File \"/usr/local/lib/python3.8/dist-packages/ipykernel/kernelbase.py\", line 652, in execute_request\n>>>     reply_content = await reply_content\n>>> \n>>>   File \"/usr/local/lib/python3.8/dist-packages/ipykernel/ipkernel.py\", line 359, in do_execute\n>>>     res = shell.run_cell(code, store_history=store_history, silent=silent)\n>>> \n>>>   File \"/usr/local/lib/python3.8/dist-packages/ipykernel/zmqshell.py\", line 532, in run_cell\n>>>     return super().run_cell(*args, **kwargs)\n>>> \n>>>   File \"/usr/local/lib/python3.8/dist-packages/IPython/core/interactiveshell.py\", line 2914, in run_cell\n>>>     result = self._run_cell(\n>>> \n>>>   File \"/usr/local/lib/python3.8/dist-packages/IPython/core/interactiveshell.py\", line 2960, in _run_cell\n>>>     return runner(coro)\n>>> \n>>>   File \"/usr/local/lib/python3.8/dist-packages/IPython/core/async_helpers.py\", line 78, in _pseudo_sync_runner\n>>>     coro.send(None)\n>>> \n>>>   File \"/usr/local/lib/python3.8/dist-packages/IPython/core/interactiveshell.py\", line 3185, in run_cell_async\n>>>     has_raised = await self.run_ast_nodes(code_ast.body, cell_name,\n>>> \n>>>   File \"/usr/local/lib/python3.8/dist-packages/IPython/core/interactiveshell.py\", line 3377, in run_ast_nodes\n>>>     if (await self.run_code(code, result,  async_=asy)):\n>>> \n>>>   File \"/usr/local/lib/python3.8/dist-packages/IPython/core/interactiveshell.py\", line 3457, in run_code\n>>>     exec(code_obj, self.user_global_ns, self.user_ns)\n>>> \n>>>   File \"/tmp/ipykernel_267/3481440363.py\", line 1, in <module>\n>>>     model5History = modelConv3D_5.fit_generator(train_generator_updated, steps_per_epoch=steps_per_epoch, epochs=num_epochs, verbose=1,\n>>> \n>>>   File \"/usr/local/lib/python3.8/dist-packages/keras/engine/training.py\", line 2016, in fit_generator\n>>>     return self.fit(\n>>> \n>>>   File \"/usr/local/lib/python3.8/dist-packages/keras/utils/traceback_utils.py\", line 64, in error_handler\n>>>     return fn(*args, **kwargs)\n>>> \n>>>   File \"/usr/local/lib/python3.8/dist-packages/keras/engine/training.py\", line 1216, in fit\n>>>     tmp_logs = self.train_function(iterator)\n>>> \n>>>   File \"/usr/local/lib/python3.8/dist-packages/keras/engine/training.py\", line 878, in train_function\n>>>     return step_function(self, iterator)\n>>> \n>>>   File \"/usr/local/lib/python3.8/dist-packages/keras/engine/training.py\", line 867, in step_function\n>>>     outputs = model.distribute_strategy.run(run_step, args=(data,))\n>>> \n>>>   File \"/usr/local/lib/python3.8/dist-packages/keras/engine/training.py\", line 860, in run_step\n>>>     outputs = model.train_step(data)\n>>> \n>>>   File \"/usr/local/lib/python3.8/dist-packages/keras/engine/training.py\", line 809, in train_step\n>>>     loss = self.compiled_loss(\n>>> \n>>>   File \"/usr/local/lib/python3.8/dist-packages/keras/engine/compile_utils.py\", line 201, in __call__\n>>>     loss_value = loss_obj(y_t, y_p, sample_weight=sw)\n>>> \n>>>   File \"/usr/local/lib/python3.8/dist-packages/keras/losses.py\", line 141, in __call__\n>>>     losses = call_fn(y_true, y_pred)\n>>> \n>>>   File \"/usr/local/lib/python3.8/dist-packages/keras/losses.py\", line 245, in call\n>>>     return ag_fn(y_true, y_pred, **self._fn_kwargs)\n>>> \n>>>   File \"/usr/local/lib/python3.8/dist-packages/keras/losses.py\", line 1664, in categorical_crossentropy\n>>>     return backend.categorical_crossentropy(\n>>> \n>>>   File \"/usr/local/lib/python3.8/dist-packages/keras/backend.py\", line 5009, in categorical_crossentropy\n>>>     return tf.nn.softmax_cross_entropy_with_logits(\n>>> ",
     "output_type": "error",
     "traceback": [
      "\u001b[0;31m---------------------------------------------------------------------------\u001b[0m",
      "\u001b[0;31mInvalidArgumentError\u001b[0m                      Traceback (most recent call last)",
      "\u001b[0;32m/tmp/ipykernel_267/3481440363.py\u001b[0m in \u001b[0;36m<module>\u001b[0;34m\u001b[0m\n\u001b[0;32m----> 1\u001b[0;31m model5History = modelConv3D_5.fit_generator(train_generator_updated, steps_per_epoch=steps_per_epoch, epochs=num_epochs, verbose=1, \n\u001b[0m\u001b[1;32m      2\u001b[0m                     \u001b[0mcallbacks\u001b[0m\u001b[0;34m=\u001b[0m\u001b[0mcallbacks_list\u001b[0m\u001b[0;34m,\u001b[0m \u001b[0mvalidation_data\u001b[0m\u001b[0;34m=\u001b[0m\u001b[0mval_generator_updated\u001b[0m\u001b[0;34m,\u001b[0m\u001b[0;34m\u001b[0m\u001b[0;34m\u001b[0m\u001b[0m\n\u001b[1;32m      3\u001b[0m                     validation_steps=validation_steps, class_weight=None, workers=1, initial_epoch=0)\n",
      "\u001b[0;32m/usr/local/lib/python3.8/dist-packages/keras/engine/training.py\u001b[0m in \u001b[0;36mfit_generator\u001b[0;34m(self, generator, steps_per_epoch, epochs, verbose, callbacks, validation_data, validation_steps, validation_freq, class_weight, max_queue_size, workers, use_multiprocessing, shuffle, initial_epoch)\u001b[0m\n\u001b[1;32m   2014\u001b[0m         \u001b[0;34m'Please use `Model.fit`, which supports generators.'\u001b[0m\u001b[0;34m,\u001b[0m\u001b[0;34m\u001b[0m\u001b[0;34m\u001b[0m\u001b[0m\n\u001b[1;32m   2015\u001b[0m         stacklevel=2)\n\u001b[0;32m-> 2016\u001b[0;31m     return self.fit(\n\u001b[0m\u001b[1;32m   2017\u001b[0m         \u001b[0mgenerator\u001b[0m\u001b[0;34m,\u001b[0m\u001b[0;34m\u001b[0m\u001b[0;34m\u001b[0m\u001b[0m\n\u001b[1;32m   2018\u001b[0m         \u001b[0msteps_per_epoch\u001b[0m\u001b[0;34m=\u001b[0m\u001b[0msteps_per_epoch\u001b[0m\u001b[0;34m,\u001b[0m\u001b[0;34m\u001b[0m\u001b[0;34m\u001b[0m\u001b[0m\n",
      "\u001b[0;32m/usr/local/lib/python3.8/dist-packages/keras/utils/traceback_utils.py\u001b[0m in \u001b[0;36merror_handler\u001b[0;34m(*args, **kwargs)\u001b[0m\n\u001b[1;32m     65\u001b[0m     \u001b[0;32mexcept\u001b[0m \u001b[0mException\u001b[0m \u001b[0;32mas\u001b[0m \u001b[0me\u001b[0m\u001b[0;34m:\u001b[0m  \u001b[0;31m# pylint: disable=broad-except\u001b[0m\u001b[0;34m\u001b[0m\u001b[0;34m\u001b[0m\u001b[0m\n\u001b[1;32m     66\u001b[0m       \u001b[0mfiltered_tb\u001b[0m \u001b[0;34m=\u001b[0m \u001b[0m_process_traceback_frames\u001b[0m\u001b[0;34m(\u001b[0m\u001b[0me\u001b[0m\u001b[0;34m.\u001b[0m\u001b[0m__traceback__\u001b[0m\u001b[0;34m)\u001b[0m\u001b[0;34m\u001b[0m\u001b[0;34m\u001b[0m\u001b[0m\n\u001b[0;32m---> 67\u001b[0;31m       \u001b[0;32mraise\u001b[0m \u001b[0me\u001b[0m\u001b[0;34m.\u001b[0m\u001b[0mwith_traceback\u001b[0m\u001b[0;34m(\u001b[0m\u001b[0mfiltered_tb\u001b[0m\u001b[0;34m)\u001b[0m \u001b[0;32mfrom\u001b[0m \u001b[0;32mNone\u001b[0m\u001b[0;34m\u001b[0m\u001b[0;34m\u001b[0m\u001b[0m\n\u001b[0m\u001b[1;32m     68\u001b[0m     \u001b[0;32mfinally\u001b[0m\u001b[0;34m:\u001b[0m\u001b[0;34m\u001b[0m\u001b[0;34m\u001b[0m\u001b[0m\n\u001b[1;32m     69\u001b[0m       \u001b[0;32mdel\u001b[0m \u001b[0mfiltered_tb\u001b[0m\u001b[0;34m\u001b[0m\u001b[0;34m\u001b[0m\u001b[0m\n",
      "\u001b[0;32m/usr/local/lib/python3.8/dist-packages/tensorflow/python/eager/execute.py\u001b[0m in \u001b[0;36mquick_execute\u001b[0;34m(op_name, num_outputs, inputs, attrs, ctx, name)\u001b[0m\n\u001b[1;32m     56\u001b[0m   \u001b[0;32mtry\u001b[0m\u001b[0;34m:\u001b[0m\u001b[0;34m\u001b[0m\u001b[0;34m\u001b[0m\u001b[0m\n\u001b[1;32m     57\u001b[0m     \u001b[0mctx\u001b[0m\u001b[0;34m.\u001b[0m\u001b[0mensure_initialized\u001b[0m\u001b[0;34m(\u001b[0m\u001b[0;34m)\u001b[0m\u001b[0;34m\u001b[0m\u001b[0;34m\u001b[0m\u001b[0m\n\u001b[0;32m---> 58\u001b[0;31m     tensors = pywrap_tfe.TFE_Py_Execute(ctx._handle, device_name, op_name,\n\u001b[0m\u001b[1;32m     59\u001b[0m                                         inputs, attrs, num_outputs)\n\u001b[1;32m     60\u001b[0m   \u001b[0;32mexcept\u001b[0m \u001b[0mcore\u001b[0m\u001b[0;34m.\u001b[0m\u001b[0m_NotOkStatusException\u001b[0m \u001b[0;32mas\u001b[0m \u001b[0me\u001b[0m\u001b[0;34m:\u001b[0m\u001b[0;34m\u001b[0m\u001b[0;34m\u001b[0m\u001b[0m\n",
      "\u001b[0;31mInvalidArgumentError\u001b[0m:  logits and labels must be broadcastable: logits_size=[30,5] labels_size=[3,5]\n\t [[node categorical_crossentropy/softmax_cross_entropy_with_logits\n (defined at /usr/local/lib/python3.8/dist-packages/keras/backend.py:5009)\n]] [Op:__inference_train_function_15907]\n\nErrors may have originated from an input operation.\nInput Source operations connected to node categorical_crossentropy/softmax_cross_entropy_with_logits:\nIn[0] categorical_crossentropy/softmax_cross_entropy_with_logits/Reshape:\t\nIn[1] categorical_crossentropy/softmax_cross_entropy_with_logits/Reshape_1:\n\nOperation defined at: (most recent call last)\n>>>   File \"/usr/lib/python3.8/runpy.py\", line 194, in _run_module_as_main\n>>>     return _run_code(code, main_globals, None,\n>>> \n>>>   File \"/usr/lib/python3.8/runpy.py\", line 87, in _run_code\n>>>     exec(code, run_globals)\n>>> \n>>>   File \"/usr/local/lib/python3.8/dist-packages/ipykernel_launcher.py\", line 16, in <module>\n>>>     app.launch_new_instance()\n>>> \n>>>   File \"/usr/local/lib/python3.8/dist-packages/traitlets/config/application.py\", line 846, in launch_instance\n>>>     app.start()\n>>> \n>>>   File \"/usr/local/lib/python3.8/dist-packages/ipykernel/kernelapp.py\", line 677, in start\n>>>     self.io_loop.start()\n>>> \n>>>   File \"/usr/local/lib/python3.8/dist-packages/tornado/platform/asyncio.py\", line 199, in start\n>>>     self.asyncio_loop.run_forever()\n>>> \n>>>   File \"/usr/lib/python3.8/asyncio/base_events.py\", line 570, in run_forever\n>>>     self._run_once()\n>>> \n>>>   File \"/usr/lib/python3.8/asyncio/base_events.py\", line 1859, in _run_once\n>>>     handle._run()\n>>> \n>>>   File \"/usr/lib/python3.8/asyncio/events.py\", line 81, in _run\n>>>     self._context.run(self._callback, *self._args)\n>>> \n>>>   File \"/usr/local/lib/python3.8/dist-packages/ipykernel/kernelbase.py\", line 461, in dispatch_queue\n>>>     await self.process_one()\n>>> \n>>>   File \"/usr/local/lib/python3.8/dist-packages/ipykernel/kernelbase.py\", line 450, in process_one\n>>>     await dispatch(*args)\n>>> \n>>>   File \"/usr/local/lib/python3.8/dist-packages/ipykernel/kernelbase.py\", line 357, in dispatch_shell\n>>>     await result\n>>> \n>>>   File \"/usr/local/lib/python3.8/dist-packages/ipykernel/kernelbase.py\", line 652, in execute_request\n>>>     reply_content = await reply_content\n>>> \n>>>   File \"/usr/local/lib/python3.8/dist-packages/ipykernel/ipkernel.py\", line 359, in do_execute\n>>>     res = shell.run_cell(code, store_history=store_history, silent=silent)\n>>> \n>>>   File \"/usr/local/lib/python3.8/dist-packages/ipykernel/zmqshell.py\", line 532, in run_cell\n>>>     return super().run_cell(*args, **kwargs)\n>>> \n>>>   File \"/usr/local/lib/python3.8/dist-packages/IPython/core/interactiveshell.py\", line 2914, in run_cell\n>>>     result = self._run_cell(\n>>> \n>>>   File \"/usr/local/lib/python3.8/dist-packages/IPython/core/interactiveshell.py\", line 2960, in _run_cell\n>>>     return runner(coro)\n>>> \n>>>   File \"/usr/local/lib/python3.8/dist-packages/IPython/core/async_helpers.py\", line 78, in _pseudo_sync_runner\n>>>     coro.send(None)\n>>> \n>>>   File \"/usr/local/lib/python3.8/dist-packages/IPython/core/interactiveshell.py\", line 3185, in run_cell_async\n>>>     has_raised = await self.run_ast_nodes(code_ast.body, cell_name,\n>>> \n>>>   File \"/usr/local/lib/python3.8/dist-packages/IPython/core/interactiveshell.py\", line 3377, in run_ast_nodes\n>>>     if (await self.run_code(code, result,  async_=asy)):\n>>> \n>>>   File \"/usr/local/lib/python3.8/dist-packages/IPython/core/interactiveshell.py\", line 3457, in run_code\n>>>     exec(code_obj, self.user_global_ns, self.user_ns)\n>>> \n>>>   File \"/tmp/ipykernel_267/3481440363.py\", line 1, in <module>\n>>>     model5History = modelConv3D_5.fit_generator(train_generator_updated, steps_per_epoch=steps_per_epoch, epochs=num_epochs, verbose=1,\n>>> \n>>>   File \"/usr/local/lib/python3.8/dist-packages/keras/engine/training.py\", line 2016, in fit_generator\n>>>     return self.fit(\n>>> \n>>>   File \"/usr/local/lib/python3.8/dist-packages/keras/utils/traceback_utils.py\", line 64, in error_handler\n>>>     return fn(*args, **kwargs)\n>>> \n>>>   File \"/usr/local/lib/python3.8/dist-packages/keras/engine/training.py\", line 1216, in fit\n>>>     tmp_logs = self.train_function(iterator)\n>>> \n>>>   File \"/usr/local/lib/python3.8/dist-packages/keras/engine/training.py\", line 878, in train_function\n>>>     return step_function(self, iterator)\n>>> \n>>>   File \"/usr/local/lib/python3.8/dist-packages/keras/engine/training.py\", line 867, in step_function\n>>>     outputs = model.distribute_strategy.run(run_step, args=(data,))\n>>> \n>>>   File \"/usr/local/lib/python3.8/dist-packages/keras/engine/training.py\", line 860, in run_step\n>>>     outputs = model.train_step(data)\n>>> \n>>>   File \"/usr/local/lib/python3.8/dist-packages/keras/engine/training.py\", line 809, in train_step\n>>>     loss = self.compiled_loss(\n>>> \n>>>   File \"/usr/local/lib/python3.8/dist-packages/keras/engine/compile_utils.py\", line 201, in __call__\n>>>     loss_value = loss_obj(y_t, y_p, sample_weight=sw)\n>>> \n>>>   File \"/usr/local/lib/python3.8/dist-packages/keras/losses.py\", line 141, in __call__\n>>>     losses = call_fn(y_true, y_pred)\n>>> \n>>>   File \"/usr/local/lib/python3.8/dist-packages/keras/losses.py\", line 245, in call\n>>>     return ag_fn(y_true, y_pred, **self._fn_kwargs)\n>>> \n>>>   File \"/usr/local/lib/python3.8/dist-packages/keras/losses.py\", line 1664, in categorical_crossentropy\n>>>     return backend.categorical_crossentropy(\n>>> \n>>>   File \"/usr/local/lib/python3.8/dist-packages/keras/backend.py\", line 5009, in categorical_crossentropy\n>>>     return tf.nn.softmax_cross_entropy_with_logits(\n>>> "
     ]
    }
   ],
   "source": [
    "model5History = modelConv3D_5.fit_generator(train_generator_updated, steps_per_epoch=steps_per_epoch, epochs=num_epochs, verbose=1, \n",
    "                    callbacks=callbacks_list, validation_data=val_generator_updated, \n",
    "                    validation_steps=validation_steps, class_weight=None, workers=1, initial_epoch=0)"
   ]
  },
  {
   "cell_type": "code",
   "execution_count": null,
   "metadata": {},
   "outputs": [],
   "source": [
    "# Plotting the result of Model 1 :\n",
    "\n",
    "# summarize history for accuracy\n",
    "plt.plot(model5History.history['categorical_accuracy'])\n",
    "plt.plot(model5History.history['val_categorical_accuracy'])\n",
    "plt.title('model accuracy')\n",
    "plt.ylabel('accuracy')\n",
    "plt.xlabel('epoch')\n",
    "plt.legend(['train', 'test'], loc='upper left')\n",
    "plt.show()\n",
    "\n",
    "# summarize history for loss\n",
    "plt.plot(model5History.history['loss'])\n",
    "plt.plot(model5History.history['val_loss'])\n",
    "plt.title('model loss')\n",
    "plt.ylabel('loss')\n",
    "plt.xlabel('epoch')\n",
    "plt.legend(['train', 'test'], loc='upper left')\n",
    "plt.show()"
   ]
  },
  {
   "cell_type": "markdown",
   "metadata": {},
   "source": [
    "Model 6 : CNN - LSTM Model"
   ]
  },
  {
   "cell_type": "code",
   "execution_count": 70,
   "metadata": {},
   "outputs": [
    {
     "name": "stdout",
     "output_type": "stream",
     "text": [
      "Model: \"sequential_11\"\n",
      "_________________________________________________________________\n",
      " Layer (type)                Output Shape              Param #   \n",
      "=================================================================\n",
      " time_distributed_50 (TimeDi  (None, 20, 100, 100, 16)  448      \n",
      " stributed)                                                      \n",
      "                                                                 \n",
      " time_distributed_51 (TimeDi  (None, 20, 100, 100, 16)  64       \n",
      " stributed)                                                      \n",
      "                                                                 \n",
      " time_distributed_52 (TimeDi  (None, 20, 50, 50, 16)   0         \n",
      " stributed)                                                      \n",
      "                                                                 \n",
      " time_distributed_53 (TimeDi  (None, 20, 50, 50, 32)   4640      \n",
      " stributed)                                                      \n",
      "                                                                 \n",
      " time_distributed_54 (TimeDi  (None, 20, 50, 50, 32)   128       \n",
      " stributed)                                                      \n",
      "                                                                 \n",
      " time_distributed_55 (TimeDi  (None, 20, 25, 25, 32)   0         \n",
      " stributed)                                                      \n",
      "                                                                 \n",
      " time_distributed_56 (TimeDi  (None, 20, 25, 25, 64)   18496     \n",
      " stributed)                                                      \n",
      "                                                                 \n",
      " time_distributed_57 (TimeDi  (None, 20, 25, 25, 64)   256       \n",
      " stributed)                                                      \n",
      "                                                                 \n",
      " time_distributed_58 (TimeDi  (None, 20, 12, 12, 64)   0         \n",
      " stributed)                                                      \n",
      "                                                                 \n",
      " time_distributed_59 (TimeDi  (None, 20, 12, 12, 128)  73856     \n",
      " stributed)                                                      \n",
      "                                                                 \n",
      " time_distributed_60 (TimeDi  (None, 20, 12, 12, 128)  512       \n",
      " stributed)                                                      \n",
      "                                                                 \n",
      " time_distributed_61 (TimeDi  (None, 20, 6, 6, 128)    0         \n",
      " stributed)                                                      \n",
      "                                                                 \n",
      " time_distributed_62 (TimeDi  (None, 20, 6, 6, 256)    295168    \n",
      " stributed)                                                      \n",
      "                                                                 \n",
      " time_distributed_63 (TimeDi  (None, 20, 6, 6, 256)    1024      \n",
      " stributed)                                                      \n",
      "                                                                 \n",
      " time_distributed_64 (TimeDi  (None, 20, 3, 3, 256)    0         \n",
      " stributed)                                                      \n",
      "                                                                 \n",
      " time_distributed_65 (TimeDi  (None, 20, 2304)         0         \n",
      " stributed)                                                      \n",
      "                                                                 \n",
      " lstm_2 (LSTM)               (None, 128)               1245696   \n",
      "                                                                 \n",
      " dropout_14 (Dropout)        (None, 128)               0         \n",
      "                                                                 \n",
      " dense_19 (Dense)            (None, 128)               16512     \n",
      "                                                                 \n",
      " dropout_15 (Dropout)        (None, 128)               0         \n",
      "                                                                 \n",
      " dense_20 (Dense)            (None, 5)                 645       \n",
      "                                                                 \n",
      "=================================================================\n",
      "Total params: 1,657,445\n",
      "Trainable params: 1,656,453\n",
      "Non-trainable params: 992\n",
      "_________________________________________________________________\n",
      "None\n"
     ]
    }
   ],
   "source": [
    "input_shape=(20,100,100,3)\n",
    "CNNlstm_1 = Sequential()\n",
    "\n",
    "CNNlstm_1.add(TimeDistributed(Conv2D(16, (3, 3) , padding='same', activation='relu'),\n",
    "                          input_shape=input_shape))\n",
    "CNNlstm_1.add(TimeDistributed(BatchNormalization()))\n",
    "CNNlstm_1.add(TimeDistributed(MaxPooling2D((2, 2))))\n",
    "\n",
    "CNNlstm_1.add(TimeDistributed(Conv2D(32, (3, 3) , padding='same', activation='relu')))\n",
    "CNNlstm_1.add(TimeDistributed(BatchNormalization()))\n",
    "CNNlstm_1.add(TimeDistributed(MaxPooling2D((2, 2))))\n",
    "\n",
    "CNNlstm_1.add(TimeDistributed(Conv2D(64, (3, 3) , padding='same', activation='relu')))\n",
    "CNNlstm_1.add(TimeDistributed(BatchNormalization()))\n",
    "CNNlstm_1.add(TimeDistributed(MaxPooling2D((2, 2))))\n",
    "\n",
    "CNNlstm_1.add(TimeDistributed(Conv2D(128, (3, 3) , padding='same', activation='relu')))\n",
    "CNNlstm_1.add(TimeDistributed(BatchNormalization()))\n",
    "CNNlstm_1.add(TimeDistributed(MaxPooling2D((2, 2))))\n",
    "\n",
    "CNNlstm_1.add(TimeDistributed(Conv2D(256, (3, 3) , padding='same', activation='relu')))\n",
    "CNNlstm_1.add(TimeDistributed(BatchNormalization()))\n",
    "CNNlstm_1.add(TimeDistributed(MaxPooling2D((2, 2))))\n",
    "\n",
    "CNNlstm_1.add(TimeDistributed(Flatten()))\n",
    "\n",
    "\n",
    "CNNlstm_1.add(LSTM(128))\n",
    "CNNlstm_1.add(Dropout(0.25))\n",
    "\n",
    "CNNlstm_1.add(Dense(128,activation='relu'))\n",
    "CNNlstm_1.add(Dropout(0.25))\n",
    "\n",
    "CNNlstm_1.add(Dense(5, activation='softmax'))\n",
    "\n",
    "\n",
    "#write your optimizer\n",
    "optimiser = tf.optimizers.Adam()\n",
    "#optimiser = \n",
    "#sgd = optimizers.SGD(lr=0.001, decay=1e-6, momentum=0.7, nesterov=True)\n",
    "\n",
    "# compile model :\n",
    "CNNlstm_1.compile(optimizer=optimiser, loss='categorical_crossentropy', metrics=['categorical_accuracy'])\n",
    "print (CNNlstm_1.summary())"
   ]
  },
  {
   "cell_type": "code",
   "execution_count": 71,
   "metadata": {},
   "outputs": [],
   "source": [
    "def generatorLSTM(source_path, folder_list, batch_size):\n",
    "    print( 'Source path = ', source_path, '; batch size =', batch_size)\n",
    "    img_idx = arr\n",
    "    #create a list of image numbers you want to use for a particular video\n",
    "    while True:\n",
    "        t = np.random.permutation(folder_list)\n",
    "        num_batches = int(len(t)/batch_size)\n",
    "        # calculate the number of batches\n",
    "        for batch in range(num_batches): # we iterate over the number of batches\n",
    "            batch_data = np.zeros((batch_size,20,100,100,3)) # x is the number of images you use for each video, (y,z) is the final size of the input images and 3 is the number of channels RGB\n",
    "            batch_labels = np.zeros((batch_size,5)) # batch_labels is the one hot representation of the output\n",
    "            for folder in range(batch_size): # iterate over the batch_size\n",
    "                imgs = os.listdir(source_path+'/'+ t[folder + (batch*batch_size)].split(';')[0]) # read all the images in the folder\n",
    "                for idx,item in enumerate(img_idx): #  Iterate iver the frames/images of a folder to read them in\n",
    "                    image = imread(source_path+'/'+ t[folder + (batch*batch_size)].strip().split(';')[0]+'/'+imgs[item]).astype(np.float32)\n",
    "                    image = crop_img(image, 0.10)\n",
    "                    if image.shape[1] == 160:\n",
    "                        image = cv2.resize(image[:,20:140,:],(100,100),interpolation = cv2.INTER_AREA).astype(np.float32)\n",
    "                    else:\n",
    "                        image = cv2.resize(image,(100,100),interpolation = cv2.INTER_AREA).astype(np.float32)                    \n",
    "                       \n",
    "                    #crop the images and resize them. Note that the images are of 2 different shape \n",
    "                    #and the conv3D will throw error if the inputs in a batch have different shapes\n",
    "                    \n",
    "                    # normalize and feed the image. \n",
    "                    batch_data[folder,idx,:,:,0] = (image[:,:,0])/255\n",
    "                    batch_data[folder,idx,:,:,1] = (image[:,:,1])/255\n",
    "                    batch_data[folder,idx,:,:,2] = (image[:,:,2])/255\n",
    "                    \n",
    "                batch_labels[folder, int(t[folder + (batch*batch_size)].strip().split(';')[2])] = 1\n",
    "            yield batch_data, batch_labels #you yield the batch_data and the batch_labels, remember what does yield do\n",
    "\n",
    "        \n",
    "        # write the code for the remaining data points which are left after full batches\n",
    "        data_remaining = len(t)%batch_size\n",
    "        if(data_remaining != 0):\n",
    "            batch_data = np.zeros((data_remaining,20,100,100,3)) # x is the number of images you use for each video, (y,z) is the final size of the input images and 3 is the number of channels RGB\n",
    "            batch_labels = np.zeros((data_remaining,5)) # batch_labels is the one hot representation of the output\n",
    "            for folder in range(data_remaining): # iterate over the batch_size\n",
    "                imgs = os.listdir(source_path+'/'+ t[folder + (num_batches*batch_size)].split(';')[0]) # read all the images in the folder\n",
    "                for idx,item in enumerate(img_idx): #  Iterate iver the frames/images of a folder to read them in\n",
    "                    image = imread(source_path+'/'+ t[folder + (num_batches*batch_size)].strip().split(';')[0]+'/'+imgs[item]).astype(np.float32)\n",
    "                    image = crop_img(image, 0.10)\n",
    "                    if image.shape[1] == 160:\n",
    "                        image = cv2.resize(image[:,20:140,:],(100,100),interpolation = cv2.INTER_AREA).astype(np.float32)\n",
    "                    else:\n",
    "                        image = cv2.resize(image,(100,100),interpolation = cv2.INTER_AREA).astype(np.float32)                    \n",
    "                       \n",
    "                    #crop the images and resize them. Note that the images are of 2 different shape \n",
    "                    #and the conv3D will throw error if the inputs in a batch have different shapes\n",
    "                    \n",
    "                    # normalize and feed the image. \n",
    "                    batch_data[folder,idx,:,:,0] = (image[:,:,0])/255\n",
    "                    batch_data[folder,idx,:,:,1] = (image[:,:,1])/255\n",
    "                    batch_data[folder,idx,:,:,2] = (image[:,:,2])/255\n",
    "                    \n",
    "                batch_labels[folder, int(t[folder + (num_batches*batch_size)].strip().split(';')[2])] = 1\n",
    "            yield batch_data, batch_labels #you yield the batch_data and the batch_labels, remember what does yield do\n"
   ]
  },
  {
   "cell_type": "code",
   "execution_count": null,
   "metadata": {},
   "outputs": [],
   "source": []
  },
  {
   "cell_type": "code",
   "execution_count": 72,
   "metadata": {},
   "outputs": [
    {
     "name": "stdout",
     "output_type": "stream",
     "text": [
      "WARNING:tensorflow:`period` argument is deprecated. Please use `save_freq` to specify the frequency in number of batches seen.\n"
     ]
    }
   ],
   "source": [
    "batch_size = 30\n",
    "num_epochs = 20\n",
    "train_generator = generatorLSTM(train_path, train_doc, batch_size)\n",
    "val_generator = generatorLSTM(val_path, val_doc, batch_size)\n",
    "\n",
    "model_name = 'model_init' + '_' + str(curr_dt_time).replace(' ','').replace(':','_') + '/'\n",
    "    \n",
    "if not os.path.exists(model_name):\n",
    "    os.mkdir(model_name)\n",
    "        \n",
    "filepath = model_name + 'model-{epoch:05d}-{loss:.5f}-{categorical_accuracy:.5f}-{val_loss:.5f}-{val_categorical_accuracy:.5f}.h5'\n",
    "\n",
    "checkpoint = ModelCheckpoint(filepath, monitor='val_loss', verbose=1, save_best_only=False, save_weights_only=False, mode='auto', period=1)\n",
    "\n",
    "# write the REducelronplateau code here\n",
    "LR = ReduceLROnPlateau(monitor='val_loss', factor=0.2, patience=4)\n",
    "\n",
    "callbacks_list = [checkpoint, LR]\n",
    "\n",
    "if (num_train_sequences%batch_size) == 0:\n",
    "    steps_per_epoch = int(num_train_sequences/batch_size)\n",
    "else:\n",
    "    steps_per_epoch = (num_train_sequences//batch_size) + 1\n",
    "\n",
    "if (num_val_sequences%batch_size) == 0:\n",
    "    validation_steps = int(num_val_sequences/batch_size)\n",
    "else:\n",
    "    validation_steps = (num_val_sequences//batch_size) + 1"
   ]
  },
  {
   "cell_type": "code",
   "execution_count": 73,
   "metadata": {},
   "outputs": [
    {
     "name": "stderr",
     "output_type": "stream",
     "text": [
      "/tmp/ipykernel_267/2841256302.py:1: UserWarning: `Model.fit_generator` is deprecated and will be removed in a future version. Please use `Model.fit`, which supports generators.\n",
      "  history = CNNlstm_1.fit_generator(train_generator, steps_per_epoch=steps_per_epoch, epochs=num_epochs, verbose=1,\n",
      "/tmp/ipykernel_267/3530338047.py:15: DeprecationWarning:     `imread` is deprecated!\n",
      "    `imread` is deprecated in SciPy 1.0.0, and will be removed in 1.2.0.\n",
      "    Use ``imageio.imread`` instead.\n",
      "  image = imread(source_path+'/'+ t[folder + (batch*batch_size)].strip().split(';')[0]+'/'+imgs[item]).astype(np.float32)\n"
     ]
    },
    {
     "name": "stdout",
     "output_type": "stream",
     "text": [
      "Source path =  /datasets/Project_data/train ; batch size = 30\n",
      "Epoch 1/20\n",
      "21/23 [==========================>...] - ETA: 2s - loss: 1.6428 - categorical_accuracy: 0.2571"
     ]
    },
    {
     "name": "stderr",
     "output_type": "stream",
     "text": [
      "/tmp/ipykernel_267/3530338047.py:42: DeprecationWarning:     `imread` is deprecated!\n",
      "    `imread` is deprecated in SciPy 1.0.0, and will be removed in 1.2.0.\n",
      "    Use ``imageio.imread`` instead.\n",
      "  image = imread(source_path+'/'+ t[folder + (num_batches*batch_size)].strip().split(';')[0]+'/'+imgs[item]).astype(np.float32)\n"
     ]
    },
    {
     "name": "stdout",
     "output_type": "stream",
     "text": [
      "23/23 [==============================] - ETA: 0s - loss: 1.6399 - categorical_accuracy: 0.2624Source path =  /datasets/Project_data/val ; batch size = 30\n",
      "\n",
      "Epoch 00001: saving model to model_init_2024-11-0513_43_45.039785/model-00001-1.63993-0.26244-1.65717-0.16000.h5\n",
      "23/23 [==============================] - 35s 1s/step - loss: 1.6399 - categorical_accuracy: 0.2624 - val_loss: 1.6572 - val_categorical_accuracy: 0.1600 - lr: 0.0010\n",
      "Epoch 2/20\n",
      "23/23 [==============================] - ETA: 0s - loss: 1.6230 - categorical_accuracy: 0.2368\n",
      "Epoch 00002: saving model to model_init_2024-11-0513_43_45.039785/model-00002-1.62303-0.23680-1.74162-0.16000.h5\n",
      "23/23 [==============================] - 30s 1s/step - loss: 1.6230 - categorical_accuracy: 0.2368 - val_loss: 1.7416 - val_categorical_accuracy: 0.1600 - lr: 0.0010\n",
      "Epoch 3/20\n",
      "23/23 [==============================] - ETA: 0s - loss: 1.6512 - categorical_accuracy: 0.2066\n",
      "Epoch 00003: saving model to model_init_2024-11-0513_43_45.039785/model-00003-1.65122-0.20664-1.74203-0.13000.h5\n",
      "23/23 [==============================] - 30s 1s/step - loss: 1.6512 - categorical_accuracy: 0.2066 - val_loss: 1.7420 - val_categorical_accuracy: 0.1300 - lr: 0.0010\n",
      "Epoch 4/20\n",
      "23/23 [==============================] - ETA: 0s - loss: 1.5697 - categorical_accuracy: 0.3137\n",
      "Epoch 00004: saving model to model_init_2024-11-0513_43_45.039785/model-00004-1.56974-0.31373-1.73605-0.16000.h5\n",
      "23/23 [==============================] - 29s 1s/step - loss: 1.5697 - categorical_accuracy: 0.3137 - val_loss: 1.7361 - val_categorical_accuracy: 0.1600 - lr: 0.0010\n",
      "Epoch 5/20\n",
      "23/23 [==============================] - ETA: 0s - loss: 1.5607 - categorical_accuracy: 0.2896\n",
      "Epoch 00005: saving model to model_init_2024-11-0513_43_45.039785/model-00005-1.56066-0.28959-1.71819-0.17000.h5\n",
      "23/23 [==============================] - 30s 1s/step - loss: 1.5607 - categorical_accuracy: 0.2896 - val_loss: 1.7182 - val_categorical_accuracy: 0.1700 - lr: 0.0010\n",
      "Epoch 6/20\n",
      "23/23 [==============================] - ETA: 0s - loss: 1.4980 - categorical_accuracy: 0.3288\n",
      "Epoch 00006: saving model to model_init_2024-11-0513_43_45.039785/model-00006-1.49805-0.32881-1.69116-0.24000.h5\n",
      "23/23 [==============================] - 30s 1s/step - loss: 1.4980 - categorical_accuracy: 0.3288 - val_loss: 1.6912 - val_categorical_accuracy: 0.2400 - lr: 2.0000e-04\n",
      "Epoch 7/20\n",
      "23/23 [==============================] - ETA: 0s - loss: 1.4901 - categorical_accuracy: 0.3243\n",
      "Epoch 00007: saving model to model_init_2024-11-0513_43_45.039785/model-00007-1.49014-0.32428-1.63157-0.25000.h5\n",
      "23/23 [==============================] - 30s 1s/step - loss: 1.4901 - categorical_accuracy: 0.3243 - val_loss: 1.6316 - val_categorical_accuracy: 0.2500 - lr: 2.0000e-04\n",
      "Epoch 8/20\n",
      "23/23 [==============================] - ETA: 0s - loss: 1.5018 - categorical_accuracy: 0.2926\n",
      "Epoch 00008: saving model to model_init_2024-11-0513_43_45.039785/model-00008-1.50180-0.29261-1.68491-0.26000.h5\n",
      "23/23 [==============================] - 29s 1s/step - loss: 1.5018 - categorical_accuracy: 0.2926 - val_loss: 1.6849 - val_categorical_accuracy: 0.2600 - lr: 2.0000e-04\n",
      "Epoch 9/20\n",
      "23/23 [==============================] - ETA: 0s - loss: 1.4663 - categorical_accuracy: 0.3394\n",
      "Epoch 00009: saving model to model_init_2024-11-0513_43_45.039785/model-00009-1.46630-0.33937-1.68942-0.23000.h5\n",
      "23/23 [==============================] - 30s 1s/step - loss: 1.4663 - categorical_accuracy: 0.3394 - val_loss: 1.6894 - val_categorical_accuracy: 0.2300 - lr: 2.0000e-04\n",
      "Epoch 10/20\n",
      "23/23 [==============================] - ETA: 0s - loss: 1.4543 - categorical_accuracy: 0.3876\n",
      "Epoch 00010: saving model to model_init_2024-11-0513_43_45.039785/model-00010-1.45432-0.38763-1.67121-0.23000.h5\n",
      "23/23 [==============================] - 31s 1s/step - loss: 1.4543 - categorical_accuracy: 0.3876 - val_loss: 1.6712 - val_categorical_accuracy: 0.2300 - lr: 2.0000e-04\n",
      "Epoch 11/20\n",
      "23/23 [==============================] - ETA: 0s - loss: 1.4743 - categorical_accuracy: 0.3333\n",
      "Epoch 00011: saving model to model_init_2024-11-0513_43_45.039785/model-00011-1.47435-0.33333-1.71019-0.13000.h5\n",
      "23/23 [==============================] - 30s 1s/step - loss: 1.4743 - categorical_accuracy: 0.3333 - val_loss: 1.7102 - val_categorical_accuracy: 0.1300 - lr: 2.0000e-04\n",
      "Epoch 12/20\n",
      "23/23 [==============================] - ETA: 0s - loss: 1.4694 - categorical_accuracy: 0.3424\n",
      "Epoch 00012: saving model to model_init_2024-11-0513_43_45.039785/model-00012-1.46937-0.34238-1.68357-0.21000.h5\n",
      "23/23 [==============================] - 29s 1s/step - loss: 1.4694 - categorical_accuracy: 0.3424 - val_loss: 1.6836 - val_categorical_accuracy: 0.2100 - lr: 4.0000e-05\n",
      "Epoch 13/20\n",
      "23/23 [==============================] - ETA: 0s - loss: 1.4663 - categorical_accuracy: 0.3650\n",
      "Epoch 00013: saving model to model_init_2024-11-0513_43_45.039785/model-00013-1.46628-0.36501-1.68620-0.17000.h5\n",
      "23/23 [==============================] - 30s 1s/step - loss: 1.4663 - categorical_accuracy: 0.3650 - val_loss: 1.6862 - val_categorical_accuracy: 0.1700 - lr: 4.0000e-05\n",
      "Epoch 14/20\n",
      "23/23 [==============================] - ETA: 0s - loss: 1.4423 - categorical_accuracy: 0.3786\n",
      "Epoch 00014: saving model to model_init_2024-11-0513_43_45.039785/model-00014-1.44225-0.37858-1.68460-0.12000.h5\n",
      "23/23 [==============================] - 31s 1s/step - loss: 1.4423 - categorical_accuracy: 0.3786 - val_loss: 1.6846 - val_categorical_accuracy: 0.1200 - lr: 4.0000e-05\n",
      "Epoch 15/20\n",
      "23/23 [==============================] - ETA: 0s - loss: 1.4532 - categorical_accuracy: 0.3469\n",
      "Epoch 00015: saving model to model_init_2024-11-0513_43_45.039785/model-00015-1.45322-0.34691-1.67278-0.17000.h5\n",
      "23/23 [==============================] - 30s 1s/step - loss: 1.4532 - categorical_accuracy: 0.3469 - val_loss: 1.6728 - val_categorical_accuracy: 0.1700 - lr: 4.0000e-05\n",
      "Epoch 16/20\n",
      "23/23 [==============================] - ETA: 0s - loss: 1.4625 - categorical_accuracy: 0.3318\n",
      "Epoch 00016: saving model to model_init_2024-11-0513_43_45.039785/model-00016-1.46247-0.33183-1.68228-0.15000.h5\n",
      "23/23 [==============================] - 29s 1s/step - loss: 1.4625 - categorical_accuracy: 0.3318 - val_loss: 1.6823 - val_categorical_accuracy: 0.1500 - lr: 8.0000e-06\n",
      "Epoch 17/20\n",
      "23/23 [==============================] - ETA: 0s - loss: 1.4505 - categorical_accuracy: 0.3846\n",
      "Epoch 00017: saving model to model_init_2024-11-0513_43_45.039785/model-00017-1.45046-0.38462-1.69924-0.16000.h5\n",
      "23/23 [==============================] - 30s 1s/step - loss: 1.4505 - categorical_accuracy: 0.3846 - val_loss: 1.6992 - val_categorical_accuracy: 0.1600 - lr: 8.0000e-06\n",
      "Epoch 18/20\n",
      "23/23 [==============================] - ETA: 0s - loss: 1.4317 - categorical_accuracy: 0.3816\n",
      "Epoch 00018: saving model to model_init_2024-11-0513_43_45.039785/model-00018-1.43170-0.38160-1.67305-0.19000.h5\n",
      "23/23 [==============================] - 29s 1s/step - loss: 1.4317 - categorical_accuracy: 0.3816 - val_loss: 1.6731 - val_categorical_accuracy: 0.1900 - lr: 8.0000e-06\n",
      "Epoch 19/20\n",
      "23/23 [==============================] - ETA: 0s - loss: 1.4612 - categorical_accuracy: 0.3650\n",
      "Epoch 00019: saving model to model_init_2024-11-0513_43_45.039785/model-00019-1.46118-0.36501-1.67495-0.19000.h5\n",
      "23/23 [==============================] - 30s 1s/step - loss: 1.4612 - categorical_accuracy: 0.3650 - val_loss: 1.6749 - val_categorical_accuracy: 0.1900 - lr: 8.0000e-06\n",
      "Epoch 20/20\n",
      "23/23 [==============================] - ETA: 0s - loss: 1.4355 - categorical_accuracy: 0.3756\n",
      "Epoch 00020: saving model to model_init_2024-11-0513_43_45.039785/model-00020-1.43551-0.37557-1.66403-0.19000.h5\n",
      "23/23 [==============================] - 29s 1s/step - loss: 1.4355 - categorical_accuracy: 0.3756 - val_loss: 1.6640 - val_categorical_accuracy: 0.1900 - lr: 1.6000e-06\n"
     ]
    }
   ],
   "source": [
    "history = CNNlstm_1.fit_generator(train_generator, steps_per_epoch=steps_per_epoch, epochs=num_epochs, verbose=1, \n",
    "                    callbacks=callbacks_list, validation_data=val_generator, \n",
    "                    validation_steps=validation_steps, class_weight=None, workers=1, initial_epoch=0)"
   ]
  },
  {
   "cell_type": "code",
   "execution_count": 75,
   "metadata": {},
   "outputs": [
    {
     "data": {
      "image/png": "[encoded data removed]",
      "text/plain": [
       "<Figure size 432x288 with 1 Axes>"
      ]
     },
     "metadata": {
      "needs_background": "light"
     },
     "output_type": "display_data"
    },
    {
     "data": {
      "image/png": "[encoded data removed]",
      "text/plain": [
       "<Figure size 432x288 with 1 Axes>"
      ]
     },
     "metadata": {
      "needs_background": "light"
     },
     "output_type": "display_data"
    }
   ],
   "source": [
    "# Plotting the result of Model 1 :\n",
    "\n",
    "# summarize history for accuracy\n",
    "plt.plot(history.history['categorical_accuracy'])\n",
    "plt.plot(history.history['val_categorical_accuracy'])\n",
    "plt.title('model accuracy')\n",
    "plt.ylabel('accuracy')\n",
    "plt.xlabel('epoch')\n",
    "plt.legend(['train', 'test'], loc='upper left')\n",
    "plt.show()\n",
    "\n",
    "# summarize history for loss\n",
    "plt.plot(history.history['loss'])\n",
    "plt.plot(history.history['val_loss'])\n",
    "plt.title('model loss')\n",
    "plt.ylabel('loss')\n",
    "plt.xlabel('epoch')\n",
    "plt.legend(['train', 'test'], loc='upper left')\n",
    "plt.show()"
   ]
  },
  {
   "cell_type": "code",
   "execution_count": null,
   "metadata": {},
   "outputs": [],
   "source": [
    "Models: Increase the image size\n",
    "Increase the network parameters\n",
    "Increase the Layers"
   ]
  },
  {
   "cell_type": "code",
   "execution_count": 77,
   "metadata": {},
   "outputs": [
    {
     "name": "stdout",
     "output_type": "stream",
     "text": [
      "Model: \"sequential_14\"\n",
      "_________________________________________________________________\n",
      " Layer (type)                Output Shape              Param #   \n",
      "=================================================================\n",
      " time_distributed_92 (TimeDi  (None, 20, 100, 100, 16)  448      \n",
      " stributed)                                                      \n",
      "                                                                 \n",
      " time_distributed_93 (TimeDi  (None, 20, 100, 100, 16)  64       \n",
      " stributed)                                                      \n",
      "                                                                 \n",
      " time_distributed_94 (TimeDi  (None, 20, 50, 50, 16)   0         \n",
      " stributed)                                                      \n",
      "                                                                 \n",
      " time_distributed_95 (TimeDi  (None, 20, 50, 50, 32)   4640      \n",
      " stributed)                                                      \n",
      "                                                                 \n",
      " time_distributed_96 (TimeDi  (None, 20, 50, 50, 32)   128       \n",
      " stributed)                                                      \n",
      "                                                                 \n",
      " time_distributed_97 (TimeDi  (None, 20, 25, 25, 32)   0         \n",
      " stributed)                                                      \n",
      "                                                                 \n",
      " time_distributed_98 (TimeDi  (None, 20, 25, 25, 64)   18496     \n",
      " stributed)                                                      \n",
      "                                                                 \n",
      " time_distributed_99 (TimeDi  (None, 20, 25, 25, 64)   256       \n",
      " stributed)                                                      \n",
      "                                                                 \n",
      " time_distributed_100 (TimeD  (None, 20, 12, 12, 64)   0         \n",
      " istributed)                                                     \n",
      "                                                                 \n",
      " time_distributed_101 (TimeD  (None, 20, 12, 12, 128)  73856     \n",
      " istributed)                                                     \n",
      "                                                                 \n",
      " time_distributed_102 (TimeD  (None, 20, 12, 12, 128)  512       \n",
      " istributed)                                                     \n",
      "                                                                 \n",
      " time_distributed_103 (TimeD  (None, 20, 6, 6, 128)    0         \n",
      " istributed)                                                     \n",
      "                                                                 \n",
      " time_distributed_104 (TimeD  (None, 20, 4608)         0         \n",
      " istributed)                                                     \n",
      "                                                                 \n",
      " gru_2 (GRU)                 (None, 128)               1819008   \n",
      "                                                                 \n",
      " dropout_20 (Dropout)        (None, 128)               0         \n",
      "                                                                 \n",
      " dense_25 (Dense)            (None, 128)               16512     \n",
      "                                                                 \n",
      " dropout_21 (Dropout)        (None, 128)               0         \n",
      "                                                                 \n",
      " dense_26 (Dense)            (None, 5)                 645       \n",
      "                                                                 \n",
      "=================================================================\n",
      "Total params: 1,934,565\n",
      "Trainable params: 1,934,085\n",
      "Non-trainable params: 480\n",
      "_________________________________________________________________\n",
      "None\n"
     ]
    }
   ],
   "source": [
    "input_shape=(20,100,100,3)\n",
    "\n",
    "GRU_lstm = Sequential()\n",
    "\n",
    "GRU_lstm.add(TimeDistributed(Conv2D(16, (3, 3) , padding='same', activation='relu'),\n",
    "                          input_shape=(input_shape)))\n",
    "GRU_lstm.add(TimeDistributed(BatchNormalization()))\n",
    "GRU_lstm.add(TimeDistributed(MaxPooling2D((2, 2))))\n",
    "\n",
    "GRU_lstm.add(TimeDistributed(Conv2D(32, (3, 3) , padding='same', activation='relu')))\n",
    "GRU_lstm.add(TimeDistributed(BatchNormalization()))\n",
    "GRU_lstm.add(TimeDistributed(MaxPooling2D((2, 2))))\n",
    "\n",
    "GRU_lstm.add(TimeDistributed(Conv2D(64, (3, 3) , padding='same', activation='relu')))\n",
    "GRU_lstm.add(TimeDistributed(BatchNormalization()))\n",
    "GRU_lstm.add(TimeDistributed(MaxPooling2D((2, 2))))\n",
    "\n",
    "GRU_lstm.add(TimeDistributed(Conv2D(128, (3, 3) , padding='same', activation='relu')))\n",
    "GRU_lstm.add(TimeDistributed(BatchNormalization()))\n",
    "GRU_lstm.add(TimeDistributed(MaxPooling2D((2, 2))))\n",
    "\n",
    "\n",
    "GRU_lstm.add(TimeDistributed(Flatten()))\n",
    "\n",
    "\n",
    "GRU_lstm.add(GRU(128))\n",
    "GRU_lstm.add(Dropout(0.25))\n",
    "\n",
    "GRU_lstm.add(Dense(128,activation='relu'))\n",
    "GRU_lstm.add(Dropout(0.25))\n",
    "\n",
    "GRU_lstm.add(Dense(5, activation='softmax'))\n",
    "optimiser = tf.optimizers.Adam()\n",
    "GRU_lstm.compile(optimizer=optimiser, loss='categorical_crossentropy', metrics=['categorical_accuracy'])\n",
    "print (GRU_lstm.summary())"
   ]
  },
  {
   "cell_type": "code",
   "execution_count": 78,
   "metadata": {},
   "outputs": [
    {
     "name": "stdout",
     "output_type": "stream",
     "text": [
      "WARNING:tensorflow:`period` argument is deprecated. Please use `save_freq` to specify the frequency in number of batches seen.\n"
     ]
    }
   ],
   "source": [
    "batch_size = 20\n",
    "num_epochs = 20\n",
    "train_generator = generatorLSTM(train_path, train_doc, batch_size)\n",
    "val_generator = generatorLSTM(val_path, val_doc, batch_size)\n",
    "\n",
    "model_name = 'model_init' + '_' + str(curr_dt_time).replace(' ','').replace(':','_') + '/'\n",
    "    \n",
    "if not os.path.exists(model_name):\n",
    "    os.mkdir(model_name)\n",
    "        \n",
    "filepath = model_name + 'model-{epoch:05d}-{loss:.5f}-{categorical_accuracy:.5f}-{val_loss:.5f}-{val_categorical_accuracy:.5f}.h5'\n",
    "\n",
    "checkpoint = ModelCheckpoint(filepath, monitor='val_loss', verbose=1, save_best_only=False, save_weights_only=False, mode='auto', period=1)\n",
    "\n",
    "# write the REducelronplateau code here\n",
    "LR = ReduceLROnPlateau(monitor='val_loss', factor=0.2, patience=4)\n",
    "\n",
    "callbacks_list = [checkpoint, LR]\n",
    "\n",
    "if (num_train_sequences%batch_size) == 0:\n",
    "    steps_per_epoch = int(num_train_sequences/batch_size)\n",
    "else:\n",
    "    steps_per_epoch = (num_train_sequences//batch_size) + 1\n",
    "\n",
    "if (num_val_sequences%batch_size) == 0:\n",
    "    validation_steps = int(num_val_sequences/batch_size)\n",
    "else:\n",
    "    validation_steps = (num_val_sequences//batch_size) + 1"
   ]
  },
  {
   "cell_type": "code",
   "execution_count": 79,
   "metadata": {},
   "outputs": [
    {
     "name": "stderr",
     "output_type": "stream",
     "text": [
      "/tmp/ipykernel_267/3182088282.py:1: UserWarning: `Model.fit_generator` is deprecated and will be removed in a future version. Please use `Model.fit`, which supports generators.\n",
      "  history = GRU_lstm.fit_generator(train_generator, steps_per_epoch=steps_per_epoch, epochs=num_epochs, verbose=1,\n",
      "/tmp/ipykernel_267/3530338047.py:15: DeprecationWarning:     `imread` is deprecated!\n",
      "    `imread` is deprecated in SciPy 1.0.0, and will be removed in 1.2.0.\n",
      "    Use ``imageio.imread`` instead.\n",
      "  image = imread(source_path+'/'+ t[folder + (batch*batch_size)].strip().split(';')[0]+'/'+imgs[item]).astype(np.float32)\n"
     ]
    },
    {
     "name": "stdout",
     "output_type": "stream",
     "text": [
      "Source path =  /datasets/Project_data/train ; batch size = 20\n",
      "Epoch 1/20\n",
      "33/34 [============================>.] - ETA: 0s - loss: 1.7441 - categorical_accuracy: 0.2455"
     ]
    },
    {
     "name": "stderr",
     "output_type": "stream",
     "text": [
      "/tmp/ipykernel_267/3530338047.py:42: DeprecationWarning:     `imread` is deprecated!\n",
      "    `imread` is deprecated in SciPy 1.0.0, and will be removed in 1.2.0.\n",
      "    Use ``imageio.imread`` instead.\n",
      "  image = imread(source_path+'/'+ t[folder + (num_batches*batch_size)].strip().split(';')[0]+'/'+imgs[item]).astype(np.float32)\n"
     ]
    },
    {
     "name": "stdout",
     "output_type": "stream",
     "text": [
      "34/34 [==============================] - ETA: 0s - loss: 1.7442 - categorical_accuracy: 0.2443Source path =  /datasets/Project_data/val ; batch size = 20\n",
      "\n",
      "Epoch 00001: saving model to model_init_2024-11-0513_43_45.039785/model-00001-1.74421-0.24434-1.65220-0.21000.h5\n",
      "34/34 [==============================] - 33s 906ms/step - loss: 1.7442 - categorical_accuracy: 0.2443 - val_loss: 1.6522 - val_categorical_accuracy: 0.2100 - lr: 0.0010\n",
      "Epoch 2/20\n",
      "34/34 [==============================] - ETA: 0s - loss: 1.6588 - categorical_accuracy: 0.2911\n",
      "Epoch 00002: saving model to model_init_2024-11-0513_43_45.039785/model-00002-1.65880-0.29110-2.09542-0.21000.h5\n",
      "34/34 [==============================] - 29s 887ms/step - loss: 1.6588 - categorical_accuracy: 0.2911 - val_loss: 2.0954 - val_categorical_accuracy: 0.2100 - lr: 0.0010\n",
      "Epoch 3/20\n",
      "34/34 [==============================] - ETA: 0s - loss: 1.6394 - categorical_accuracy: 0.3122\n",
      "Epoch 00003: saving model to model_init_2024-11-0513_43_45.039785/model-00003-1.63939-0.31222-1.85041-0.27000.h5\n",
      "34/34 [==============================] - 30s 897ms/step - loss: 1.6394 - categorical_accuracy: 0.3122 - val_loss: 1.8504 - val_categorical_accuracy: 0.2700 - lr: 0.0010\n",
      "Epoch 4/20\n",
      "34/34 [==============================] - ETA: 0s - loss: 1.5913 - categorical_accuracy: 0.3002\n",
      "Epoch 00004: saving model to model_init_2024-11-0513_43_45.039785/model-00004-1.59126-0.30015-1.82396-0.20000.h5\n",
      "34/34 [==============================] - 30s 894ms/step - loss: 1.5913 - categorical_accuracy: 0.3002 - val_loss: 1.8240 - val_categorical_accuracy: 0.2000 - lr: 0.0010\n",
      "Epoch 5/20\n",
      "34/34 [==============================] - ETA: 0s - loss: 1.5347 - categorical_accuracy: 0.3348\n",
      "Epoch 00005: saving model to model_init_2024-11-0513_43_45.039785/model-00005-1.53474-0.33484-1.64690-0.28000.h5\n",
      "34/34 [==============================] - 30s 903ms/step - loss: 1.5347 - categorical_accuracy: 0.3348 - val_loss: 1.6469 - val_categorical_accuracy: 0.2800 - lr: 0.0010\n",
      "Epoch 6/20\n",
      "34/34 [==============================] - ETA: 0s - loss: 1.4883 - categorical_accuracy: 0.3575\n",
      "Epoch 00006: saving model to model_init_2024-11-0513_43_45.039785/model-00006-1.48827-0.35747-1.53051-0.29000.h5\n",
      "34/34 [==============================] - 30s 903ms/step - loss: 1.4883 - categorical_accuracy: 0.3575 - val_loss: 1.5305 - val_categorical_accuracy: 0.2900 - lr: 0.0010\n",
      "Epoch 7/20\n",
      "34/34 [==============================] - ETA: 0s - loss: 1.5111 - categorical_accuracy: 0.3243\n",
      "Epoch 00007: saving model to model_init_2024-11-0513_43_45.039785/model-00007-1.51106-0.32428-1.59295-0.28000.h5\n",
      "34/34 [==============================] - 30s 905ms/step - loss: 1.5111 - categorical_accuracy: 0.3243 - val_loss: 1.5929 - val_categorical_accuracy: 0.2800 - lr: 0.0010\n",
      "Epoch 8/20\n",
      "34/34 [==============================] - ETA: 0s - loss: 1.4491 - categorical_accuracy: 0.3665\n",
      "Epoch 00008: saving model to model_init_2024-11-0513_43_45.039785/model-00008-1.44913-0.36652-1.81867-0.19000.h5\n",
      "34/34 [==============================] - 30s 914ms/step - loss: 1.4491 - categorical_accuracy: 0.3665 - val_loss: 1.8187 - val_categorical_accuracy: 0.1900 - lr: 0.0010\n",
      "Epoch 9/20\n",
      "34/34 [==============================] - ETA: 0s - loss: 1.4749 - categorical_accuracy: 0.3710\n",
      "Epoch 00009: saving model to model_init_2024-11-0513_43_45.039785/model-00009-1.47487-0.37104-1.60218-0.31000.h5\n",
      "34/34 [==============================] - 30s 900ms/step - loss: 1.4749 - categorical_accuracy: 0.3710 - val_loss: 1.6022 - val_categorical_accuracy: 0.3100 - lr: 0.0010\n",
      "Epoch 10/20\n",
      "34/34 [==============================] - ETA: 0s - loss: 1.4632 - categorical_accuracy: 0.3771\n",
      "Epoch 00010: saving model to model_init_2024-11-0513_43_45.039785/model-00010-1.46319-0.37707-1.61181-0.23000.h5\n",
      "34/34 [==============================] - 30s 912ms/step - loss: 1.4632 - categorical_accuracy: 0.3771 - val_loss: 1.6118 - val_categorical_accuracy: 0.2300 - lr: 0.0010\n",
      "Epoch 11/20\n",
      "34/34 [==============================] - ETA: 0s - loss: 1.4517 - categorical_accuracy: 0.3665\n",
      "Epoch 00011: saving model to model_init_2024-11-0513_43_45.039785/model-00011-1.45171-0.36652-1.51261-0.30000.h5\n",
      "34/34 [==============================] - 29s 875ms/step - loss: 1.4517 - categorical_accuracy: 0.3665 - val_loss: 1.5126 - val_categorical_accuracy: 0.3000 - lr: 2.0000e-04\n",
      "Epoch 12/20\n",
      "34/34 [==============================] - ETA: 0s - loss: 1.4003 - categorical_accuracy: 0.3876\n",
      "Epoch 00012: saving model to model_init_2024-11-0513_43_45.039785/model-00012-1.40026-0.38763-1.35469-0.42000.h5\n",
      "34/34 [==============================] - 30s 917ms/step - loss: 1.4003 - categorical_accuracy: 0.3876 - val_loss: 1.3547 - val_categorical_accuracy: 0.4200 - lr: 2.0000e-04\n",
      "Epoch 13/20\n",
      "34/34 [==============================] - ETA: 0s - loss: 1.4308 - categorical_accuracy: 0.3756\n",
      "Epoch 00013: saving model to model_init_2024-11-0513_43_45.039785/model-00013-1.43077-0.37557-1.51156-0.33000.h5\n",
      "34/34 [==============================] - 30s 901ms/step - loss: 1.4308 - categorical_accuracy: 0.3756 - val_loss: 1.5116 - val_categorical_accuracy: 0.3300 - lr: 2.0000e-04\n",
      "Epoch 14/20\n",
      "34/34 [==============================] - ETA: 0s - loss: 1.3927 - categorical_accuracy: 0.4027\n",
      "Epoch 00014: saving model to model_init_2024-11-0513_43_45.039785/model-00014-1.39270-0.40271-1.41789-0.35000.h5\n",
      "34/34 [==============================] - 30s 897ms/step - loss: 1.3927 - categorical_accuracy: 0.4027 - val_loss: 1.4179 - val_categorical_accuracy: 0.3500 - lr: 2.0000e-04\n",
      "Epoch 15/20\n",
      "34/34 [==============================] - ETA: 0s - loss: 1.3709 - categorical_accuracy: 0.4404\n",
      "Epoch 00015: saving model to model_init_2024-11-0513_43_45.039785/model-00015-1.37092-0.44042-1.39332-0.40000.h5\n",
      "34/34 [==============================] - 31s 923ms/step - loss: 1.3709 - categorical_accuracy: 0.4404 - val_loss: 1.3933 - val_categorical_accuracy: 0.4000 - lr: 2.0000e-04\n",
      "Epoch 16/20\n",
      "34/34 [==============================] - ETA: 0s - loss: 1.3770 - categorical_accuracy: 0.4284\n",
      "Epoch 00016: saving model to model_init_2024-11-0513_43_45.039785/model-00016-1.37697-0.42836-1.43336-0.37000.h5\n",
      "34/34 [==============================] - 30s 912ms/step - loss: 1.3770 - categorical_accuracy: 0.4284 - val_loss: 1.4334 - val_categorical_accuracy: 0.3700 - lr: 2.0000e-04\n",
      "Epoch 17/20\n",
      "34/34 [==============================] - ETA: 0s - loss: 1.3626 - categorical_accuracy: 0.4072\n",
      "Epoch 00017: saving model to model_init_2024-11-0513_43_45.039785/model-00017-1.36262-0.40724-1.35273-0.38000.h5\n",
      "34/34 [==============================] - 30s 906ms/step - loss: 1.3626 - categorical_accuracy: 0.4072 - val_loss: 1.3527 - val_categorical_accuracy: 0.3800 - lr: 4.0000e-05\n",
      "Epoch 18/20\n",
      "34/34 [==============================] - ETA: 0s - loss: 1.3485 - categorical_accuracy: 0.4268\n",
      "Epoch 00018: saving model to model_init_2024-11-0513_43_45.039785/model-00018-1.34847-0.42685-1.31560-0.43000.h5\n",
      "34/34 [==============================] - 30s 906ms/step - loss: 1.3485 - categorical_accuracy: 0.4268 - val_loss: 1.3156 - val_categorical_accuracy: 0.4300 - lr: 4.0000e-05\n",
      "Epoch 19/20\n",
      "34/34 [==============================] - ETA: 0s - loss: 1.3637 - categorical_accuracy: 0.4374\n",
      "Epoch 00019: saving model to model_init_2024-11-0513_43_45.039785/model-00019-1.36372-0.43741-1.39547-0.33000.h5\n",
      "34/34 [==============================] - 37s 1s/step - loss: 1.3637 - categorical_accuracy: 0.4374 - val_loss: 1.3955 - val_categorical_accuracy: 0.3300 - lr: 4.0000e-05\n",
      "Epoch 20/20\n",
      "34/34 [==============================] - ETA: 0s - loss: 1.3179 - categorical_accuracy: 0.4268\n",
      "Epoch 00020: saving model to model_init_2024-11-0513_43_45.039785/model-00020-1.31791-0.42685-1.31072-0.42000.h5\n",
      "34/34 [==============================] - 35s 1s/step - loss: 1.3179 - categorical_accuracy: 0.4268 - val_loss: 1.3107 - val_categorical_accuracy: 0.4200 - lr: 4.0000e-05\n"
     ]
    }
   ],
   "source": [
    "history = GRU_lstm.fit_generator(train_generator, steps_per_epoch=steps_per_epoch, epochs=num_epochs, verbose=1, \n",
    "                    callbacks=callbacks_list, validation_data=val_generator, \n",
    "                    validation_steps=validation_steps, class_weight=None, workers=1, initial_epoch=0)"
   ]
  },
  {
   "cell_type": "code",
   "execution_count": 82,
   "metadata": {},
   "outputs": [
    {
     "data": {
      "image/png": "[encoded data removed]",
      "text/plain": [
       "<Figure size 432x288 with 1 Axes>"
      ]
     },
     "metadata": {
      "needs_background": "light"
     },
     "output_type": "display_data"
    },
    {
     "data": {
      "image/png": "[encoded data removed]",
      "text/plain": [
       "<Figure size 432x288 with 1 Axes>"
      ]
     },
     "metadata": {
      "needs_background": "light"
     },
     "output_type": "display_data"
    }
   ],
   "source": [
    "# Plotting the result of Model 1 :\n",
    "\n",
    "# summarize history for accuracy\n",
    "plt.plot(history.history['categorical_accuracy'])\n",
    "plt.plot(history.history['val_categorical_accuracy'])\n",
    "plt.title('model accuracy')\n",
    "plt.ylabel('accuracy')\n",
    "plt.xlabel('epoch')\n",
    "plt.legend(['train', 'test'], loc='upper left')\n",
    "plt.show()\n",
    "\n",
    "# summarize history for loss\n",
    "plt.plot(history.history['loss'])\n",
    "plt.plot(history.history['val_loss'])\n",
    "plt.title('model loss')\n",
    "plt.ylabel('loss')\n",
    "plt.xlabel('epoch')\n",
    "plt.legend(['train', 'test'], loc='upper left')\n",
    "plt.show()"
   ]
  },
  {
   "cell_type": "markdown",
   "metadata": {},
   "source": [
    "Model 11: Model with Transfer Learning\n"
   ]
  },
  {
   "cell_type": "code",
   "execution_count": 83,
   "metadata": {},
   "outputs": [
    {
     "name": "stdout",
     "output_type": "stream",
     "text": [
      "WARNING:tensorflow:`input_shape` is undefined or non-square, or `rows` is not in [128, 160, 192, 224]. Weights for input shape (224, 224) will be loaded as the default.\n"
     ]
    }
   ],
   "source": [
    "# Importing the transfer learning model:\n",
    "from keras.applications import mobilenet\n",
    "\n",
    "mobilenet_transfer = mobilenet.MobileNet(weights='imagenet', include_top=False)"
   ]
  },
  {
   "cell_type": "code",
   "execution_count": 84,
   "metadata": {},
   "outputs": [
    {
     "name": "stdout",
     "output_type": "stream",
     "text": [
      "Model: \"sequential_15\"\n",
      "_________________________________________________________________\n",
      " Layer (type)                Output Shape              Param #   \n",
      "=================================================================\n",
      " time_distributed_105 (TimeD  (None, 18, 3, 3, 1024)   3228864   \n",
      " istributed)                                                     \n",
      "                                                                 \n",
      " time_distributed_106 (TimeD  (None, 18, 3, 3, 1024)   4096      \n",
      " istributed)                                                     \n",
      "                                                                 \n",
      " time_distributed_107 (TimeD  (None, 18, 1, 1, 1024)   0         \n",
      " istributed)                                                     \n",
      "                                                                 \n",
      " time_distributed_108 (TimeD  (None, 18, 1024)         0         \n",
      " istributed)                                                     \n",
      "                                                                 \n",
      " lstm_3 (LSTM)               (None, 128)               590336    \n",
      "                                                                 \n",
      " dropout_22 (Dropout)        (None, 128)               0         \n",
      "                                                                 \n",
      " dense_27 (Dense)            (None, 128)               16512     \n",
      "                                                                 \n",
      " dropout_23 (Dropout)        (None, 128)               0         \n",
      "                                                                 \n",
      " dense_28 (Dense)            (None, 5)                 645       \n",
      "                                                                 \n",
      "=================================================================\n",
      "Total params: 3,840,453\n",
      "Trainable params: 609,541\n",
      "Non-trainable params: 3,230,912\n",
      "_________________________________________________________________\n",
      "None\n"
     ]
    }
   ],
   "source": [
    "# Building the model :\n",
    "\n",
    "input_shape = (18,120,120,3)\n",
    "        \n",
    "mobileNetModel= Sequential()\n",
    "mobileNetModel.add(TimeDistributed(mobilenet_transfer,input_shape=(input_shape)))\n",
    "\n",
    "\n",
    "for layer in mobileNetModel.layers:\n",
    "    layer.trainable = False\n",
    "\n",
    "\n",
    "mobileNetModel.add(TimeDistributed(BatchNormalization()))\n",
    "mobileNetModel.add(TimeDistributed(MaxPooling2D((2, 2))))\n",
    "mobileNetModel.add(TimeDistributed(Flatten()))\n",
    "\n",
    "mobileNetModel.add(LSTM(128))\n",
    "mobileNetModel.add(Dropout(0.25))\n",
    "\n",
    "mobileNetModel.add(Dense(128,activation='relu'))\n",
    "mobileNetModel.add(Dropout(0.25))\n",
    "\n",
    "mobileNetModel.add(Dense(5, activation='softmax'))\n",
    "\n",
    "\n",
    "optimiser = tf.optimizers.Adam()\n",
    "mobileNetModel.compile(optimizer=optimiser, loss='categorical_crossentropy', metrics=['categorical_accuracy'])\n",
    "print (mobileNetModel.summary())"
   ]
  },
  {
   "cell_type": "code",
   "execution_count": 85,
   "metadata": {},
   "outputs": [],
   "source": [
    "def generatorMobileNet(source_path, folder_list, batch_size):\n",
    "    print( 'Source path = ', source_path, '; batch size =', batch_size)\n",
    "    \n",
    "    #create a list of image numbers you want to use for a particular video\n",
    "    img_idx = [1,2,4,6,7,8,10,12,14,16,18,20,21,22,24,26,27,29]\n",
    "    #list(range(0,29,2))\n",
    "    \n",
    "    while True:\n",
    "        t = np.random.permutation(folder_list)\n",
    "        \n",
    "# calculate the number of batches\n",
    "        num_batches = int(len(t)/batch_size)\n",
    "        \n",
    "# we iterate over the number of batches\n",
    "        for batch in range(num_batches): \n",
    "            \n",
    "# x is the number of images you use for each video, (y,z) is the final size of the input images and 3 is the number of channels RGB          \n",
    "            batch_data = np.zeros((batch_size,18,120,120,3))\n",
    "# batch_labels is the one hot representation of the output\n",
    "            batch_labels = np.zeros((batch_size,5))\n",
    "\n",
    "# iterate over the batch_size    \n",
    "            for folder in range(batch_size): \n",
    "# read all the images in the folder        \n",
    "                imgs = os.listdir(source_path+'/'+ t[folder + (batch*batch_size)].split(';')[0]) \n",
    "#  Iterate over the frames/images of a folder to read them in    \n",
    "                for idx,item in enumerate(img_idx):\n",
    "                    image = cv2.imread(source_path+'/'+ t[folder + (batch*batch_size)].strip().split(';')[0]+'/'+imgs[item],cv2.IMREAD_UNCHANGED).astype(np.float32)\n",
    "                    \n",
    "#crop the images and resize them. Note that the images are of 2 different shape \n",
    "#and the conv3D will throw error if the inputs in a batch have different shapes\n",
    "                    if image.shape[1] == 160:\n",
    "                        image = cv2.resize(image[:,20:140,:],(120,120),interpolation = cv2.INTER_AREA).astype(np.float32)\n",
    "                    else:\n",
    "                        image = cv2.resize(image,(120,120),interpolation = cv2.INTER_AREA).astype(np.float32)\n",
    "                                \n",
    "#normalise and feed in the image\n",
    "\n",
    "                    batch_data[folder,idx,:,:,0] = (image[:,:,0])/255\n",
    "                    batch_data[folder,idx,:,:,1] = (image[:,:,1])/255\n",
    "                    batch_data[folder,idx,:,:,2] = (image[:,:,2])/255\n",
    "                    \n",
    "                batch_labels[folder, int(t[folder + (batch*batch_size)].strip().split(';')[2])] = 1\n",
    "#you yield the batch_data and the batch_labels, remember what does yield do                \n",
    "            yield batch_data, batch_labels \n",
    "\n",
    "        \n",
    "# write the code for the remaining data points which are left after full batches\n",
    "        if (len(t)%batch_size) != 0:\n",
    "            batch_data = np.zeros((len(t)%batch_size,18,120,120,3))\n",
    "            batch_labels = np.zeros((len(t)%batch_size,5))\n",
    "            for folder in range(len(t)%batch_size):\n",
    "                imgs = os.listdir(source_path+'/'+ t[folder + (num_batches*batch_size)].split(';')[0])\n",
    "                for idx,item in enumerate(img_idx):\n",
    "                    image = cv2.imread(source_path+'/'+ t[folder + (num_batches*batch_size)].strip().split(';')[0]+'/'+imgs[item],cv2.IMREAD_UNCHANGED).astype(np.float32)\n",
    "                    if image.shape[1] == 160:\n",
    "                        image = cv2.resize(image[:,20:140,:],(120,120),interpolation = cv2.INTER_AREA).astype(np.float32)\n",
    "                    else:\n",
    "                        image = cv2.resize(image,(120,120),interpolation = cv2.INTER_AREA).astype(np.float32)\n",
    "\n",
    "                    batch_data[folder,idx,:,:,0] = (image[:,:,0])/255\n",
    "                    batch_data[folder,idx,:,:,1] = (image[:,:,1])/255\n",
    "                    batch_data[folder,idx,:,:,2] = (image[:,:,2])/255\n",
    "\n",
    "                batch_labels[folder, int(t[folder + (num_batches*batch_size)].strip().split(';')[2])] = 1\n",
    "\n",
    "            yield batch_data, batch_labels"
   ]
  },
  {
   "cell_type": "code",
   "execution_count": 86,
   "metadata": {},
   "outputs": [
    {
     "name": "stdout",
     "output_type": "stream",
     "text": [
      "# epochs = 20\n"
     ]
    }
   ],
   "source": [
    "batch_size = 5\n",
    "curr_dt_time = datetime.datetime.now()\n",
    "num_epochs = 20\n",
    "print ('# epochs =', num_epochs)"
   ]
  },
  {
   "cell_type": "code",
   "execution_count": 87,
   "metadata": {},
   "outputs": [
    {
     "name": "stdout",
     "output_type": "stream",
     "text": [
      "WARNING:tensorflow:`period` argument is deprecated. Please use `save_freq` to specify the frequency in number of batches seen.\n"
     ]
    }
   ],
   "source": [
    "train_generator = generatorMobileNet(train_path, train_doc, batch_size)\n",
    "val_generator = generatorMobileNet(val_path, val_doc, batch_size)\n",
    "\n",
    "model_name = 'model_init' + '_' + str(curr_dt_time).replace(' ','').replace(':','_') + '/'\n",
    "    \n",
    "if not os.path.exists(model_name):\n",
    "    os.mkdir(model_name)\n",
    "        \n",
    "filepath = model_name + 'model-{epoch:05d}-{loss:.5f}-{categorical_accuracy:.5f}-{val_loss:.5f}-{val_categorical_accuracy:.5f}.h5'\n",
    "\n",
    "checkpoint = ModelCheckpoint(filepath, monitor='val_loss', verbose=1, save_best_only=False, save_weights_only=False, mode='auto', period=1)\n",
    "\n",
    "# write the REducelronplateau code here\n",
    "LR = ReduceLROnPlateau(monitor='val_loss', factor=0.2, patience=4)\n",
    "\n",
    "callbacks_list = [checkpoint, LR]\n",
    "\n",
    "if (num_train_sequences%batch_size) == 0:\n",
    "    steps_per_epoch = int(num_train_sequences/batch_size)\n",
    "else:\n",
    "    steps_per_epoch = (num_train_sequences//batch_size) + 1\n",
    "\n",
    "if (num_val_sequences%batch_size) == 0:\n",
    "    validation_steps = int(num_val_sequences/batch_size)\n",
    "else:\n",
    "    validation_steps = (num_val_sequences//batch_size) + 1"
   ]
  },
  {
   "cell_type": "code",
   "execution_count": 88,
   "metadata": {},
   "outputs": [
    {
     "name": "stderr",
     "output_type": "stream",
     "text": [
      "/tmp/ipykernel_267/3268031849.py:1: UserWarning: `Model.fit_generator` is deprecated and will be removed in a future version. Please use `Model.fit`, which supports generators.\n",
      "  history = mobileNetModel.fit_generator(train_generator, steps_per_epoch=steps_per_epoch, epochs=num_epochs, verbose=1,\n"
     ]
    },
    {
     "name": "stdout",
     "output_type": "stream",
     "text": [
      "Source path =  /datasets/Project_data/train ; batch size = 5\n",
      "Epoch 1/20\n",
      "133/133 [==============================] - ETA: 0s - loss: 1.4129 - categorical_accuracy: 0.4042Source path =  /datasets/Project_data/val ; batch size = 5\n",
      "\n",
      "Epoch 00001: saving model to model_init_2024-11-0515_53_03.415319/model-00001-1.41292-0.40422-1.15184-0.48000.h5\n",
      "133/133 [==============================] - 43s 301ms/step - loss: 1.4129 - categorical_accuracy: 0.4042 - val_loss: 1.1518 - val_categorical_accuracy: 0.4800 - lr: 0.0010\n",
      "Epoch 2/20\n",
      "133/133 [==============================] - ETA: 0s - loss: 0.8695 - categorical_accuracy: 0.6486\n",
      "Epoch 00002: saving model to model_init_2024-11-0515_53_03.415319/model-00002-0.86954-0.64857-0.90394-0.67000.h5\n",
      "133/133 [==============================] - 32s 242ms/step - loss: 0.8695 - categorical_accuracy: 0.6486 - val_loss: 0.9039 - val_categorical_accuracy: 0.6700 - lr: 0.0010\n",
      "Epoch 3/20\n",
      "133/133 [==============================] - ETA: 0s - loss: 0.5989 - categorical_accuracy: 0.7677\n",
      "Epoch 00003: saving model to model_init_2024-11-0515_53_03.415319/model-00003-0.59892-0.76772-0.73518-0.71000.h5\n",
      "133/133 [==============================] - 31s 236ms/step - loss: 0.5989 - categorical_accuracy: 0.7677 - val_loss: 0.7352 - val_categorical_accuracy: 0.7100 - lr: 0.0010\n",
      "Epoch 4/20\n",
      "133/133 [==============================] - ETA: 0s - loss: 0.4386 - categorical_accuracy: 0.8477\n",
      "Epoch 00004: saving model to model_init_2024-11-0515_53_03.415319/model-00004-0.43860-0.84766-0.66203-0.78000.h5\n",
      "133/133 [==============================] - 32s 241ms/step - loss: 0.4386 - categorical_accuracy: 0.8477 - val_loss: 0.6620 - val_categorical_accuracy: 0.7800 - lr: 0.0010\n",
      "Epoch 5/20\n",
      "133/133 [==============================] - ETA: 0s - loss: 0.2618 - categorical_accuracy: 0.9291\n",
      "Epoch 00005: saving model to model_init_2024-11-0515_53_03.415319/model-00005-0.26182-0.92911-0.83300-0.72000.h5\n",
      "133/133 [==============================] - 32s 240ms/step - loss: 0.2618 - categorical_accuracy: 0.9291 - val_loss: 0.8330 - val_categorical_accuracy: 0.7200 - lr: 0.0010\n",
      "Epoch 6/20\n",
      "133/133 [==============================] - ETA: 0s - loss: 0.1948 - categorical_accuracy: 0.9517\n",
      "Epoch 00006: saving model to model_init_2024-11-0515_53_03.415319/model-00006-0.19479-0.95173-0.72177-0.75000.h5\n",
      "133/133 [==============================] - 31s 234ms/step - loss: 0.1948 - categorical_accuracy: 0.9517 - val_loss: 0.7218 - val_categorical_accuracy: 0.7500 - lr: 0.0010\n",
      "Epoch 7/20\n",
      "133/133 [==============================] - ETA: 0s - loss: 0.1369 - categorical_accuracy: 0.9517\n",
      "Epoch 00007: saving model to model_init_2024-11-0515_53_03.415319/model-00007-0.13689-0.95173-0.90688-0.69000.h5\n",
      "133/133 [==============================] - 31s 232ms/step - loss: 0.1369 - categorical_accuracy: 0.9517 - val_loss: 0.9069 - val_categorical_accuracy: 0.6900 - lr: 0.0010\n",
      "Epoch 8/20\n",
      "133/133 [==============================] - ETA: 0s - loss: 0.1180 - categorical_accuracy: 0.9653\n",
      "Epoch 00008: saving model to model_init_2024-11-0515_53_03.415319/model-00008-0.11797-0.96531-0.88591-0.75000.h5\n",
      "133/133 [==============================] - 32s 238ms/step - loss: 0.1180 - categorical_accuracy: 0.9653 - val_loss: 0.8859 - val_categorical_accuracy: 0.7500 - lr: 0.0010\n",
      "Epoch 9/20\n",
      "133/133 [==============================] - ETA: 0s - loss: 0.1079 - categorical_accuracy: 0.9623\n",
      "Epoch 00009: saving model to model_init_2024-11-0515_53_03.415319/model-00009-0.10788-0.96229-1.09780-0.70000.h5\n",
      "133/133 [==============================] - 32s 240ms/step - loss: 0.1079 - categorical_accuracy: 0.9623 - val_loss: 1.0978 - val_categorical_accuracy: 0.7000 - lr: 2.0000e-04\n",
      "Epoch 10/20\n",
      "133/133 [==============================] - ETA: 0s - loss: 0.0565 - categorical_accuracy: 0.9804\n",
      "Epoch 00010: saving model to model_init_2024-11-0515_53_03.415319/model-00010-0.05653-0.98039-0.75856-0.75000.h5\n",
      "133/133 [==============================] - 32s 238ms/step - loss: 0.0565 - categorical_accuracy: 0.9804 - val_loss: 0.7586 - val_categorical_accuracy: 0.7500 - lr: 2.0000e-04\n",
      "Epoch 11/20\n",
      "133/133 [==============================] - ETA: 0s - loss: 0.0478 - categorical_accuracy: 0.9819\n",
      "Epoch 00011: saving model to model_init_2024-11-0515_53_03.415319/model-00011-0.04778-0.98190-0.93300-0.77000.h5\n",
      "133/133 [==============================] - 30s 229ms/step - loss: 0.0478 - categorical_accuracy: 0.9819 - val_loss: 0.9330 - val_categorical_accuracy: 0.7700 - lr: 2.0000e-04\n",
      "Epoch 12/20\n",
      "133/133 [==============================] - ETA: 0s - loss: 0.0257 - categorical_accuracy: 0.9940\n",
      "Epoch 00012: saving model to model_init_2024-11-0515_53_03.415319/model-00012-0.02574-0.99397-0.72789-0.77000.h5\n",
      "133/133 [==============================] - 32s 242ms/step - loss: 0.0257 - categorical_accuracy: 0.9940 - val_loss: 0.7279 - val_categorical_accuracy: 0.7700 - lr: 2.0000e-04\n",
      "Epoch 13/20\n",
      "133/133 [==============================] - ETA: 0s - loss: 0.0395 - categorical_accuracy: 0.9894\n",
      "Epoch 00013: saving model to model_init_2024-11-0515_53_03.415319/model-00013-0.03946-0.98944-0.79181-0.75000.h5\n",
      "133/133 [==============================] - 32s 238ms/step - loss: 0.0395 - categorical_accuracy: 0.9894 - val_loss: 0.7918 - val_categorical_accuracy: 0.7500 - lr: 4.0000e-05\n",
      "Epoch 14/20\n",
      "133/133 [==============================] - ETA: 0s - loss: 0.0309 - categorical_accuracy: 0.9925\n",
      "Epoch 00014: saving model to model_init_2024-11-0515_53_03.415319/model-00014-0.03085-0.99246-0.84996-0.73000.h5\n",
      "133/133 [==============================] - 30s 226ms/step - loss: 0.0309 - categorical_accuracy: 0.9925 - val_loss: 0.8500 - val_categorical_accuracy: 0.7300 - lr: 4.0000e-05\n",
      "Epoch 15/20\n",
      "133/133 [==============================] - ETA: 0s - loss: 0.0221 - categorical_accuracy: 0.9970\n",
      "Epoch 00015: saving model to model_init_2024-11-0515_53_03.415319/model-00015-0.02209-0.99698-0.81032-0.78000.h5\n",
      "133/133 [==============================] - 31s 235ms/step - loss: 0.0221 - categorical_accuracy: 0.9970 - val_loss: 0.8103 - val_categorical_accuracy: 0.7800 - lr: 4.0000e-05\n",
      "Epoch 16/20\n",
      "133/133 [==============================] - ETA: 0s - loss: 0.0334 - categorical_accuracy: 0.9910\n",
      "Epoch 00016: saving model to model_init_2024-11-0515_53_03.415319/model-00016-0.03344-0.99095-0.74532-0.74000.h5\n",
      "133/133 [==============================] - 33s 246ms/step - loss: 0.0334 - categorical_accuracy: 0.9910 - val_loss: 0.7453 - val_categorical_accuracy: 0.7400 - lr: 4.0000e-05\n",
      "Epoch 17/20\n",
      "133/133 [==============================] - ETA: 0s - loss: 0.0246 - categorical_accuracy: 0.9970\n",
      "Epoch 00017: saving model to model_init_2024-11-0515_53_03.415319/model-00017-0.02460-0.99698-0.83763-0.72000.h5\n",
      "133/133 [==============================] - 33s 252ms/step - loss: 0.0246 - categorical_accuracy: 0.9970 - val_loss: 0.8376 - val_categorical_accuracy: 0.7200 - lr: 8.0000e-06\n",
      "Epoch 18/20\n",
      "133/133 [==============================] - ETA: 0s - loss: 0.0245 - categorical_accuracy: 0.9955\n",
      "Epoch 00018: saving model to model_init_2024-11-0515_53_03.415319/model-00018-0.02451-0.99548-0.88323-0.71000.h5\n",
      "133/133 [==============================] - 32s 239ms/step - loss: 0.0245 - categorical_accuracy: 0.9955 - val_loss: 0.8832 - val_categorical_accuracy: 0.7100 - lr: 8.0000e-06\n",
      "Epoch 19/20\n",
      "133/133 [==============================] - ETA: 0s - loss: 0.0225 - categorical_accuracy: 0.9925\n",
      "Epoch 00019: saving model to model_init_2024-11-0515_53_03.415319/model-00019-0.02245-0.99246-0.77620-0.75000.h5\n",
      "133/133 [==============================] - 31s 232ms/step - loss: 0.0225 - categorical_accuracy: 0.9925 - val_loss: 0.7762 - val_categorical_accuracy: 0.7500 - lr: 8.0000e-06\n",
      "Epoch 20/20\n",
      "133/133 [==============================] - ETA: 0s - loss: 0.0287 - categorical_accuracy: 0.9910\n",
      "Epoch 00020: saving model to model_init_2024-11-0515_53_03.415319/model-00020-0.02872-0.99095-0.74696-0.76000.h5\n",
      "133/133 [==============================] - 31s 238ms/step - loss: 0.0287 - categorical_accuracy: 0.9910 - val_loss: 0.7470 - val_categorical_accuracy: 0.7600 - lr: 8.0000e-06\n"
     ]
    }
   ],
   "source": [
    "history = mobileNetModel.fit_generator(train_generator, steps_per_epoch=steps_per_epoch, epochs=num_epochs, verbose=1, \n",
    "                    callbacks=callbacks_list, validation_data=val_generator, \n",
    "                    validation_steps=validation_steps, class_weight=None, workers=1, initial_epoch=0)"
   ]
  },
  {
   "cell_type": "code",
   "execution_count": 89,
   "metadata": {},
   "outputs": [
    {
     "data": {
      "image/png": "[encoded data removed]",
      "text/plain": [
       "<Figure size 432x288 with 1 Axes>"
      ]
     },
     "metadata": {
      "needs_background": "light"
     },
     "output_type": "display_data"
    },
    {
     "data": {
      "image/png": "[encoded data removed]",
      "text/plain": [
       "<Figure size 432x288 with 1 Axes>"
      ]
     },
     "metadata": {
      "needs_background": "light"
     },
     "output_type": "display_data"
    }
   ],
   "source": [
    "# Plotting the result of Model 1 :\n",
    "\n",
    "# summarize history for accuracy\n",
    "plt.plot(history.history['categorical_accuracy'])\n",
    "plt.plot(history.history['val_categorical_accuracy'])\n",
    "plt.title('model accuracy')\n",
    "plt.ylabel('accuracy')\n",
    "plt.xlabel('epoch')\n",
    "plt.legend(['train', 'test'], loc='upper left')\n",
    "plt.show()\n",
    "\n",
    "# summarize history for loss\n",
    "plt.plot(history.history['loss'])\n",
    "plt.plot(history.history['val_loss'])\n",
    "plt.title('model loss')\n",
    "plt.ylabel('loss')\n",
    "plt.xlabel('epoch')\n",
    "plt.legend(['train', 'test'], loc='upper left')\n",
    "plt.show()"
   ]
  },
  {
   "cell_type": "markdown",
   "metadata": {},
   "source": [
    "Model 12: Transfer Learning with GRU \n"
   ]
  },
  {
   "cell_type": "code",
   "execution_count": 90,
   "metadata": {},
   "outputs": [
    {
     "name": "stdout",
     "output_type": "stream",
     "text": [
      "WARNING:tensorflow:`input_shape` is undefined or non-square, or `rows` is not in [128, 160, 192, 224]. Weights for input shape (224, 224) will be loaded as the default.\n",
      "Model: \"sequential_15\"\n",
      "_________________________________________________________________\n",
      " Layer (type)                Output Shape              Param #   \n",
      "=================================================================\n",
      " time_distributed_105 (TimeD  (None, 18, 3, 3, 1024)   3228864   \n",
      " istributed)                                                     \n",
      "                                                                 \n",
      " time_distributed_106 (TimeD  (None, 18, 3, 3, 1024)   4096      \n",
      " istributed)                                                     \n",
      "                                                                 \n",
      " time_distributed_107 (TimeD  (None, 18, 1, 1, 1024)   0         \n",
      " istributed)                                                     \n",
      "                                                                 \n",
      " time_distributed_108 (TimeD  (None, 18, 1024)         0         \n",
      " istributed)                                                     \n",
      "                                                                 \n",
      " lstm_3 (LSTM)               (None, 128)               590336    \n",
      "                                                                 \n",
      " dropout_22 (Dropout)        (None, 128)               0         \n",
      "                                                                 \n",
      " dense_27 (Dense)            (None, 128)               16512     \n",
      "                                                                 \n",
      " dropout_23 (Dropout)        (None, 128)               0         \n",
      "                                                                 \n",
      " dense_28 (Dense)            (None, 5)                 645       \n",
      "                                                                 \n",
      "=================================================================\n",
      "Total params: 3,840,453\n",
      "Trainable params: 609,541\n",
      "Non-trainable params: 3,230,912\n",
      "_________________________________________________________________\n",
      "None\n"
     ]
    }
   ],
   "source": [
    "from keras.applications import mobilenet\n",
    "\n",
    "mobilenet_transfer = mobilenet.MobileNet(weights='imagenet', include_top=False)\n",
    "\n",
    "input_shape = (18,120,120,3)\n",
    "        \n",
    "mobileNetModelWeight = Sequential()\n",
    "mobileNetModelWeight.add(TimeDistributed(mobilenet_transfer,input_shape=(input_shape)))\n",
    "\n",
    "\n",
    "mobileNetModelWeight.add(TimeDistributed(BatchNormalization()))\n",
    "mobileNetModelWeight.add(TimeDistributed(MaxPooling2D((2, 2))))\n",
    "mobileNetModelWeight.add(TimeDistributed(Flatten()))\n",
    "\n",
    "mobileNetModelWeight.add(GRU(128))\n",
    "mobileNetModelWeight.add(Dropout(0.25))\n",
    "\n",
    "mobileNetModelWeight.add(Dense(128,activation='relu'))\n",
    "mobileNetModelWeight.add(Dropout(0.25))\n",
    "\n",
    "mobileNetModelWeight.add(Dense(5, activation='softmax'))\n",
    "\n",
    "\n",
    "optimiser = tf.optimizers.Adam()\n",
    "mobileNetModelWeight.compile(optimizer=optimiser, loss='categorical_crossentropy', metrics=['categorical_accuracy'])\n",
    "print (mobileNetModel.summary())"
   ]
  },
  {
   "cell_type": "code",
   "execution_count": null,
   "metadata": {},
   "outputs": [],
   "source": [
    "batch_size = 15\n",
    "num_epochs = 30\n"
   ]
  },
  {
   "cell_type": "code",
   "execution_count": 91,
   "metadata": {},
   "outputs": [
    {
     "name": "stdout",
     "output_type": "stream",
     "text": [
      "WARNING:tensorflow:`period` argument is deprecated. Please use `save_freq` to specify the frequency in number of batches seen.\n"
     ]
    }
   ],
   "source": [
    "train_generator = generatorMobileNet(train_path, train_doc, batch_size)\n",
    "val_generator = generatorMobileNet(val_path, val_doc, batch_size)\n",
    "\n",
    "model_name = 'model_init' + '_' + str(curr_dt_time).replace(' ','').replace(':','_') + '/'\n",
    "    \n",
    "if not os.path.exists(model_name):\n",
    "    os.mkdir(model_name)\n",
    "        \n",
    "filepath = model_name + 'model-{epoch:05d}-{loss:.5f}-{categorical_accuracy:.5f}-{val_loss:.5f}-{val_categorical_accuracy:.5f}.h5'\n",
    "\n",
    "checkpoint = ModelCheckpoint(filepath, monitor='val_loss', verbose=1, save_best_only=False, save_weights_only=False, mode='auto', period=1)\n",
    "\n",
    "# write the REducelronplateau code here\n",
    "LR = ReduceLROnPlateau(monitor='val_loss', factor=0.2, patience=4)\n",
    "\n",
    "callbacks_list = [checkpoint, LR]\n",
    "\n",
    "if (num_train_sequences%batch_size) == 0:\n",
    "    steps_per_epoch = int(num_train_sequences/batch_size)\n",
    "else:\n",
    "    steps_per_epoch = (num_train_sequences//batch_size) + 1\n",
    "\n",
    "if (num_val_sequences%batch_size) == 0:\n",
    "    validation_steps = int(num_val_sequences/batch_size)\n",
    "else:\n",
    "    validation_steps = (num_val_sequences//batch_size) + 1"
   ]
  },
  {
   "cell_type": "code",
   "execution_count": 92,
   "metadata": {},
   "outputs": [
    {
     "name": "stderr",
     "output_type": "stream",
     "text": [
      "/tmp/ipykernel_267/950158795.py:1: UserWarning: `Model.fit_generator` is deprecated and will be removed in a future version. Please use `Model.fit`, which supports generators.\n",
      "  history = mobileNetModelWeight.fit_generator(train_generator, steps_per_epoch=steps_per_epoch, epochs=num_epochs, verbose=1,\n"
     ]
    },
    {
     "name": "stdout",
     "output_type": "stream",
     "text": [
      "Source path =  /datasets/Project_data/train ; batch size = 5\n",
      "Epoch 1/20\n",
      "133/133 [==============================] - ETA: 0s - loss: 1.2338 - categorical_accuracy: 0.4857Source path =  /datasets/Project_data/val ; batch size = 5\n",
      "\n",
      "Epoch 00001: saving model to model_init_2024-11-0515_53_03.415319/model-00001-1.23382-0.48567-1.16480-0.51000.h5\n",
      "133/133 [==============================] - 39s 265ms/step - loss: 1.2338 - categorical_accuracy: 0.4857 - val_loss: 1.1648 - val_categorical_accuracy: 0.5100 - lr: 0.0010\n",
      "Epoch 2/20\n",
      "133/133 [==============================] - ETA: 0s - loss: 0.8898 - categorical_accuracy: 0.6395\n",
      "Epoch 00002: saving model to model_init_2024-11-0515_53_03.415319/model-00002-0.88985-0.63952-1.07697-0.51000.h5\n",
      "133/133 [==============================] - 34s 253ms/step - loss: 0.8898 - categorical_accuracy: 0.6395 - val_loss: 1.0770 - val_categorical_accuracy: 0.5100 - lr: 0.0010\n",
      "Epoch 3/20\n",
      "133/133 [==============================] - ETA: 0s - loss: 0.6795 - categorical_accuracy: 0.7466\n",
      "Epoch 00003: saving model to model_init_2024-11-0515_53_03.415319/model-00003-0.67954-0.74661-0.90257-0.66000.h5\n",
      "133/133 [==============================] - 34s 254ms/step - loss: 0.6795 - categorical_accuracy: 0.7466 - val_loss: 0.9026 - val_categorical_accuracy: 0.6600 - lr: 0.0010\n",
      "Epoch 4/20\n",
      "133/133 [==============================] - ETA: 0s - loss: 0.6068 - categorical_accuracy: 0.7753\n",
      "Epoch 00004: saving model to model_init_2024-11-0515_53_03.415319/model-00004-0.60680-0.77526-0.44497-0.82000.h5\n",
      "133/133 [==============================] - 34s 254ms/step - loss: 0.6068 - categorical_accuracy: 0.7753 - val_loss: 0.4450 - val_categorical_accuracy: 0.8200 - lr: 0.0010\n",
      "Epoch 5/20\n",
      "133/133 [==============================] - ETA: 0s - loss: 0.4530 - categorical_accuracy: 0.8431\n",
      "Epoch 00005: saving model to model_init_2024-11-0515_53_03.415319/model-00005-0.45305-0.84314-0.40458-0.84000.h5\n",
      "133/133 [==============================] - 35s 264ms/step - loss: 0.4530 - categorical_accuracy: 0.8431 - val_loss: 0.4046 - val_categorical_accuracy: 0.8400 - lr: 0.0010\n",
      "Epoch 6/20\n",
      "133/133 [==============================] - ETA: 0s - loss: 0.4510 - categorical_accuracy: 0.8386\n",
      "Epoch 00006: saving model to model_init_2024-11-0515_53_03.415319/model-00006-0.45096-0.83861-0.40727-0.86000.h5\n",
      "133/133 [==============================] - 34s 255ms/step - loss: 0.4510 - categorical_accuracy: 0.8386 - val_loss: 0.4073 - val_categorical_accuracy: 0.8600 - lr: 0.0010\n",
      "Epoch 7/20\n",
      "133/133 [==============================] - ETA: 0s - loss: 0.4104 - categorical_accuracy: 0.8567\n",
      "Epoch 00007: saving model to model_init_2024-11-0515_53_03.415319/model-00007-0.41044-0.85671-0.33673-0.88000.h5\n",
      "133/133 [==============================] - 34s 255ms/step - loss: 0.4104 - categorical_accuracy: 0.8567 - val_loss: 0.3367 - val_categorical_accuracy: 0.8800 - lr: 0.0010\n",
      "Epoch 8/20\n",
      "133/133 [==============================] - ETA: 0s - loss: 0.2694 - categorical_accuracy: 0.9020\n",
      "Epoch 00008: saving model to model_init_2024-11-0515_53_03.415319/model-00008-0.26937-0.90196-0.80737-0.71000.h5\n",
      "133/133 [==============================] - 34s 254ms/step - loss: 0.2694 - categorical_accuracy: 0.9020 - val_loss: 0.8074 - val_categorical_accuracy: 0.7100 - lr: 0.0010\n",
      "Epoch 9/20\n",
      "133/133 [==============================] - ETA: 0s - loss: 0.4016 - categorical_accuracy: 0.8612\n",
      "Epoch 00009: saving model to model_init_2024-11-0515_53_03.415319/model-00009-0.40162-0.86124-0.36855-0.83000.h5\n",
      "133/133 [==============================] - 34s 255ms/step - loss: 0.4016 - categorical_accuracy: 0.8612 - val_loss: 0.3685 - val_categorical_accuracy: 0.8300 - lr: 0.0010\n",
      "Epoch 10/20\n",
      "133/133 [==============================] - ETA: 0s - loss: 0.4867 - categorical_accuracy: 0.8235\n",
      "Epoch 00010: saving model to model_init_2024-11-0515_53_03.415319/model-00010-0.48667-0.82353-1.41543-0.47000.h5\n",
      "133/133 [==============================] - 34s 257ms/step - loss: 0.4867 - categorical_accuracy: 0.8235 - val_loss: 1.4154 - val_categorical_accuracy: 0.4700 - lr: 0.0010\n",
      "Epoch 11/20\n",
      "133/133 [==============================] - ETA: 0s - loss: 0.5382 - categorical_accuracy: 0.8205\n",
      "Epoch 00011: saving model to model_init_2024-11-0515_53_03.415319/model-00011-0.53824-0.82051-0.66481-0.73000.h5\n",
      "133/133 [==============================] - 33s 252ms/step - loss: 0.5382 - categorical_accuracy: 0.8205 - val_loss: 0.6648 - val_categorical_accuracy: 0.7300 - lr: 0.0010\n",
      "Epoch 12/20\n",
      "133/133 [==============================] - ETA: 0s - loss: 0.3362 - categorical_accuracy: 0.8824\n",
      "Epoch 00012: saving model to model_init_2024-11-0515_53_03.415319/model-00012-0.33624-0.88235-0.22840-0.90000.h5\n",
      "133/133 [==============================] - 35s 262ms/step - loss: 0.3362 - categorical_accuracy: 0.8824 - val_loss: 0.2284 - val_categorical_accuracy: 0.9000 - lr: 2.0000e-04\n",
      "Epoch 13/20\n",
      "133/133 [==============================] - ETA: 0s - loss: 0.2069 - categorical_accuracy: 0.9246\n",
      "Epoch 00013: saving model to model_init_2024-11-0515_53_03.415319/model-00013-0.20688-0.92459-0.18664-0.92000.h5\n",
      "133/133 [==============================] - 33s 249ms/step - loss: 0.2069 - categorical_accuracy: 0.9246 - val_loss: 0.1866 - val_categorical_accuracy: 0.9200 - lr: 2.0000e-04\n",
      "Epoch 14/20\n",
      "133/133 [==============================] - ETA: 0s - loss: 0.1668 - categorical_accuracy: 0.9321\n",
      "Epoch 00014: saving model to model_init_2024-11-0515_53_03.415319/model-00014-0.16676-0.93213-0.17093-0.91000.h5\n",
      "133/133 [==============================] - 34s 254ms/step - loss: 0.1668 - categorical_accuracy: 0.9321 - val_loss: 0.1709 - val_categorical_accuracy: 0.9100 - lr: 2.0000e-04\n",
      "Epoch 15/20\n",
      "133/133 [==============================] - ETA: 0s - loss: 0.1202 - categorical_accuracy: 0.9653\n",
      "Epoch 00015: saving model to model_init_2024-11-0515_53_03.415319/model-00015-0.12024-0.96531-0.20809-0.92000.h5\n",
      "133/133 [==============================] - 34s 255ms/step - loss: 0.1202 - categorical_accuracy: 0.9653 - val_loss: 0.2081 - val_categorical_accuracy: 0.9200 - lr: 2.0000e-04\n",
      "Epoch 16/20\n",
      "133/133 [==============================] - ETA: 0s - loss: 0.1115 - categorical_accuracy: 0.9668\n",
      "Epoch 00016: saving model to model_init_2024-11-0515_53_03.415319/model-00016-0.11147-0.96682-0.22248-0.92000.h5\n",
      "133/133 [==============================] - 34s 253ms/step - loss: 0.1115 - categorical_accuracy: 0.9668 - val_loss: 0.2225 - val_categorical_accuracy: 0.9200 - lr: 2.0000e-04\n",
      "Epoch 17/20\n",
      "133/133 [==============================] - ETA: 0s - loss: 0.0919 - categorical_accuracy: 0.9668\n",
      "Epoch 00017: saving model to model_init_2024-11-0515_53_03.415319/model-00017-0.09186-0.96682-0.19119-0.94000.h5\n",
      "133/133 [==============================] - 34s 258ms/step - loss: 0.0919 - categorical_accuracy: 0.9668 - val_loss: 0.1912 - val_categorical_accuracy: 0.9400 - lr: 2.0000e-04\n",
      "Epoch 18/20\n",
      "133/133 [==============================] - ETA: 0s - loss: 0.0561 - categorical_accuracy: 0.9834\n",
      "Epoch 00018: saving model to model_init_2024-11-0515_53_03.415319/model-00018-0.05607-0.98341-0.28528-0.92000.h5\n",
      "133/133 [==============================] - 33s 246ms/step - loss: 0.0561 - categorical_accuracy: 0.9834 - val_loss: 0.2853 - val_categorical_accuracy: 0.9200 - lr: 2.0000e-04\n",
      "Epoch 19/20\n",
      "133/133 [==============================] - ETA: 0s - loss: 0.0500 - categorical_accuracy: 0.9834\n",
      "Epoch 00019: saving model to model_init_2024-11-0515_53_03.415319/model-00019-0.05002-0.98341-0.24507-0.92000.h5\n",
      "133/133 [==============================] - 33s 251ms/step - loss: 0.0500 - categorical_accuracy: 0.9834 - val_loss: 0.2451 - val_categorical_accuracy: 0.9200 - lr: 4.0000e-05\n",
      "Epoch 20/20\n",
      "133/133 [==============================] - ETA: 0s - loss: 0.0475 - categorical_accuracy: 0.9864 ETA: 2s - loss: 0.0486 - ca\n",
      "Epoch 00020: saving model to model_init_2024-11-0515_53_03.415319/model-00020-0.04746-0.98643-0.22626-0.93000.h5\n",
      "133/133 [==============================] - 33s 250ms/step - loss: 0.0475 - categorical_accuracy: 0.9864 - val_loss: 0.2263 - val_categorical_accuracy: 0.9300 - lr: 4.0000e-05\n"
     ]
    }
   ],
   "source": [
    "history = mobileNetModelWeight.fit_generator(train_generator, steps_per_epoch=steps_per_epoch, epochs=num_epochs, verbose=1, \n",
    "                    callbacks=callbacks_list, validation_data=val_generator, \n",
    "                    validation_steps=validation_steps, class_weight=None, workers=1, initial_epoch=0)"
   ]
  },
  {
   "cell_type": "code",
   "execution_count": 94,
   "metadata": {},
   "outputs": [
    {
     "data": {
      "image/png": "[encoded data removed]",
      "text/plain": [
       "<Figure size 432x288 with 1 Axes>"
      ]
     },
     "metadata": {
      "needs_background": "light"
     },
     "output_type": "display_data"
    },
    {
     "data": {
      "image/png": "[encoded data removed]",
      "text/plain": [
       "<Figure size 432x288 with 1 Axes>"
      ]
     },
     "metadata": {
      "needs_background": "light"
     },
     "output_type": "display_data"
    }
   ],
   "source": [
    "# Plotting the result of Model 1 :\n",
    "\n",
    "# summarize history for accuracy\n",
    "plt.plot(history.history['categorical_accuracy'])\n",
    "plt.plot(history.history['val_categorical_accuracy'])\n",
    "plt.title('model accuracy')\n",
    "plt.ylabel('accuracy')\n",
    "plt.xlabel('epoch')\n",
    "plt.legend(['train', 'test'], loc='upper left')\n",
    "plt.show()\n",
    "\n",
    "# summarize history for loss\n",
    "plt.plot(history.history['loss'])\n",
    "plt.plot(history.history['val_loss'])\n",
    "plt.title('model loss')\n",
    "plt.ylabel('loss')\n",
    "plt.xlabel('epoch')\n",
    "plt.legend(['train', 'test'], loc='upper left')\n",
    "plt.show()"
   ]
  }
 ],
 "metadata": {
  "kernelspec": {
   "display_name": "Python 3 (ipykernel)",
   "language": "python",
   "name": "python3"
  },
  "language_info": {
   "codemirror_mode": {
    "name": "ipython",
    "version": 3
   },
   "file_extension": ".py",
   "mimetype": "text/x-python",
   "name": "python",
   "nbconvert_exporter": "python",
   "pygments_lexer": "ipython3",
   "version": "3.8.10"
  }
 },
 "nbformat": 4,
 "nbformat_minor": 4
}
