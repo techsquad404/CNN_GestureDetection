{
 "cells": [
  {
   "cell_type": "markdown",
   "metadata": {},
   "source": [
    "# Gesture Recognition\n",
    "In this group project, you are going to build a 3D Conv model that will be able to predict the 5 gestures correctly. Please import the following libraries to get started."
   ]
  },
  {
   "cell_type": "code",
   "execution_count": 86,
   "metadata": {},
   "outputs": [],
   "source": [
    "import numpy as np\n",
    "import os\n",
    "from scipy.misc import imread, imresize\n",
    "import datetime\n",
    "import os\n",
    "import cv2\n",
    "import matplotlib.pyplot as plt\n",
    "\n"
   ]
  },
  {
   "cell_type": "code",
   "execution_count": 1,
   "metadata": {},
   "outputs": [
    {
     "name": "stdout",
     "output_type": "stream",
     "text": [
      "Collecting scipy==1.1.0\n",
      "  Using cached scipy-1.1.0-cp38-cp38-linux_x86_64.whl\n",
      "Requirement already satisfied: numpy>=1.8.2 in /usr/local/lib/python3.8/dist-packages (from scipy==1.1.0) (1.19.4)\n",
      "Installing collected packages: scipy\n",
      "  Attempting uninstall: scipy\n",
      "    Found existing installation: scipy 1.4.1\n",
      "    Uninstalling scipy-1.4.1:\n",
      "      Successfully uninstalled scipy-1.4.1\n",
      "\u001b[31mERROR: pip's dependency resolver does not currently take into account all the packages that are installed. This behaviour is the source of the following dependency conflicts.\n",
      "scikit-image 0.19.2 requires scipy>=1.4.1, but you have scipy 1.1.0 which is incompatible.\u001b[0m\u001b[31m\n",
      "\u001b[0mSuccessfully installed scipy-1.1.0\n",
      "\u001b[33mWARNING: Running pip as the 'root' user can result in broken permissions and conflicting behaviour with the system package manager. It is recommended to use a virtual environment instead: https://pip.pypa.io/warnings/venv\u001b[0m\u001b[33m\n",
      "\u001b[0m\u001b[33mWARNING: You are using pip version 22.0.3; however, version 24.3.1 is available.\n",
      "You should consider upgrading via the '/usr/bin/python -m pip install --upgrade pip' command.\u001b[0m\u001b[33m\n",
      "\u001b[0mNote: you may need to restart the kernel to use updated packages.\n"
     ]
    }
   ],
   "source": [
    "pip install scipy==1.1.0"
   ]
  },
  {
   "cell_type": "markdown",
   "metadata": {},
   "source": [
    "We set the random seed so that the results don't vary drastically."
   ]
  },
  {
   "cell_type": "code",
   "execution_count": 4,
   "metadata": {},
   "outputs": [],
   "source": [
    "np.random.seed(30)\n",
    "import random as rn\n",
    "rn.seed(30)\n",
    "from keras import backend as K\n",
    "import tensorflow as tf\n",
    "tf.random.set_seed(30) "
   ]
  },
  {
   "cell_type": "markdown",
   "metadata": {},
   "source": [
    "In this block, you read the folder names for training and validation. You also set the `batch_size` here. Note that you set the batch size in such a way that you are able to use the GPU in full capacity. You keep increasing the batch size until the machine throws an error."
   ]
  },
  {
   "cell_type": "code",
   "execution_count": 37,
   "metadata": {},
   "outputs": [],
   "source": [
    "train_doc = np.random.permutation(open('/datasets/Project_data/train.csv').readlines())\n",
    "val_doc = np.random.permutation(open('/datasets/Project_data/val.csv').readlines())\n",
    "#batch_size = #experiment with the batch size\n",
    "batch_size = 25"
   ]
  },
  {
   "cell_type": "code",
   "execution_count": 13,
   "metadata": {},
   "outputs": [],
   "source": [
    "# Custom function to crop image :\n",
    "\n",
    "def crop_img(img, scale=1.0):\n",
    "    center_x, center_y = img.shape[1] / 2, img.shape[0] / 2\n",
    "    width_scaled, height_scaled = img.shape[1] * scale, img.shape[0] * scale\n",
    "    left_x, right_x = center_x - width_scaled / 2, center_x + width_scaled / 2\n",
    "    top_y, bottom_y = center_y - height_scaled / 2, center_y + height_scaled / 2\n",
    "    img_cropped = img[int(top_y):int(bottom_y), int(left_x):int(right_x)]\n",
    "    return img_cropped"
   ]
  },
  {
   "cell_type": "code",
   "execution_count": 74,
   "metadata": {},
   "outputs": [
    {
     "name": "stdout",
     "output_type": "stream",
     "text": [
      "[ 0  2  3  7  8  9 11 15 16 19 20 21 22 22 26 26 26 26 27 28]\n"
     ]
    }
   ],
   "source": [
    "import numpy as np\n",
    "np.random.seed(20)\n",
    "random_numbers = np.random.randint(0, 31, size=20)  # 31 is exclusive\n",
    "arr = np.sort(random_numbers)\n",
    "\n",
    "print(arr)"
   ]
  },
  {
   "cell_type": "markdown",
   "metadata": {},
   "source": [
    "## Generator\n",
    "This is one of the most important part of the code. The overall structure of the generator has been given. In the generator, you are going to preprocess the images as you have images of 2 different dimensions as well as create a batch of video frames. You have to experiment with `img_idx`, `y`,`z` and normalization such that you get high accuracy."
   ]
  },
  {
   "cell_type": "code",
   "execution_count": 75,
   "metadata": {},
   "outputs": [],
   "source": [
    "def generator(source_path, folder_list, batch_size):\n",
    "    print( 'Source path = ', source_path, '; batch size =', batch_size)\n",
    "    img_idx = arr\n",
    "    #create a list of image numbers you want to use for a particular video\n",
    "    while True:\n",
    "        t = np.random.permutation(folder_list)\n",
    "        num_batches = int(len(t)/batch_size)\n",
    "        # calculate the number of batches\n",
    "        for batch in range(num_batches): # we iterate over the number of batches\n",
    "            batch_data = np.zeros((batch_size,20,100,100,3)) # x is the number of images you use for each video, (y,z) is the final size of the input images and 3 is the number of channels RGB\n",
    "            batch_labels = np.zeros((batch_size,5)) # batch_labels is the one hot representation of the output\n",
    "            for folder in range(batch_size): # iterate over the batch_size\n",
    "                imgs = os.listdir(source_path+'/'+ t[folder + (batch*batch_size)].split(';')[0]) # read all the images in the folder\n",
    "                for idx,item in enumerate(img_idx): #  Iterate iver the frames/images of a folder to read them in\n",
    "                    image = imread(source_path+'/'+ t[folder + (batch*batch_size)].strip().split(';')[0]+'/'+imgs[item]).astype(np.float32)\n",
    "                    image = crop_img(image, 0.10)\n",
    "                    if image.shape[1] == 160:\n",
    "                        image = cv2.resize(image[:,20:140,:],(100,100),interpolation = cv2.INTER_AREA).astype(np.float32)\n",
    "                    else:\n",
    "                        image = cv2.resize(image,(100,100),interpolation = cv2.INTER_AREA).astype(np.float32)                    \n",
    "                       \n",
    "                    #crop the images and resize them. Note that the images are of 2 different shape \n",
    "                    #and the conv3D will throw error if the inputs in a batch have different shapes\n",
    "                    \n",
    "                    # normalize and feed the image. \n",
    "                    batch_data[folder,idx,:,:,0] = (image[:,:,0])/255\n",
    "                    batch_data[folder,idx,:,:,1] = (image[:,:,1])/255\n",
    "                    batch_data[folder,idx,:,:,2] = (image[:,:,2])/255\n",
    "                    \n",
    "                batch_labels[folder, int(t[folder + (batch*batch_size)].strip().split(';')[2])] = 1\n",
    "            yield batch_data, batch_labels #you yield the batch_data and the batch_labels, remember what does yield do\n",
    "\n",
    "        \n",
    "        # write the code for the remaining data points which are left after full batches\n",
    "        data_remaining = len(t)%batch_size\n",
    "        if(data_remaining != 0):\n",
    "            batch_data = np.zeros((data_remaining,20,100,100,3)) # x is the number of images you use for each video, (y,z) is the final size of the input images and 3 is the number of channels RGB\n",
    "            batch_labels = np.zeros((data_remaining,5)) # batch_labels is the one hot representation of the output\n",
    "            for folder in range(data_remaining): # iterate over the batch_size\n",
    "                imgs = os.listdir(source_path+'/'+ t[folder + (num_batches*batch_size)].split(';')[0]) # read all the images in the folder\n",
    "                for idx,item in enumerate(img_idx): #  Iterate iver the frames/images of a folder to read them in\n",
    "                    image = imread(source_path+'/'+ t[folder + (num_batches*batch_size)].strip().split(';')[0]+'/'+imgs[item]).astype(np.float32)\n",
    "                    image = crop_img(image, 0.10)\n",
    "                    if image.shape[1] == 160:\n",
    "                        image = cv2.resize(image[:,20:140,:],(100,100),interpolation = cv2.INTER_AREA).astype(np.float32)\n",
    "                    else:\n",
    "                        image = cv2.resize(image,(100,100),interpolation = cv2.INTER_AREA).astype(np.float32)                    \n",
    "                       \n",
    "                    #crop the images and resize them. Note that the images are of 2 different shape \n",
    "                    #and the conv3D will throw error if the inputs in a batch have different shapes\n",
    "                    \n",
    "                    # normalize and feed the image. \n",
    "                    batch_data[folder,idx,:,:,0] = (image[:,:,0])/255\n",
    "                    batch_data[folder,idx,:,:,1] = (image[:,:,1])/255\n",
    "                    batch_data[folder,idx,:,:,2] = (image[:,:,2])/255\n",
    "                    \n",
    "                batch_labels[folder, int(t[folder + (num_batches*batch_size)].strip().split(';')[2])] = 1\n",
    "            yield batch_data, batch_labels #you yield the batch_data and the batch_labels, remember what does yield do\n"
   ]
  },
  {
   "cell_type": "markdown",
   "metadata": {},
   "source": [
    "Note here that a video is represented above in the generator as (number of images, height, width, number of channels). Take this into consideration while creating the model architecture."
   ]
  },
  {
   "cell_type": "code",
   "execution_count": 76,
   "metadata": {},
   "outputs": [
    {
     "name": "stdout",
     "output_type": "stream",
     "text": [
      "# training sequences = 663\n",
      "# validation sequences = 100\n",
      "# epochs = 5\n"
     ]
    }
   ],
   "source": [
    "curr_dt_time = datetime.datetime.now()\n",
    "train_path = '/datasets/Project_data/train'\n",
    "val_path = '/datasets/Project_data/val'\n",
    "num_train_sequences = len(train_doc)\n",
    "print('# training sequences =', num_train_sequences)\n",
    "num_val_sequences = len(val_doc)\n",
    "print('# validation sequences =', num_val_sequences)\n",
    "num_epochs = 5\n",
    "# choose the number of epochs\n",
    "print ('# epochs =', num_epochs)"
   ]
  },
  {
   "cell_type": "markdown",
   "metadata": {},
   "source": [
    "## Model\n",
    "Here you make the model using different functionalities that Keras provides. Remember to use `Conv3D` and `MaxPooling3D` and not `Conv2D` and `Maxpooling2D` for a 3D convolution model. You would want to use `TimeDistributed` while building a Conv2D + RNN model. Also remember that the last layer is the softmax. Design the network in such a way that the model is able to give good accuracy on the least number of parameters so that it can fit in the memory of the webcam."
   ]
  },
  {
   "cell_type": "code",
   "execution_count": 77,
   "metadata": {},
   "outputs": [],
   "source": [
    "from keras.models import Sequential, Model\n",
    "from keras.layers import Dense, GRU, Flatten, TimeDistributed, Flatten, BatchNormalization, Activation, Dropout\n",
    "from keras.layers.convolutional import Conv3D, MaxPooling3D\n",
    "from keras.callbacks import ModelCheckpoint, ReduceLROnPlateau\n",
    "from keras import optimizers\n",
    "\n",
    "#write your model here"
   ]
  },
  {
   "cell_type": "markdown",
   "metadata": {},
   "source": [
    "First Base Model : Conv 3D Model with 5 epochs, 25 batch size\n",
    "Without dropouts in Conv layer and with batch normalization\n",
    "Input image size 100X100 , adam optimiser with learning rate 0.0002 with decay, 20 images as input out of 30"
   ]
  },
  {
   "cell_type": "markdown",
   "metadata": {},
   "source": [
    "Now that you have written the model, the next step is to `compile` the model. When you print the `summary` of the model, you'll see the total number of parameters you have to train."
   ]
  },
  {
   "cell_type": "code",
   "execution_count": 78,
   "metadata": {},
   "outputs": [
    {
     "name": "stdout",
     "output_type": "stream",
     "text": [
      "Model: \"sequential_12\"\n",
      "_________________________________________________________________\n",
      " Layer (type)                Output Shape              Param #   \n",
      "=================================================================\n",
      " conv3d_42 (Conv3D)          (None, 20, 100, 100, 8)   656       \n",
      "                                                                 \n",
      " activation_41 (Activation)  (None, 20, 100, 100, 8)   0         \n",
      "                                                                 \n",
      " batch_normalization_59 (Bat  (None, 20, 100, 100, 8)  32        \n",
      " chNormalization)                                                \n",
      "                                                                 \n",
      " max_pooling3d_41 (MaxPoolin  (None, 10, 50, 50, 8)    0         \n",
      " g3D)                                                            \n",
      "                                                                 \n",
      " conv3d_43 (Conv3D)          (None, 10, 50, 50, 16)    3472      \n",
      "                                                                 \n",
      " activation_42 (Activation)  (None, 10, 50, 50, 16)    0         \n",
      "                                                                 \n",
      " batch_normalization_60 (Bat  (None, 10, 50, 50, 16)   64        \n",
      " chNormalization)                                                \n",
      "                                                                 \n",
      " max_pooling3d_42 (MaxPoolin  (None, 5, 25, 25, 16)    0         \n",
      " g3D)                                                            \n",
      "                                                                 \n",
      " conv3d_44 (Conv3D)          (None, 5, 25, 25, 32)     13856     \n",
      "                                                                 \n",
      " activation_43 (Activation)  (None, 5, 25, 25, 32)     0         \n",
      "                                                                 \n",
      " batch_normalization_61 (Bat  (None, 5, 25, 25, 32)    128       \n",
      " chNormalization)                                                \n",
      "                                                                 \n",
      " max_pooling3d_43 (MaxPoolin  (None, 2, 12, 12, 32)    0         \n",
      " g3D)                                                            \n",
      "                                                                 \n",
      " conv3d_45 (Conv3D)          (None, 2, 12, 12, 64)     55360     \n",
      "                                                                 \n",
      " activation_44 (Activation)  (None, 2, 12, 12, 64)     0         \n",
      "                                                                 \n",
      " batch_normalization_62 (Bat  (None, 2, 12, 12, 64)    256       \n",
      " chNormalization)                                                \n",
      "                                                                 \n",
      " max_pooling3d_44 (MaxPoolin  (None, 1, 6, 6, 64)      0         \n",
      " g3D)                                                            \n",
      "                                                                 \n",
      " flatten_10 (Flatten)        (None, 2304)              0         \n",
      "                                                                 \n",
      " dense_26 (Dense)            (None, 64)                147520    \n",
      "                                                                 \n",
      " batch_normalization_63 (Bat  (None, 64)               256       \n",
      " chNormalization)                                                \n",
      "                                                                 \n",
      " dropout_16 (Dropout)        (None, 64)                0         \n",
      "                                                                 \n",
      " dense_27 (Dense)            (None, 64)                4160      \n",
      "                                                                 \n",
      " batch_normalization_64 (Bat  (None, 64)               256       \n",
      " chNormalization)                                                \n",
      "                                                                 \n",
      " dropout_17 (Dropout)        (None, 64)                0         \n",
      "                                                                 \n",
      " dense_28 (Dense)            (None, 5)                 325       \n",
      "                                                                 \n",
      "=================================================================\n",
      "Total params: 226,341\n",
      "Trainable params: 225,845\n",
      "Non-trainable params: 496\n",
      "_________________________________________________________________\n",
      "None\n",
      "Total Params in model: 226341\n"
     ]
    }
   ],
   "source": [
    "modelConv3D_1 = Sequential()\n",
    "modelConv3D_1.add(Conv3D(8, (3,3,3), padding=\"same\", input_shape=(20, 100, 100, 3)))\n",
    "modelConv3D_1.add(Activation(\"relu\"))\n",
    "modelConv3D_1.add(BatchNormalization())\n",
    "modelConv3D_1.add(MaxPooling3D(pool_size=(2, 2, 2)))\n",
    "\n",
    "modelConv3D_1.add(Conv3D(16, (3,3,3), padding=\"same\"))\n",
    "modelConv3D_1.add(Activation(\"relu\"))\n",
    "modelConv3D_1.add(BatchNormalization())\n",
    "modelConv3D_1.add(MaxPooling3D(pool_size=(2, 2, 2)))\n",
    "\n",
    "\n",
    "modelConv3D_1.add(Conv3D(32, (3,3,3), padding=\"same\"))\n",
    "modelConv3D_1.add(Activation(\"relu\"))\n",
    "modelConv3D_1.add(BatchNormalization())\n",
    "modelConv3D_1.add(MaxPooling3D(pool_size=(2, 2, 2)))\n",
    "\n",
    "\n",
    "modelConv3D_1.add(Conv3D(64, (3,3,3), padding=\"same\"))\n",
    "modelConv3D_1.add(Activation(\"relu\"))\n",
    "modelConv3D_1.add(BatchNormalization())\n",
    "modelConv3D_1.add(MaxPooling3D(pool_size=(2, 2, 2)))\n",
    "\n",
    "modelConv3D_1.add(Flatten())\n",
    "modelConv3D_1.add(Dense(64, activation='relu'))\n",
    "modelConv3D_1.add(BatchNormalization())\n",
    "modelConv3D_1.add(Dropout(0.25))\n",
    "\n",
    "modelConv3D_1.add(Dense(64, activation='relu'))\n",
    "modelConv3D_1.add(BatchNormalization())\n",
    "modelConv3D_1.add(Dropout(0.25))\n",
    "\n",
    "modelConv3D_1.add(Dense(5, activation='softmax'))\n",
    "\n",
    "optimiser = tf.optimizers.Adam(lr=0.0002, decay=1e-6)\n",
    "\n",
    "# compile model :\n",
    "modelConv3D_1.compile(optimizer=optimiser, loss='categorical_crossentropy', metrics=['categorical_accuracy'])\n",
    "\n",
    "# Print the model summary :\n",
    "print (modelConv3D_1.summary())\n",
    "print(\"Total Params in model:\", modelConv3D_1.count_params())\n"
   ]
  },
  {
   "cell_type": "code",
   "execution_count": 79,
   "metadata": {
    "scrolled": true
   },
   "outputs": [
    {
     "name": "stdout",
     "output_type": "stream",
     "text": [
      "Model: \"sequential_12\"\n",
      "_________________________________________________________________\n",
      " Layer (type)                Output Shape              Param #   \n",
      "=================================================================\n",
      " conv3d_42 (Conv3D)          (None, 20, 100, 100, 8)   656       \n",
      "                                                                 \n",
      " activation_41 (Activation)  (None, 20, 100, 100, 8)   0         \n",
      "                                                                 \n",
      " batch_normalization_59 (Bat  (None, 20, 100, 100, 8)  32        \n",
      " chNormalization)                                                \n",
      "                                                                 \n",
      " max_pooling3d_41 (MaxPoolin  (None, 10, 50, 50, 8)    0         \n",
      " g3D)                                                            \n",
      "                                                                 \n",
      " conv3d_43 (Conv3D)          (None, 10, 50, 50, 16)    3472      \n",
      "                                                                 \n",
      " activation_42 (Activation)  (None, 10, 50, 50, 16)    0         \n",
      "                                                                 \n",
      " batch_normalization_60 (Bat  (None, 10, 50, 50, 16)   64        \n",
      " chNormalization)                                                \n",
      "                                                                 \n",
      " max_pooling3d_42 (MaxPoolin  (None, 5, 25, 25, 16)    0         \n",
      " g3D)                                                            \n",
      "                                                                 \n",
      " conv3d_44 (Conv3D)          (None, 5, 25, 25, 32)     13856     \n",
      "                                                                 \n",
      " activation_43 (Activation)  (None, 5, 25, 25, 32)     0         \n",
      "                                                                 \n",
      " batch_normalization_61 (Bat  (None, 5, 25, 25, 32)    128       \n",
      " chNormalization)                                                \n",
      "                                                                 \n",
      " max_pooling3d_43 (MaxPoolin  (None, 2, 12, 12, 32)    0         \n",
      " g3D)                                                            \n",
      "                                                                 \n",
      " conv3d_45 (Conv3D)          (None, 2, 12, 12, 64)     55360     \n",
      "                                                                 \n",
      " activation_44 (Activation)  (None, 2, 12, 12, 64)     0         \n",
      "                                                                 \n",
      " batch_normalization_62 (Bat  (None, 2, 12, 12, 64)    256       \n",
      " chNormalization)                                                \n",
      "                                                                 \n",
      " max_pooling3d_44 (MaxPoolin  (None, 1, 6, 6, 64)      0         \n",
      " g3D)                                                            \n",
      "                                                                 \n",
      " flatten_10 (Flatten)        (None, 2304)              0         \n",
      "                                                                 \n",
      " dense_26 (Dense)            (None, 64)                147520    \n",
      "                                                                 \n",
      " batch_normalization_63 (Bat  (None, 64)               256       \n",
      " chNormalization)                                                \n",
      "                                                                 \n",
      " dropout_16 (Dropout)        (None, 64)                0         \n",
      "                                                                 \n",
      " dense_27 (Dense)            (None, 64)                4160      \n",
      "                                                                 \n",
      " batch_normalization_64 (Bat  (None, 64)               256       \n",
      " chNormalization)                                                \n",
      "                                                                 \n",
      " dropout_17 (Dropout)        (None, 64)                0         \n",
      "                                                                 \n",
      " dense_28 (Dense)            (None, 5)                 325       \n",
      "                                                                 \n",
      "=================================================================\n",
      "Total params: 226,341\n",
      "Trainable params: 225,845\n",
      "Non-trainable params: 496\n",
      "_________________________________________________________________\n",
      "None\n"
     ]
    }
   ],
   "source": [
    "#optimiser = #write your optimizer\n",
    "modelConv3D_1.compile(optimizer=optimiser, loss='categorical_crossentropy', metrics=['categorical_accuracy'])\n",
    "print (modelConv3D_1.summary())"
   ]
  },
  {
   "cell_type": "markdown",
   "metadata": {},
   "source": [
    "Let us create the `train_generator` and the `val_generator` which will be used in `.fit_generator`."
   ]
  },
  {
   "cell_type": "code",
   "execution_count": 80,
   "metadata": {},
   "outputs": [],
   "source": [
    "train_generator = generator(train_path, train_doc, batch_size)\n",
    "val_generator = generator(val_path, val_doc, batch_size)"
   ]
  },
  {
   "cell_type": "code",
   "execution_count": 81,
   "metadata": {},
   "outputs": [
    {
     "name": "stdout",
     "output_type": "stream",
     "text": [
      "WARNING:tensorflow:`period` argument is deprecated. Please use `save_freq` to specify the frequency in number of batches seen.\n"
     ]
    }
   ],
   "source": [
    "model_name = 'model_init' + '_' + str(curr_dt_time).replace(' ','').replace(':','_') + '/'\n",
    "    \n",
    "if not os.path.exists(model_name):\n",
    "    os.mkdir(model_name)\n",
    "        \n",
    "filepath = model_name + 'model-{epoch:05d}-{loss:.5f}-{categorical_accuracy:.5f}-{val_loss:.5f}-{val_categorical_accuracy:.5f}.h5'\n",
    "\n",
    "checkpoint = ModelCheckpoint(filepath, monitor='val_loss', verbose=1, save_best_only=False, save_weights_only=False, mode='auto', period=1)\n",
    "\n",
    "#LR = # write the REducelronplateau code here\n",
    "LR = ReduceLROnPlateau(monitor='val_loss', factor=0.2, patience=3, verbose=1)\n",
    "\n",
    "callbacks_list = [checkpoint, LR]"
   ]
  },
  {
   "cell_type": "markdown",
   "metadata": {},
   "source": [
    "The `steps_per_epoch` and `validation_steps` are used by `fit_generator` to decide the number of next() calls it need to make."
   ]
  },
  {
   "cell_type": "code",
   "execution_count": 82,
   "metadata": {},
   "outputs": [],
   "source": [
    "if (num_train_sequences%batch_size) == 0:\n",
    "    steps_per_epoch = int(num_train_sequences/batch_size)\n",
    "else:\n",
    "    steps_per_epoch = (num_train_sequences//batch_size) + 1\n",
    "\n",
    "if (num_val_sequences%batch_size) == 0:\n",
    "    validation_steps = int(num_val_sequences/batch_size)\n",
    "else:\n",
    "    validation_steps = (num_val_sequences//batch_size) + 1"
   ]
  },
  {
   "cell_type": "markdown",
   "metadata": {},
   "source": [
    "Let us now fit the model. This will start training the model and with the help of the checkpoints, you'll be able to save the model at the end of each epoch."
   ]
  },
  {
   "cell_type": "code",
   "execution_count": 84,
   "metadata": {},
   "outputs": [
    {
     "name": "stderr",
     "output_type": "stream",
     "text": [
      "/tmp/ipykernel_203/2262592253.py:1: UserWarning: `Model.fit_generator` is deprecated and will be removed in a future version. Please use `Model.fit`, which supports generators.\n",
      "  model1History = modelConv3D_1.fit_generator(train_generator, steps_per_epoch=steps_per_epoch, epochs=num_epochs, verbose=1,\n",
      "/tmp/ipykernel_203/164759091.py:15: DeprecationWarning:     `imread` is deprecated!\n",
      "    `imread` is deprecated in SciPy 1.0.0, and will be removed in 1.2.0.\n",
      "    Use ``imageio.imread`` instead.\n",
      "  image = imread(source_path+'/'+ t[folder + (batch*batch_size)].strip().split(';')[0]+'/'+imgs[item]).astype(np.float32)\n"
     ]
    },
    {
     "name": "stdout",
     "output_type": "stream",
     "text": [
      "Epoch 1/5\n",
      "25/27 [==========================>...] - ETA: 2s - loss: 1.2413 - categorical_accuracy: 0.5200"
     ]
    },
    {
     "name": "stderr",
     "output_type": "stream",
     "text": [
      "/tmp/ipykernel_203/164759091.py:42: DeprecationWarning:     `imread` is deprecated!\n",
      "    `imread` is deprecated in SciPy 1.0.0, and will be removed in 1.2.0.\n",
      "    Use ``imageio.imread`` instead.\n",
      "  image = imread(source_path+'/'+ t[folder + (num_batches*batch_size)].strip().split(';')[0]+'/'+imgs[item]).astype(np.float32)\n"
     ]
    },
    {
     "name": "stdout",
     "output_type": "stream",
     "text": [
      "27/27 [==============================] - ETA: 0s - loss: 1.2466 - categorical_accuracy: 0.5173\n",
      "Epoch 00001: saving model to model_init_2024-11-0510_55_23.161267/model-00001-1.24661-0.51735-2.27099-0.14000.h5\n",
      "27/27 [==============================] - 36s 1s/step - loss: 1.2466 - categorical_accuracy: 0.5173 - val_loss: 2.2710 - val_categorical_accuracy: 0.1400 - lr: 4.0000e-05\n",
      "Epoch 2/5\n",
      "27/27 [==============================] - ETA: 0s - loss: 1.2323 - categorical_accuracy: 0.5038\n",
      "Epoch 00002: saving model to model_init_2024-11-0510_55_23.161267/model-00002-1.23227-0.50377-2.19938-0.21000.h5\n",
      "27/27 [==============================] - 36s 1s/step - loss: 1.2323 - categorical_accuracy: 0.5038 - val_loss: 2.1994 - val_categorical_accuracy: 0.2100 - lr: 4.0000e-05\n",
      "Epoch 3/5\n",
      "27/27 [==============================] - ETA: 0s - loss: 1.1517 - categorical_accuracy: 0.5535\n",
      "Epoch 00003: saving model to model_init_2024-11-0510_55_23.161267/model-00003-1.15171-0.55354-2.28031-0.24000.h5\n",
      "27/27 [==============================] - 36s 1s/step - loss: 1.1517 - categorical_accuracy: 0.5535 - val_loss: 2.2803 - val_categorical_accuracy: 0.2400 - lr: 4.0000e-05\n",
      "Epoch 4/5\n",
      "27/27 [==============================] - ETA: 0s - loss: 1.1982 - categorical_accuracy: 0.5294\n",
      "Epoch 00004: saving model to model_init_2024-11-0510_55_23.161267/model-00004-1.19825-0.52941-2.32908-0.21000.h5\n",
      "27/27 [==============================] - 36s 1s/step - loss: 1.1982 - categorical_accuracy: 0.5294 - val_loss: 2.3291 - val_categorical_accuracy: 0.2100 - lr: 4.0000e-05\n",
      "Epoch 5/5\n",
      "27/27 [==============================] - ETA: 0s - loss: 1.1120 - categorical_accuracy: 0.5913\n",
      "Epoch 00005: saving model to model_init_2024-11-0510_55_23.161267/model-00005-1.11199-0.59125-2.31359-0.18000.h5\n",
      "\n",
      "Epoch 00005: ReduceLROnPlateau reducing learning rate to 7.999999797903002e-06.\n",
      "27/27 [==============================] - 37s 1s/step - loss: 1.1120 - categorical_accuracy: 0.5913 - val_loss: 2.3136 - val_categorical_accuracy: 0.1800 - lr: 4.0000e-05\n"
     ]
    }
   ],
   "source": [
    "model1History = modelConv3D_1.fit_generator(train_generator, steps_per_epoch=steps_per_epoch, epochs=num_epochs, verbose=1, \n",
    "                    callbacks=callbacks_list, validation_data=val_generator, \n",
    "                    validation_steps=validation_steps, class_weight=None, workers=1, initial_epoch=0)"
   ]
  },
  {
   "cell_type": "code",
   "execution_count": 87,
   "metadata": {},
   "outputs": [
    {
     "data": {
      "image/png": "[encoded data removed]",
      "text/plain": [
       "<Figure size 432x288 with 1 Axes>"
      ]
     },
     "metadata": {
      "needs_background": "light"
     },
     "output_type": "display_data"
    },
    {
     "data": {
      "image/png": "[encoded data removed]",
      "text/plain": [
       "<Figure size 432x288 with 1 Axes>"
      ]
     },
     "metadata": {
      "needs_background": "light"
     },
     "output_type": "display_data"
    }
   ],
   "source": [
    "# Plotting the result of Model 1 :\n",
    "\n",
    "# summarize history for accuracy\n",
    "plt.plot(model1History.history['categorical_accuracy'])\n",
    "plt.plot(model1History.history['val_categorical_accuracy'])\n",
    "plt.title('model accuracy')\n",
    "plt.ylabel('accuracy')\n",
    "plt.xlabel('epoch')\n",
    "plt.legend(['train', 'test'], loc='upper left')\n",
    "plt.show()\n",
    "\n",
    "# summarize history for loss\n",
    "plt.plot(model1History.history['loss'])\n",
    "plt.plot(model1History.history['val_loss'])\n",
    "plt.title('model loss')\n",
    "plt.ylabel('loss')\n",
    "plt.xlabel('epoch')\n",
    "plt.legend(['train', 'test'], loc='upper left')\n",
    "plt.show()"
   ]
  },
  {
   "cell_type": "markdown",
   "metadata": {},
   "source": [
    "Second Base Model : Conv 3D Model with 20 epochs, 50 batch size Without dropouts in Conv layer and with batch normalization Input image size 100X100 , adam optimiser with learning rate 0.0002 without decay, 20 images as input out of 30. Dropout changed to 0.5\n",
    "\n",
    "Now that you have written the model, the next step is to compile the model. When you print the summary of the model, you'll see the total number of parameters you have to train."
   ]
  },
  {
   "cell_type": "code",
   "execution_count": 89,
   "metadata": {},
   "outputs": [
    {
     "name": "stdout",
     "output_type": "stream",
     "text": [
      "Model: \"sequential_13\"\n",
      "_________________________________________________________________\n",
      " Layer (type)                Output Shape              Param #   \n",
      "=================================================================\n",
      " conv3d_46 (Conv3D)          (None, 20, 100, 100, 8)   656       \n",
      "                                                                 \n",
      " activation_45 (Activation)  (None, 20, 100, 100, 8)   0         \n",
      "                                                                 \n",
      " batch_normalization_65 (Bat  (None, 20, 100, 100, 8)  32        \n",
      " chNormalization)                                                \n",
      "                                                                 \n",
      " max_pooling3d_45 (MaxPoolin  (None, 10, 50, 50, 8)    0         \n",
      " g3D)                                                            \n",
      "                                                                 \n",
      " conv3d_47 (Conv3D)          (None, 10, 50, 50, 16)    3472      \n",
      "                                                                 \n",
      " activation_46 (Activation)  (None, 10, 50, 50, 16)    0         \n",
      "                                                                 \n",
      " batch_normalization_66 (Bat  (None, 10, 50, 50, 16)   64        \n",
      " chNormalization)                                                \n",
      "                                                                 \n",
      " max_pooling3d_46 (MaxPoolin  (None, 5, 25, 25, 16)    0         \n",
      " g3D)                                                            \n",
      "                                                                 \n",
      " conv3d_48 (Conv3D)          (None, 5, 25, 25, 32)     13856     \n",
      "                                                                 \n",
      " activation_47 (Activation)  (None, 5, 25, 25, 32)     0         \n",
      "                                                                 \n",
      " batch_normalization_67 (Bat  (None, 5, 25, 25, 32)    128       \n",
      " chNormalization)                                                \n",
      "                                                                 \n",
      " max_pooling3d_47 (MaxPoolin  (None, 2, 12, 12, 32)    0         \n",
      " g3D)                                                            \n",
      "                                                                 \n",
      " conv3d_49 (Conv3D)          (None, 2, 12, 12, 64)     55360     \n",
      "                                                                 \n",
      " activation_48 (Activation)  (None, 2, 12, 12, 64)     0         \n",
      "                                                                 \n",
      " batch_normalization_68 (Bat  (None, 2, 12, 12, 64)    256       \n",
      " chNormalization)                                                \n",
      "                                                                 \n",
      " max_pooling3d_48 (MaxPoolin  (None, 1, 6, 6, 64)      0         \n",
      " g3D)                                                            \n",
      "                                                                 \n",
      " flatten_11 (Flatten)        (None, 2304)              0         \n",
      "                                                                 \n",
      " dense_29 (Dense)            (None, 64)                147520    \n",
      "                                                                 \n",
      " batch_normalization_69 (Bat  (None, 64)               256       \n",
      " chNormalization)                                                \n",
      "                                                                 \n",
      " dropout_18 (Dropout)        (None, 64)                0         \n",
      "                                                                 \n",
      " dense_30 (Dense)            (None, 64)                4160      \n",
      "                                                                 \n",
      " batch_normalization_70 (Bat  (None, 64)               256       \n",
      " chNormalization)                                                \n",
      "                                                                 \n",
      " dropout_19 (Dropout)        (None, 64)                0         \n",
      "                                                                 \n",
      " dense_31 (Dense)            (None, 5)                 325       \n",
      "                                                                 \n",
      "=================================================================\n",
      "Total params: 226,341\n",
      "Trainable params: 225,845\n",
      "Non-trainable params: 496\n",
      "_________________________________________________________________\n",
      "None\n",
      "Total Params in model: 226341\n"
     ]
    },
    {
     "name": "stderr",
     "output_type": "stream",
     "text": [
      "/usr/local/lib/python3.8/dist-packages/keras/optimizer_v2/adam.py:105: UserWarning: The `lr` argument is deprecated, use `learning_rate` instead.\n",
      "  super(Adam, self).__init__(name, **kwargs)\n"
     ]
    }
   ],
   "source": [
    "modelConv3D_2 = Sequential()\n",
    "modelConv3D_2.add(Conv3D(8, (3,3,3), padding=\"same\", input_shape=(20, 100, 100, 3)))\n",
    "modelConv3D_2.add(Activation(\"relu\"))\n",
    "modelConv3D_2.add(BatchNormalization())\n",
    "modelConv3D_2.add(MaxPooling3D(pool_size=(2, 2, 2)))\n",
    "\n",
    "modelConv3D_2.add(Conv3D(16, (3,3,3), padding=\"same\"))\n",
    "modelConv3D_2.add(Activation(\"relu\"))\n",
    "modelConv3D_2.add(BatchNormalization())\n",
    "modelConv3D_2.add(MaxPooling3D(pool_size=(2, 2, 2)))\n",
    "\n",
    "\n",
    "modelConv3D_2.add(Conv3D(32, (3,3,3), padding=\"same\"))\n",
    "modelConv3D_2.add(Activation(\"relu\"))\n",
    "modelConv3D_2.add(BatchNormalization())\n",
    "modelConv3D_2.add(MaxPooling3D(pool_size=(2, 2, 2)))\n",
    "\n",
    "\n",
    "modelConv3D_2.add(Conv3D(64, (3,3,3), padding=\"same\"))\n",
    "modelConv3D_2.add(Activation(\"relu\"))\n",
    "modelConv3D_2.add(BatchNormalization())\n",
    "modelConv3D_2.add(MaxPooling3D(pool_size=(2, 2, 2)))\n",
    "\n",
    "modelConv3D_2.add(Flatten())\n",
    "modelConv3D_2.add(Dense(64, activation='relu'))\n",
    "modelConv3D_2.add(BatchNormalization())\n",
    "modelConv3D_2.add(Dropout(0.5))\n",
    "\n",
    "modelConv3D_2.add(Dense(64, activation='relu'))\n",
    "modelConv3D_2.add(BatchNormalization())\n",
    "modelConv3D_2.add(Dropout(0.5))\n",
    "\n",
    "modelConv3D_2.add(Dense(5, activation='softmax'))\n",
    "\n",
    "optimiser = tf.optimizers.Adam(lr=0.0002)\n",
    "\n",
    "# compile model :\n",
    "modelConv3D_2.compile(optimizer=optimiser, loss='categorical_crossentropy', metrics=['categorical_accuracy'])\n",
    "\n",
    "# Print the model summary :\n",
    "print (modelConv3D_2.summary())\n",
    "print(\"Total Params in model:\", modelConv3D_2.count_params())\n"
   ]
  },
  {
   "cell_type": "code",
   "execution_count": 90,
   "metadata": {},
   "outputs": [
    {
     "name": "stdout",
     "output_type": "stream",
     "text": [
      "WARNING:tensorflow:`period` argument is deprecated. Please use `save_freq` to specify the frequency in number of batches seen.\n"
     ]
    }
   ],
   "source": [
    "batch_size = 50\n",
    "num_epochs = 20\n",
    "train_generator = generator(train_path, train_doc, batch_size)\n",
    "val_generator = generator(val_path, val_doc, batch_size)\n",
    "\n",
    "model_name = 'model_init' + '_' + str(curr_dt_time).replace(' ','').replace(':','_') + '/'\n",
    "    \n",
    "if not os.path.exists(model_name):\n",
    "    os.mkdir(model_name)\n",
    "        \n",
    "filepath = model_name + 'model-{epoch:05d}-{loss:.5f}-{categorical_accuracy:.5f}-{val_loss:.5f}-{val_categorical_accuracy:.5f}.h5'\n",
    "\n",
    "checkpoint = ModelCheckpoint(filepath, monitor='val_loss', verbose=1, save_best_only=False, save_weights_only=False, mode='auto', period=1)\n",
    "\n",
    "# write the REducelronplateau code here\n",
    "LR = ReduceLROnPlateau(monitor='val_loss', factor=0.2, patience=4, verbose =1 )\n",
    "\n",
    "callbacks_list = [checkpoint, LR]\n",
    "\n",
    "if (num_train_sequences%batch_size) == 0:\n",
    "    steps_per_epoch = int(num_train_sequences/batch_size)\n",
    "else:\n",
    "    steps_per_epoch = (num_train_sequences//batch_size) + 1\n",
    "\n",
    "if (num_val_sequences%batch_size) == 0:\n",
    "    validation_steps = int(num_val_sequences/batch_size)\n",
    "else:\n",
    "    validation_steps = (num_val_sequences//batch_size) + 1"
   ]
  },
  {
   "cell_type": "code",
   "execution_count": 92,
   "metadata": {},
   "outputs": [
    {
     "name": "stderr",
     "output_type": "stream",
     "text": [
      "/tmp/ipykernel_203/254883775.py:1: UserWarning: `Model.fit_generator` is deprecated and will be removed in a future version. Please use `Model.fit`, which supports generators.\n",
      "  model2History = modelConv3D_2.fit_generator(train_generator, steps_per_epoch=steps_per_epoch, epochs=num_epochs, verbose=1,\n",
      "/tmp/ipykernel_203/164759091.py:15: DeprecationWarning:     `imread` is deprecated!\n",
      "    `imread` is deprecated in SciPy 1.0.0, and will be removed in 1.2.0.\n",
      "    Use ``imageio.imread`` instead.\n",
      "  image = imread(source_path+'/'+ t[folder + (batch*batch_size)].strip().split(';')[0]+'/'+imgs[item]).astype(np.float32)\n"
     ]
    },
    {
     "name": "stdout",
     "output_type": "stream",
     "text": [
      "Epoch 1/20\n",
      "11/14 [======================>.......] - ETA: 6s - loss: 2.5370 - categorical_accuracy: 0.2273"
     ]
    },
    {
     "name": "stderr",
     "output_type": "stream",
     "text": [
      "/tmp/ipykernel_203/164759091.py:42: DeprecationWarning:     `imread` is deprecated!\n",
      "    `imread` is deprecated in SciPy 1.0.0, and will be removed in 1.2.0.\n",
      "    Use ``imageio.imread`` instead.\n",
      "  image = imread(source_path+'/'+ t[folder + (num_batches*batch_size)].strip().split(';')[0]+'/'+imgs[item]).astype(np.float32)\n"
     ]
    },
    {
     "name": "stdout",
     "output_type": "stream",
     "text": [
      "14/14 [==============================] - ETA: 0s - loss: 2.4700 - categorical_accuracy: 0.2383Source path =  /datasets/Project_data/val ; batch size = 50\n",
      "\n",
      "Epoch 00001: saving model to model_init_2024-11-0510_55_23.161267/model-00001-2.46996-0.23831-1.62256-0.21000.h5\n",
      "14/14 [==============================] - 37s 3s/step - loss: 2.4700 - categorical_accuracy: 0.2383 - val_loss: 1.6226 - val_categorical_accuracy: 0.2100 - lr: 2.0000e-04\n",
      "Epoch 2/20\n",
      "14/14 [==============================] - ETA: 0s - loss: 2.3580 - categorical_accuracy: 0.2730\n",
      "Epoch 00002: saving model to model_init_2024-11-0510_55_23.161267/model-00002-2.35799-0.27300-1.69005-0.15000.h5\n",
      "14/14 [==============================] - 36s 3s/step - loss: 2.3580 - categorical_accuracy: 0.2730 - val_loss: 1.6900 - val_categorical_accuracy: 0.1500 - lr: 2.0000e-04\n",
      "Epoch 3/20\n",
      "14/14 [==============================] - ETA: 0s - loss: 2.0721 - categorical_accuracy: 0.3484\n",
      "Epoch 00003: saving model to model_init_2024-11-0510_55_23.161267/model-00003-2.07209-0.34842-1.72013-0.21000.h5\n",
      "14/14 [==============================] - 37s 3s/step - loss: 2.0721 - categorical_accuracy: 0.3484 - val_loss: 1.7201 - val_categorical_accuracy: 0.2100 - lr: 2.0000e-04\n",
      "Epoch 4/20\n",
      "14/14 [==============================] - ETA: 0s - loss: 2.0337 - categorical_accuracy: 0.3424\n",
      "Epoch 00004: saving model to model_init_2024-11-0510_55_23.161267/model-00004-2.03372-0.34238-1.75112-0.21000.h5\n",
      "14/14 [==============================] - 36s 3s/step - loss: 2.0337 - categorical_accuracy: 0.3424 - val_loss: 1.7511 - val_categorical_accuracy: 0.2100 - lr: 2.0000e-04\n",
      "Epoch 5/20\n",
      "14/14 [==============================] - ETA: 0s - loss: 2.0596 - categorical_accuracy: 0.3047\n",
      "Epoch 00005: saving model to model_init_2024-11-0510_55_23.161267/model-00005-2.05964-0.30468-1.81990-0.21000.h5\n",
      "\n",
      "Epoch 00005: ReduceLROnPlateau reducing learning rate to 3.9999998989515007e-05.\n",
      "14/14 [==============================] - 37s 3s/step - loss: 2.0596 - categorical_accuracy: 0.3047 - val_loss: 1.8199 - val_categorical_accuracy: 0.2100 - lr: 2.0000e-04\n",
      "Epoch 6/20\n",
      "14/14 [==============================] - ETA: 0s - loss: 1.7999 - categorical_accuracy: 0.3771\n",
      "Epoch 00006: saving model to model_init_2024-11-0510_55_23.161267/model-00006-1.79995-0.37707-1.90765-0.18000.h5\n",
      "14/14 [==============================] - 36s 3s/step - loss: 1.7999 - categorical_accuracy: 0.3771 - val_loss: 1.9076 - val_categorical_accuracy: 0.1800 - lr: 4.0000e-05\n",
      "Epoch 7/20\n",
      "14/14 [==============================] - ETA: 0s - loss: 2.0619 - categorical_accuracy: 0.3107\n",
      "Epoch 00007: saving model to model_init_2024-11-0510_55_23.161267/model-00007-2.06194-0.31071-1.94891-0.21000.h5\n",
      "14/14 [==============================] - 36s 3s/step - loss: 2.0619 - categorical_accuracy: 0.3107 - val_loss: 1.9489 - val_categorical_accuracy: 0.2100 - lr: 4.0000e-05\n",
      "Epoch 8/20\n",
      "14/14 [==============================] - ETA: 0s - loss: 1.8933 - categorical_accuracy: 0.3575\n",
      "Epoch 00008: saving model to model_init_2024-11-0510_55_23.161267/model-00008-1.89329-0.35747-2.03082-0.20000.h5\n",
      "14/14 [==============================] - 36s 3s/step - loss: 1.8933 - categorical_accuracy: 0.3575 - val_loss: 2.0308 - val_categorical_accuracy: 0.2000 - lr: 4.0000e-05\n",
      "Epoch 9/20\n",
      "14/14 [==============================] - ETA: 0s - loss: 1.7740 - categorical_accuracy: 0.3725\n",
      "Epoch 00009: saving model to model_init_2024-11-0510_55_23.161267/model-00009-1.77401-0.37255-2.08184-0.21000.h5\n",
      "\n",
      "Epoch 00009: ReduceLROnPlateau reducing learning rate to 7.999999797903002e-06.\n",
      "14/14 [==============================] - 37s 3s/step - loss: 1.7740 - categorical_accuracy: 0.3725 - val_loss: 2.0818 - val_categorical_accuracy: 0.2100 - lr: 4.0000e-05\n",
      "Epoch 10/20\n",
      "14/14 [==============================] - ETA: 0s - loss: 1.7756 - categorical_accuracy: 0.3967\n",
      "Epoch 00010: saving model to model_init_2024-11-0510_55_23.161267/model-00010-1.77564-0.39668-2.22135-0.17000.h5\n",
      "14/14 [==============================] - 36s 3s/step - loss: 1.7756 - categorical_accuracy: 0.3967 - val_loss: 2.2214 - val_categorical_accuracy: 0.1700 - lr: 8.0000e-06\n",
      "Epoch 11/20\n",
      "14/14 [==============================] - ETA: 0s - loss: 1.8219 - categorical_accuracy: 0.3876\n",
      "Epoch 00011: saving model to model_init_2024-11-0510_55_23.161267/model-00011-1.82186-0.38763-2.20664-0.21000.h5\n",
      "14/14 [==============================] - 36s 3s/step - loss: 1.8219 - categorical_accuracy: 0.3876 - val_loss: 2.2066 - val_categorical_accuracy: 0.2100 - lr: 8.0000e-06\n",
      "Epoch 12/20\n",
      "14/14 [==============================] - ETA: 0s - loss: 1.8234 - categorical_accuracy: 0.3861\n",
      "Epoch 00012: saving model to model_init_2024-11-0510_55_23.161267/model-00012-1.82343-0.38612-2.28969-0.21000.h5\n",
      "14/14 [==============================] - 37s 3s/step - loss: 1.8234 - categorical_accuracy: 0.3861 - val_loss: 2.2897 - val_categorical_accuracy: 0.2100 - lr: 8.0000e-06\n",
      "Epoch 13/20\n",
      "14/14 [==============================] - ETA: 0s - loss: 1.7514 - categorical_accuracy: 0.4223\n",
      "Epoch 00013: saving model to model_init_2024-11-0510_55_23.161267/model-00013-1.75142-0.42232-2.31011-0.21000.h5\n",
      "\n",
      "Epoch 00013: ReduceLROnPlateau reducing learning rate to 1.5999999959603884e-06.\n",
      "14/14 [==============================] - 36s 3s/step - loss: 1.7514 - categorical_accuracy: 0.4223 - val_loss: 2.3101 - val_categorical_accuracy: 0.2100 - lr: 8.0000e-06\n",
      "Epoch 14/20\n",
      "14/14 [==============================] - ETA: 0s - loss: 1.7867 - categorical_accuracy: 0.3650\n",
      "Epoch 00014: saving model to model_init_2024-11-0510_55_23.161267/model-00014-1.78674-0.36501-2.26413-0.23000.h5\n",
      "14/14 [==============================] - 37s 3s/step - loss: 1.7867 - categorical_accuracy: 0.3650 - val_loss: 2.2641 - val_categorical_accuracy: 0.2300 - lr: 1.6000e-06\n",
      "Epoch 15/20\n",
      "14/14 [==============================] - ETA: 0s - loss: 1.8259 - categorical_accuracy: 0.3575\n",
      "Epoch 00015: saving model to model_init_2024-11-0510_55_23.161267/model-00015-1.82594-0.35747-2.36273-0.21000.h5\n",
      "14/14 [==============================] - 37s 3s/step - loss: 1.8259 - categorical_accuracy: 0.3575 - val_loss: 2.3627 - val_categorical_accuracy: 0.2100 - lr: 1.6000e-06\n",
      "Epoch 16/20\n",
      "14/14 [==============================] - ETA: 0s - loss: 1.7865 - categorical_accuracy: 0.3967\n",
      "Epoch 00016: saving model to model_init_2024-11-0510_55_23.161267/model-00016-1.78649-0.39668-2.31655-0.25000.h5\n",
      "14/14 [==============================] - 36s 3s/step - loss: 1.7865 - categorical_accuracy: 0.3967 - val_loss: 2.3166 - val_categorical_accuracy: 0.2500 - lr: 1.6000e-06\n",
      "Epoch 17/20\n",
      "14/14 [==============================] - ETA: 0s - loss: 1.8117 - categorical_accuracy: 0.3620\n",
      "Epoch 00017: saving model to model_init_2024-11-0510_55_23.161267/model-00017-1.81171-0.36199-2.38227-0.21000.h5\n",
      "\n",
      "Epoch 00017: ReduceLROnPlateau reducing learning rate to 3.200000037395512e-07.\n",
      "14/14 [==============================] - 36s 3s/step - loss: 1.8117 - categorical_accuracy: 0.3620 - val_loss: 2.3823 - val_categorical_accuracy: 0.2100 - lr: 1.6000e-06\n",
      "Epoch 18/20\n",
      "14/14 [==============================] - ETA: 0s - loss: 1.8541 - categorical_accuracy: 0.3741\n",
      "Epoch 00018: saving model to model_init_2024-11-0510_55_23.161267/model-00018-1.85412-0.37406-2.47492-0.19000.h5\n",
      "14/14 [==============================] - 37s 3s/step - loss: 1.8541 - categorical_accuracy: 0.3741 - val_loss: 2.4749 - val_categorical_accuracy: 0.1900 - lr: 3.2000e-07\n",
      "Epoch 19/20\n",
      "14/14 [==============================] - ETA: 0s - loss: 1.8439 - categorical_accuracy: 0.3680\n",
      "Epoch 00019: saving model to model_init_2024-11-0510_55_23.161267/model-00019-1.84391-0.36802-2.38353-0.22000.h5\n",
      "14/14 [==============================] - 36s 3s/step - loss: 1.8439 - categorical_accuracy: 0.3680 - val_loss: 2.3835 - val_categorical_accuracy: 0.2200 - lr: 3.2000e-07\n",
      "Epoch 20/20\n",
      "14/14 [==============================] - ETA: 0s - loss: 1.8232 - categorical_accuracy: 0.3514\n",
      "Epoch 00020: saving model to model_init_2024-11-0510_55_23.161267/model-00020-1.82318-0.35143-2.40368-0.21000.h5\n",
      "14/14 [==============================] - 36s 3s/step - loss: 1.8232 - categorical_accuracy: 0.3514 - val_loss: 2.4037 - val_categorical_accuracy: 0.2100 - lr: 3.2000e-07\n"
     ]
    }
   ],
   "source": [
    "model2History = modelConv3D_2.fit_generator(train_generator, steps_per_epoch=steps_per_epoch, epochs=num_epochs, verbose=1, \n",
    "                    callbacks=callbacks_list, validation_data=val_generator, \n",
    "                    validation_steps=validation_steps, class_weight=None, workers=1, initial_epoch=0)"
   ]
  }
 ],
 "metadata": {
  "kernelspec": {
   "display_name": "Python 3 (ipykernel)",
   "language": "python",
   "name": "python3"
  },
  "language_info": {
   "codemirror_mode": {
    "name": "ipython",
    "version": 3
   },
   "file_extension": ".py",
   "mimetype": "text/x-python",
   "name": "python",
   "nbconvert_exporter": "python",
   "pygments_lexer": "ipython3",
   "version": "3.8.10"
  }
 },
 "nbformat": 4,
 "nbformat_minor": 4
}
